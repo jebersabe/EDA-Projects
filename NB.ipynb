{
 "cells": [
  {
   "cell_type": "code",
   "execution_count": 1,
   "id": "574de52b",
   "metadata": {},
   "outputs": [],
   "source": [
    "folders = ['enron1','enron2','enron3']\n",
    "status = ['spam','ham']\n",
    "path1 = \"D:\\\\Cadetship\\\\IntroDS\\\\HW2\\\\apper-eda\\\\Notebooks\\\\data\\\\enron-data\\\\{folder}\\\\{status}\""
   ]
  },
  {
   "cell_type": "code",
   "execution_count": 2,
   "id": "fe11faf4",
   "metadata": {},
   "outputs": [],
   "source": [
    "from itertools import product"
   ]
  },
  {
   "cell_type": "code",
   "execution_count": 3,
   "id": "e48e2620",
   "metadata": {},
   "outputs": [],
   "source": [
    "directories = list(product(folders, status))"
   ]
  },
  {
   "cell_type": "code",
   "execution_count": 4,
   "id": "335d933a",
   "metadata": {
    "scrolled": true
   },
   "outputs": [
    {
     "data": {
      "text/plain": [
       "[('enron1', 'spam'),\n",
       " ('enron1', 'ham'),\n",
       " ('enron2', 'spam'),\n",
       " ('enron2', 'ham'),\n",
       " ('enron3', 'spam'),\n",
       " ('enron3', 'ham')]"
      ]
     },
     "execution_count": 4,
     "metadata": {},
     "output_type": "execute_result"
    }
   ],
   "source": [
    "directories"
   ]
  },
  {
   "cell_type": "code",
   "execution_count": 5,
   "id": "85009ca5",
   "metadata": {},
   "outputs": [
    {
     "data": {
      "text/plain": [
       "['D:\\\\Cadetship\\\\IntroDS\\\\HW2\\\\apper-eda\\\\Notebooks\\\\data\\\\enron-data\\\\enron1\\\\spam',\n",
       " 'D:\\\\Cadetship\\\\IntroDS\\\\HW2\\\\apper-eda\\\\Notebooks\\\\data\\\\enron-data\\\\enron1\\\\ham',\n",
       " 'D:\\\\Cadetship\\\\IntroDS\\\\HW2\\\\apper-eda\\\\Notebooks\\\\data\\\\enron-data\\\\enron2\\\\spam',\n",
       " 'D:\\\\Cadetship\\\\IntroDS\\\\HW2\\\\apper-eda\\\\Notebooks\\\\data\\\\enron-data\\\\enron2\\\\ham',\n",
       " 'D:\\\\Cadetship\\\\IntroDS\\\\HW2\\\\apper-eda\\\\Notebooks\\\\data\\\\enron-data\\\\enron3\\\\spam',\n",
       " 'D:\\\\Cadetship\\\\IntroDS\\\\HW2\\\\apper-eda\\\\Notebooks\\\\data\\\\enron-data\\\\enron3\\\\ham']"
      ]
     },
     "execution_count": 5,
     "metadata": {},
     "output_type": "execute_result"
    }
   ],
   "source": [
    "paths = []\n",
    "for i in directories:\n",
    "    paths.append(path1.format(folder=i[0],status=i[1]))\n",
    "paths"
   ]
  },
  {
   "cell_type": "code",
   "execution_count": 6,
   "id": "3f160246",
   "metadata": {},
   "outputs": [],
   "source": [
    "import glob"
   ]
  },
  {
   "cell_type": "code",
   "execution_count": 7,
   "id": "183a790b",
   "metadata": {},
   "outputs": [
    {
     "name": "stdout",
     "output_type": "stream",
     "text": [
      "1499\n",
      "3672\n",
      "1494\n",
      "4361\n",
      "1499\n",
      "4012\n"
     ]
    }
   ],
   "source": [
    "for path in paths: \n",
    "    print(len(glob.glob(pathname=path + '\\\\*')))"
   ]
  },
  {
   "cell_type": "code",
   "execution_count": 8,
   "id": "147ff234",
   "metadata": {
    "scrolled": true
   },
   "outputs": [],
   "source": [
    "file_paths = [glob.glob(pathname=path + '\\\\*') for path in paths]"
   ]
  },
  {
   "cell_type": "code",
   "execution_count": 9,
   "id": "b09d9eb0",
   "metadata": {},
   "outputs": [
    {
     "data": {
      "text/plain": [
       "['D:\\\\Cadetship\\\\IntroDS\\\\HW2\\\\apper-eda\\\\Notebooks\\\\data\\\\enron-data\\\\enron1\\\\spam\\\\0008.2003-12-18.GP.spam.txt',\n",
       " 'D:\\\\Cadetship\\\\IntroDS\\\\HW2\\\\apper-eda\\\\Notebooks\\\\data\\\\enron-data\\\\enron1\\\\spam\\\\0017.2003-12-18.GP.spam.txt',\n",
       " 'D:\\\\Cadetship\\\\IntroDS\\\\HW2\\\\apper-eda\\\\Notebooks\\\\data\\\\enron-data\\\\enron1\\\\spam\\\\0018.2003-12-18.GP.spam.txt',\n",
       " 'D:\\\\Cadetship\\\\IntroDS\\\\HW2\\\\apper-eda\\\\Notebooks\\\\data\\\\enron-data\\\\enron1\\\\spam\\\\0026.2003-12-18.GP.spam.txt']"
      ]
     },
     "execution_count": 9,
     "metadata": {},
     "output_type": "execute_result"
    }
   ],
   "source": [
    "file_paths[0][1:5]"
   ]
  },
  {
   "cell_type": "code",
   "execution_count": 10,
   "id": "35b25945",
   "metadata": {},
   "outputs": [
    {
     "data": {
      "text/plain": [
       "['D:\\\\Cadetship\\\\IntroDS\\\\HW2\\\\apper-eda\\\\Notebooks\\\\data\\\\enron-data\\\\enron1\\\\ham\\\\0002.1999-12-13.farmer.ham.txt',\n",
       " 'D:\\\\Cadetship\\\\IntroDS\\\\HW2\\\\apper-eda\\\\Notebooks\\\\data\\\\enron-data\\\\enron1\\\\ham\\\\0003.1999-12-14.farmer.ham.txt',\n",
       " 'D:\\\\Cadetship\\\\IntroDS\\\\HW2\\\\apper-eda\\\\Notebooks\\\\data\\\\enron-data\\\\enron1\\\\ham\\\\0004.1999-12-14.farmer.ham.txt',\n",
       " 'D:\\\\Cadetship\\\\IntroDS\\\\HW2\\\\apper-eda\\\\Notebooks\\\\data\\\\enron-data\\\\enron1\\\\ham\\\\0005.1999-12-14.farmer.ham.txt']"
      ]
     },
     "execution_count": 10,
     "metadata": {},
     "output_type": "execute_result"
    }
   ],
   "source": [
    "file_paths[1][1:5]"
   ]
  },
  {
   "cell_type": "code",
   "execution_count": 11,
   "id": "b047fa9c",
   "metadata": {
    "scrolled": true
   },
   "outputs": [
    {
     "name": "stdout",
     "output_type": "stream",
     "text": [
      "Status has 16537 elements.\n",
      "Subject has 16537 elements.\n",
      "Body has 16537 elements.\n"
     ]
    }
   ],
   "source": [
    "subjects = []\n",
    "bodies = []\n",
    "status = []\n",
    "\n",
    "# for each path\n",
    "for file_path in file_paths:\n",
    "    # for each file in path\n",
    "    for i in file_path:\n",
    "        # for status\n",
    "        if 'spam.txt' in i:\n",
    "            status.append('spam')\n",
    "        elif 'ham.txt' in i:\n",
    "            status.append('ham')\n",
    "        # extract the subject from email\n",
    "        with open(i,'r',errors='ignore') as f:\n",
    "            subject = f.readlines()[0]\n",
    "            subject = subject[9:]\n",
    "            subjects.append(subject)\n",
    "        # extract body message from email\n",
    "        with open(i,'r',errors='ignore') as f:\n",
    "            body = f.readlines()\n",
    "            body = body[1:]\n",
    "            bodies.append(body)\n",
    "            \n",
    "# join each sub-elements of the bodies list\n",
    "bodies = [' '.join(i) for i in bodies]\n",
    "\n",
    "print('Status has', len(status), 'elements.')\n",
    "print('Subject has', len(subjects), 'elements.')\n",
    "print('Body has', len(bodies), 'elements.')"
   ]
  },
  {
   "cell_type": "code",
   "execution_count": 12,
   "id": "4ba5bec6",
   "metadata": {},
   "outputs": [],
   "source": [
    "import pandas as pd"
   ]
  },
  {
   "cell_type": "code",
   "execution_count": 13,
   "id": "ff60da84",
   "metadata": {
    "scrolled": true
   },
   "outputs": [
    {
     "data": {
      "text/html": [
       "<div>\n",
       "<style scoped>\n",
       "    .dataframe tbody tr th:only-of-type {\n",
       "        vertical-align: middle;\n",
       "    }\n",
       "\n",
       "    .dataframe tbody tr th {\n",
       "        vertical-align: top;\n",
       "    }\n",
       "\n",
       "    .dataframe thead th {\n",
       "        text-align: right;\n",
       "    }\n",
       "</style>\n",
       "<table border=\"1\" class=\"dataframe\">\n",
       "  <thead>\n",
       "    <tr style=\"text-align: right;\">\n",
       "      <th></th>\n",
       "      <th>Status</th>\n",
       "      <th>Subject</th>\n",
       "      <th>Body</th>\n",
       "    </tr>\n",
       "  </thead>\n",
       "  <tbody>\n",
       "    <tr>\n",
       "      <th>10764</th>\n",
       "      <td>ham</td>\n",
       "      <td>from the enron india newsdesk - april 27 th ne...</td>\n",
       "      <td>fyi news articles from indian press .\\n - - - ...</td>\n",
       "    </tr>\n",
       "    <tr>\n",
       "      <th>2413</th>\n",
       "      <td>ham</td>\n",
       "      <td>hpl noms for june 08 , 2000 revision\\n</td>\n",
       "      <td>disregard the first one sent ! !\\n ( see attac...</td>\n",
       "    </tr>\n",
       "    <tr>\n",
       "      <th>13113</th>\n",
       "      <td>ham</td>\n",
       "      <td>re : getting organized\\n</td>\n",
       "      <td>will do . i will be arriving in houston early ...</td>\n",
       "    </tr>\n",
       "    <tr>\n",
       "      <th>4403</th>\n",
       "      <td>ham</td>\n",
       "      <td>kcs resources nom - april 1\\n</td>\n",
       "      <td>the nom for kcs resources ( deal # 125822 ) at...</td>\n",
       "    </tr>\n",
       "    <tr>\n",
       "      <th>6878</th>\n",
       "      <td>ham</td>\n",
       "      <td>re : worldpower\\n</td>\n",
       "      <td>mark ,\\n i agree with you . they do not seem t...</td>\n",
       "    </tr>\n",
       "    <tr>\n",
       "      <th>12579</th>\n",
       "      <td>ham</td>\n",
       "      <td>enside newsletter\\n</td>\n",
       "      <td>good afternoon louise !\\n i am looking forward...</td>\n",
       "    </tr>\n",
       "    <tr>\n",
       "      <th>597</th>\n",
       "      <td>spam</td>\n",
       "      <td>women change your life\\n</td>\n",
       "      <td></td>\n",
       "    </tr>\n",
       "    <tr>\n",
       "      <th>16517</th>\n",
       "      <td>ham</td>\n",
       "      <td>fw : master agreements\\n</td>\n",
       "      <td>we won one !\\n - - - - - original message - - ...</td>\n",
       "    </tr>\n",
       "    <tr>\n",
       "      <th>1489</th>\n",
       "      <td>spam</td>\n",
       "      <td>cant find you on msn . . .\\n</td>\n",
       "      <td>but ride it january a exercise bebut\\n parochi...</td>\n",
       "    </tr>\n",
       "    <tr>\n",
       "      <th>7211</th>\n",
       "      <td>ham</td>\n",
       "      <td>re : training courses\\n</td>\n",
       "      <td>shirley ,\\n no problem .\\n vince\\n shirley cre...</td>\n",
       "    </tr>\n",
       "  </tbody>\n",
       "</table>\n",
       "</div>"
      ],
      "text/plain": [
       "      Status                                            Subject  \\\n",
       "10764    ham  from the enron india newsdesk - april 27 th ne...   \n",
       "2413     ham             hpl noms for june 08 , 2000 revision\\n   \n",
       "13113    ham                           re : getting organized\\n   \n",
       "4403     ham                      kcs resources nom - april 1\\n   \n",
       "6878     ham                                  re : worldpower\\n   \n",
       "12579    ham                                enside newsletter\\n   \n",
       "597     spam                           women change your life\\n   \n",
       "16517    ham                           fw : master agreements\\n   \n",
       "1489    spam                       cant find you on msn . . .\\n   \n",
       "7211     ham                            re : training courses\\n   \n",
       "\n",
       "                                                    Body  \n",
       "10764  fyi news articles from indian press .\\n - - - ...  \n",
       "2413   disregard the first one sent ! !\\n ( see attac...  \n",
       "13113  will do . i will be arriving in houston early ...  \n",
       "4403   the nom for kcs resources ( deal # 125822 ) at...  \n",
       "6878   mark ,\\n i agree with you . they do not seem t...  \n",
       "12579  good afternoon louise !\\n i am looking forward...  \n",
       "597                                                       \n",
       "16517  we won one !\\n - - - - - original message - - ...  \n",
       "1489   but ride it january a exercise bebut\\n parochi...  \n",
       "7211   shirley ,\\n no problem .\\n vince\\n shirley cre...  "
      ]
     },
     "execution_count": 13,
     "metadata": {},
     "output_type": "execute_result"
    }
   ],
   "source": [
    "enron = pd.DataFrame(list(zip(status,subjects,bodies)), columns=['Status','Subject','Body'])\n",
    "enron.sample(10)"
   ]
  }
 ],
 "metadata": {
  "kernelspec": {
   "display_name": "Python 3",
   "language": "python",
   "name": "python3"
  },
  "language_info": {
   "codemirror_mode": {
    "name": "ipython",
    "version": 3
   },
   "file_extension": ".py",
   "mimetype": "text/x-python",
   "name": "python",
   "nbconvert_exporter": "python",
   "pygments_lexer": "ipython3",
   "version": "3.8.8"
  }
 },
 "nbformat": 4,
 "nbformat_minor": 5
}
