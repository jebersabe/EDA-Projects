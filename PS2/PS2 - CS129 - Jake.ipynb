{
 "cells": [
  {
   "cell_type": "markdown",
   "id": "6a370b15-6e72-428c-8918-3d3ee6b0293d",
   "metadata": {
    "tags": []
   },
   "source": [
    "# Problem Set 2 CS129.18\n",
    "\n",
    "The following problem set will revolve around the Pokemon stats dataset.\n",
    "The dataset `data/Pokemon.csv` has **721** rows and **27** columns. Not all columns are needed for the questions to be asked.\n"
   ]
  },
  {
   "cell_type": "markdown",
   "id": "ca04a9c4-33d6-4554-8e55-ccdddb1e380a",
   "metadata": {},
   "source": [
    "## 1. How many Legendary Pokemon are there?"
   ]
  },
  {
   "cell_type": "code",
   "execution_count": 1,
   "id": "11221f68-2c3c-4584-ad13-0fc1b073a162",
   "metadata": {},
   "outputs": [],
   "source": [
    "import pandas as pd\n",
    "import numpy as np\n",
    "import matplotlib.pyplot as plt\n",
    "import seaborn as sns\n",
    "%matplotlib inline"
   ]
  },
  {
   "cell_type": "code",
   "execution_count": 2,
   "id": "f4977e85-3fda-4527-8dcf-04dc9f838820",
   "metadata": {},
   "outputs": [],
   "source": [
    "pokemon = pd.read_csv('data/pokemon.csv')"
   ]
  },
  {
   "cell_type": "code",
   "execution_count": 3,
   "id": "dedb78a4-88ba-47d0-80d1-bbef5e1fa96c",
   "metadata": {},
   "outputs": [
    {
     "data": {
      "text/plain": [
       "Index(['Number', 'Name', 'Type_1', 'Type_2', 'Total', 'HP', 'Attack',\n",
       "       'Defense', 'Sp_Atk', 'Sp_Def', 'Speed', 'Generation', 'isLegendary',\n",
       "       'Color', 'hasGender', 'Pr_Male', 'Egg_Group_1', 'Egg_Group_2',\n",
       "       'hasMegaEvolution', 'Height_m', 'Weight_kg', 'Catch_Rate',\n",
       "       'Body_Style'],\n",
       "      dtype='object')"
      ]
     },
     "execution_count": 3,
     "metadata": {},
     "output_type": "execute_result"
    }
   ],
   "source": [
    "pokemon.columns"
   ]
  },
  {
   "cell_type": "code",
   "execution_count": 4,
   "id": "06a4366d-1283-4029-a126-367d81d3b033",
   "metadata": {},
   "outputs": [
    {
     "data": {
      "text/plain": [
       "False    675\n",
       "True      46\n",
       "Name: isLegendary, dtype: int64"
      ]
     },
     "execution_count": 4,
     "metadata": {},
     "output_type": "execute_result"
    }
   ],
   "source": [
    "pokemon.isLegendary.value_counts()"
   ]
  },
  {
   "cell_type": "markdown",
   "id": "749e0782-8fdf-4a04-9227-617816521857",
   "metadata": {},
   "source": [
    "**There are `46` legendary pokemons in the dataset.**\n",
    "____"
   ]
  },
  {
   "cell_type": "markdown",
   "id": "355d147b-3ed8-4c44-8c0f-1cd59895b111",
   "metadata": {},
   "source": [
    "## 2. Who is the Pokemon with the highest attack-to-HP ratio? (Tip: Just get the divide attack by HP)"
   ]
  },
  {
   "cell_type": "markdown",
   "id": "a9ef3b68-784b-4060-aacd-02f25a5a36ea",
   "metadata": {},
   "source": [
    "Create a new column which is equal to the ratio of `Attack` and `HP`."
   ]
  },
  {
   "cell_type": "code",
   "execution_count": 5,
   "id": "924455bf-5a76-480a-9d3c-1e8af7a61c7d",
   "metadata": {},
   "outputs": [],
   "source": [
    "pokemon['A2HP'] = pokemon['Attack']/pokemon['HP']"
   ]
  },
  {
   "cell_type": "code",
   "execution_count": 6,
   "id": "46fa1af8-0d85-4463-9f58-5aea4124b022",
   "metadata": {},
   "outputs": [
    {
     "data": {
      "text/html": [
       "<div>\n",
       "<style scoped>\n",
       "    .dataframe tbody tr th:only-of-type {\n",
       "        vertical-align: middle;\n",
       "    }\n",
       "\n",
       "    .dataframe tbody tr th {\n",
       "        vertical-align: top;\n",
       "    }\n",
       "\n",
       "    .dataframe thead th {\n",
       "        text-align: right;\n",
       "    }\n",
       "</style>\n",
       "<table border=\"1\" class=\"dataframe\">\n",
       "  <thead>\n",
       "    <tr style=\"text-align: right;\">\n",
       "      <th></th>\n",
       "      <th>Number</th>\n",
       "      <th>Name</th>\n",
       "      <th>Type_1</th>\n",
       "      <th>Type_2</th>\n",
       "      <th>Total</th>\n",
       "      <th>HP</th>\n",
       "      <th>Attack</th>\n",
       "      <th>Defense</th>\n",
       "      <th>Sp_Atk</th>\n",
       "      <th>Sp_Def</th>\n",
       "      <th>...</th>\n",
       "      <th>hasGender</th>\n",
       "      <th>Pr_Male</th>\n",
       "      <th>Egg_Group_1</th>\n",
       "      <th>Egg_Group_2</th>\n",
       "      <th>hasMegaEvolution</th>\n",
       "      <th>Height_m</th>\n",
       "      <th>Weight_kg</th>\n",
       "      <th>Catch_Rate</th>\n",
       "      <th>Body_Style</th>\n",
       "      <th>A2HP</th>\n",
       "    </tr>\n",
       "  </thead>\n",
       "  <tbody>\n",
       "    <tr>\n",
       "      <th>291</th>\n",
       "      <td>292</td>\n",
       "      <td>Shedinja</td>\n",
       "      <td>Bug</td>\n",
       "      <td>Ghost</td>\n",
       "      <td>236</td>\n",
       "      <td>1</td>\n",
       "      <td>90</td>\n",
       "      <td>45</td>\n",
       "      <td>30</td>\n",
       "      <td>30</td>\n",
       "      <td>...</td>\n",
       "      <td>False</td>\n",
       "      <td>NaN</td>\n",
       "      <td>Mineral</td>\n",
       "      <td>NaN</td>\n",
       "      <td>False</td>\n",
       "      <td>0.79</td>\n",
       "      <td>1.2</td>\n",
       "      <td>45</td>\n",
       "      <td>head_base</td>\n",
       "      <td>90.0</td>\n",
       "    </tr>\n",
       "  </tbody>\n",
       "</table>\n",
       "<p>1 rows × 24 columns</p>\n",
       "</div>"
      ],
      "text/plain": [
       "     Number      Name Type_1 Type_2  Total  HP  Attack  Defense  Sp_Atk  \\\n",
       "291     292  Shedinja    Bug  Ghost    236   1      90       45      30   \n",
       "\n",
       "     Sp_Def  ...  hasGender  Pr_Male  Egg_Group_1 Egg_Group_2  \\\n",
       "291      30  ...      False      NaN      Mineral         NaN   \n",
       "\n",
       "     hasMegaEvolution  Height_m Weight_kg Catch_Rate  Body_Style  A2HP  \n",
       "291             False      0.79       1.2         45   head_base  90.0  \n",
       "\n",
       "[1 rows x 24 columns]"
      ]
     },
     "execution_count": 6,
     "metadata": {},
     "output_type": "execute_result"
    }
   ],
   "source": [
    "pokemon[pokemon['A2HP'] == pokemon.A2HP.max()]"
   ]
  },
  {
   "cell_type": "markdown",
   "id": "6be4042e-ae3c-43ba-8c14-4dcc4a69d417",
   "metadata": {},
   "source": [
    "**`Shedinja` is the pokemon with the highest attack-to-HP ratio equal to 90.**\n",
    "____"
   ]
  },
  {
   "cell_type": "markdown",
   "id": "2f2e77e3-5043-4369-8f94-6e549bdca29d",
   "metadata": {},
   "source": [
    "## 3. Build a binary classifier for whether Pokemon are Fire Type or not."
   ]
  },
  {
   "cell_type": "markdown",
   "id": "f7c00551-ed40-4f59-937c-418398e2b5d3",
   "metadata": {},
   "source": [
    "There are two columns (`Type_1` and `Type_2`) in the dataset that can tell whether a pokemon is fire type or not."
   ]
  },
  {
   "cell_type": "code",
   "execution_count": 7,
   "id": "7f5e69ca-e977-4ed4-a0a9-9238d6a4d625",
   "metadata": {},
   "outputs": [
    {
     "data": {
      "text/plain": [
       "array(['Grass', 'Fire', 'Water', 'Bug', 'Normal', 'Poison', 'Electric',\n",
       "       'Ground', 'Fairy', 'Fighting', 'Psychic', 'Rock', 'Ghost', 'Ice',\n",
       "       'Dragon', 'Dark', 'Steel', 'Flying'], dtype=object)"
      ]
     },
     "execution_count": 7,
     "metadata": {},
     "output_type": "execute_result"
    }
   ],
   "source": [
    "(pokemon.Type_1.unique())"
   ]
  },
  {
   "cell_type": "code",
   "execution_count": 8,
   "id": "bd1404b7-5323-4f62-a852-16a824e98507",
   "metadata": {
    "tags": []
   },
   "outputs": [
    {
     "data": {
      "text/plain": [
       "array(['Poison', nan, 'Flying', 'Ground', 'Fairy', 'Grass', 'Fighting',\n",
       "       'Psychic', 'Steel', 'Ice', 'Rock', 'Water', 'Electric', 'Fire',\n",
       "       'Dragon', 'Dark', 'Ghost', 'Bug', 'Normal'], dtype=object)"
      ]
     },
     "execution_count": 8,
     "metadata": {},
     "output_type": "execute_result"
    }
   ],
   "source": [
    "(pokemon.Type_2.unique())"
   ]
  },
  {
   "cell_type": "markdown",
   "id": "0dcd73b5-b840-4d56-b5ff-3c9b8b49f096",
   "metadata": {},
   "source": [
    "Create new column `isFire` based on whether `Type_1` or `Type_2` is equal to *Fire*."
   ]
  },
  {
   "cell_type": "code",
   "execution_count": 9,
   "id": "f8453fa0-240c-446f-9368-29e5bc54757b",
   "metadata": {},
   "outputs": [],
   "source": [
    "pokemon['isFire'] = list(map(lambda x,y: 1 if (x == 'Fire' or y == 'Fire') else 0, pokemon.Type_1, pokemon.Type_2))"
   ]
  },
  {
   "cell_type": "markdown",
   "id": "6c52edce-a7a6-4292-8537-d956017c04de",
   "metadata": {},
   "source": [
    "Count how many of the pokemons are fire type:"
   ]
  },
  {
   "cell_type": "code",
   "execution_count": 10,
   "id": "28e83f1e-ae2c-4853-9fb2-1dc898266958",
   "metadata": {},
   "outputs": [
    {
     "data": {
      "text/plain": [
       "0    665\n",
       "1     56\n",
       "Name: isFire, dtype: int64"
      ]
     },
     "execution_count": 10,
     "metadata": {},
     "output_type": "execute_result"
    }
   ],
   "source": [
    "pokemon.isFire.value_counts()"
   ]
  },
  {
   "cell_type": "markdown",
   "id": "7bd04fc3-856d-40eb-941d-68e129cf2f42",
   "metadata": {},
   "source": [
    "Confirm this from columns `Type_1` and `Type_2`:"
   ]
  },
  {
   "cell_type": "code",
   "execution_count": 11,
   "id": "85d4d798-ba3d-4484-9043-c3f67dc51877",
   "metadata": {
    "tags": []
   },
   "outputs": [
    {
     "data": {
      "text/plain": [
       "56"
      ]
     },
     "execution_count": 11,
     "metadata": {},
     "output_type": "execute_result"
    }
   ],
   "source": [
    "sum(pokemon.Type_1 == 'Fire') + sum(pokemon.Type_2 == 'Fire')"
   ]
  },
  {
   "cell_type": "markdown",
   "id": "db3bccd9-b0f1-42aa-bff9-c63f6c671b4a",
   "metadata": {},
   "source": [
    "**This is the resulting dataframe with the fire type classifier column:**"
   ]
  },
  {
   "cell_type": "code",
   "execution_count": 12,
   "id": "75498f7f-fa8c-42a6-8975-3a4542130aaa",
   "metadata": {},
   "outputs": [
    {
     "data": {
      "text/html": [
       "<div>\n",
       "<style scoped>\n",
       "    .dataframe tbody tr th:only-of-type {\n",
       "        vertical-align: middle;\n",
       "    }\n",
       "\n",
       "    .dataframe tbody tr th {\n",
       "        vertical-align: top;\n",
       "    }\n",
       "\n",
       "    .dataframe thead th {\n",
       "        text-align: right;\n",
       "    }\n",
       "</style>\n",
       "<table border=\"1\" class=\"dataframe\">\n",
       "  <thead>\n",
       "    <tr style=\"text-align: right;\">\n",
       "      <th></th>\n",
       "      <th>Number</th>\n",
       "      <th>Name</th>\n",
       "      <th>Type_1</th>\n",
       "      <th>Type_2</th>\n",
       "      <th>Total</th>\n",
       "      <th>HP</th>\n",
       "      <th>Attack</th>\n",
       "      <th>Defense</th>\n",
       "      <th>Sp_Atk</th>\n",
       "      <th>Sp_Def</th>\n",
       "      <th>...</th>\n",
       "      <th>Pr_Male</th>\n",
       "      <th>Egg_Group_1</th>\n",
       "      <th>Egg_Group_2</th>\n",
       "      <th>hasMegaEvolution</th>\n",
       "      <th>Height_m</th>\n",
       "      <th>Weight_kg</th>\n",
       "      <th>Catch_Rate</th>\n",
       "      <th>Body_Style</th>\n",
       "      <th>A2HP</th>\n",
       "      <th>isFire</th>\n",
       "    </tr>\n",
       "  </thead>\n",
       "  <tbody>\n",
       "    <tr>\n",
       "      <th>201</th>\n",
       "      <td>202</td>\n",
       "      <td>Wobbuffet</td>\n",
       "      <td>Psychic</td>\n",
       "      <td>NaN</td>\n",
       "      <td>405</td>\n",
       "      <td>190</td>\n",
       "      <td>33</td>\n",
       "      <td>58</td>\n",
       "      <td>33</td>\n",
       "      <td>58</td>\n",
       "      <td>...</td>\n",
       "      <td>0.500</td>\n",
       "      <td>Amorphous</td>\n",
       "      <td>NaN</td>\n",
       "      <td>False</td>\n",
       "      <td>1.30</td>\n",
       "      <td>28.5</td>\n",
       "      <td>45</td>\n",
       "      <td>head_base</td>\n",
       "      <td>0.173684</td>\n",
       "      <td>0</td>\n",
       "    </tr>\n",
       "    <tr>\n",
       "      <th>101</th>\n",
       "      <td>102</td>\n",
       "      <td>Exeggcute</td>\n",
       "      <td>Grass</td>\n",
       "      <td>Psychic</td>\n",
       "      <td>325</td>\n",
       "      <td>60</td>\n",
       "      <td>40</td>\n",
       "      <td>80</td>\n",
       "      <td>60</td>\n",
       "      <td>45</td>\n",
       "      <td>...</td>\n",
       "      <td>0.500</td>\n",
       "      <td>Grass</td>\n",
       "      <td>NaN</td>\n",
       "      <td>False</td>\n",
       "      <td>0.41</td>\n",
       "      <td>2.5</td>\n",
       "      <td>90</td>\n",
       "      <td>multiple_bodies</td>\n",
       "      <td>0.666667</td>\n",
       "      <td>0</td>\n",
       "    </tr>\n",
       "    <tr>\n",
       "      <th>610</th>\n",
       "      <td>611</td>\n",
       "      <td>Fraxure</td>\n",
       "      <td>Dragon</td>\n",
       "      <td>NaN</td>\n",
       "      <td>410</td>\n",
       "      <td>66</td>\n",
       "      <td>117</td>\n",
       "      <td>70</td>\n",
       "      <td>40</td>\n",
       "      <td>50</td>\n",
       "      <td>...</td>\n",
       "      <td>0.500</td>\n",
       "      <td>Monster</td>\n",
       "      <td>Dragon</td>\n",
       "      <td>False</td>\n",
       "      <td>0.99</td>\n",
       "      <td>36.0</td>\n",
       "      <td>60</td>\n",
       "      <td>bipedal_tailed</td>\n",
       "      <td>1.772727</td>\n",
       "      <td>0</td>\n",
       "    </tr>\n",
       "    <tr>\n",
       "      <th>644</th>\n",
       "      <td>645</td>\n",
       "      <td>Landorus</td>\n",
       "      <td>Ground</td>\n",
       "      <td>Flying</td>\n",
       "      <td>600</td>\n",
       "      <td>89</td>\n",
       "      <td>125</td>\n",
       "      <td>90</td>\n",
       "      <td>115</td>\n",
       "      <td>80</td>\n",
       "      <td>...</td>\n",
       "      <td>1.000</td>\n",
       "      <td>Undiscovered</td>\n",
       "      <td>NaN</td>\n",
       "      <td>False</td>\n",
       "      <td>1.50</td>\n",
       "      <td>68.0</td>\n",
       "      <td>3</td>\n",
       "      <td>head_arms</td>\n",
       "      <td>1.404494</td>\n",
       "      <td>0</td>\n",
       "    </tr>\n",
       "    <tr>\n",
       "      <th>109</th>\n",
       "      <td>110</td>\n",
       "      <td>Weezing</td>\n",
       "      <td>Poison</td>\n",
       "      <td>NaN</td>\n",
       "      <td>490</td>\n",
       "      <td>65</td>\n",
       "      <td>90</td>\n",
       "      <td>120</td>\n",
       "      <td>85</td>\n",
       "      <td>70</td>\n",
       "      <td>...</td>\n",
       "      <td>0.500</td>\n",
       "      <td>Amorphous</td>\n",
       "      <td>NaN</td>\n",
       "      <td>False</td>\n",
       "      <td>1.19</td>\n",
       "      <td>9.5</td>\n",
       "      <td>60</td>\n",
       "      <td>multiple_bodies</td>\n",
       "      <td>1.384615</td>\n",
       "      <td>0</td>\n",
       "    </tr>\n",
       "    <tr>\n",
       "      <th>158</th>\n",
       "      <td>159</td>\n",
       "      <td>Croconaw</td>\n",
       "      <td>Water</td>\n",
       "      <td>NaN</td>\n",
       "      <td>405</td>\n",
       "      <td>65</td>\n",
       "      <td>80</td>\n",
       "      <td>80</td>\n",
       "      <td>59</td>\n",
       "      <td>63</td>\n",
       "      <td>...</td>\n",
       "      <td>0.875</td>\n",
       "      <td>Monster</td>\n",
       "      <td>Water_1</td>\n",
       "      <td>False</td>\n",
       "      <td>1.09</td>\n",
       "      <td>25.0</td>\n",
       "      <td>45</td>\n",
       "      <td>bipedal_tailed</td>\n",
       "      <td>1.230769</td>\n",
       "      <td>0</td>\n",
       "    </tr>\n",
       "    <tr>\n",
       "      <th>40</th>\n",
       "      <td>41</td>\n",
       "      <td>Zubat</td>\n",
       "      <td>Poison</td>\n",
       "      <td>Flying</td>\n",
       "      <td>245</td>\n",
       "      <td>40</td>\n",
       "      <td>45</td>\n",
       "      <td>35</td>\n",
       "      <td>30</td>\n",
       "      <td>40</td>\n",
       "      <td>...</td>\n",
       "      <td>0.500</td>\n",
       "      <td>Flying</td>\n",
       "      <td>NaN</td>\n",
       "      <td>False</td>\n",
       "      <td>0.79</td>\n",
       "      <td>7.5</td>\n",
       "      <td>255</td>\n",
       "      <td>two_wings</td>\n",
       "      <td>1.125000</td>\n",
       "      <td>0</td>\n",
       "    </tr>\n",
       "    <tr>\n",
       "      <th>603</th>\n",
       "      <td>604</td>\n",
       "      <td>Eelektross</td>\n",
       "      <td>Electric</td>\n",
       "      <td>NaN</td>\n",
       "      <td>515</td>\n",
       "      <td>85</td>\n",
       "      <td>115</td>\n",
       "      <td>80</td>\n",
       "      <td>105</td>\n",
       "      <td>80</td>\n",
       "      <td>...</td>\n",
       "      <td>0.500</td>\n",
       "      <td>Amorphous</td>\n",
       "      <td>NaN</td>\n",
       "      <td>False</td>\n",
       "      <td>2.11</td>\n",
       "      <td>80.5</td>\n",
       "      <td>30</td>\n",
       "      <td>with_fins</td>\n",
       "      <td>1.352941</td>\n",
       "      <td>0</td>\n",
       "    </tr>\n",
       "    <tr>\n",
       "      <th>20</th>\n",
       "      <td>21</td>\n",
       "      <td>Spearow</td>\n",
       "      <td>Normal</td>\n",
       "      <td>Flying</td>\n",
       "      <td>262</td>\n",
       "      <td>40</td>\n",
       "      <td>60</td>\n",
       "      <td>30</td>\n",
       "      <td>31</td>\n",
       "      <td>31</td>\n",
       "      <td>...</td>\n",
       "      <td>0.500</td>\n",
       "      <td>Flying</td>\n",
       "      <td>NaN</td>\n",
       "      <td>False</td>\n",
       "      <td>0.30</td>\n",
       "      <td>2.0</td>\n",
       "      <td>255</td>\n",
       "      <td>two_wings</td>\n",
       "      <td>1.500000</td>\n",
       "      <td>0</td>\n",
       "    </tr>\n",
       "    <tr>\n",
       "      <th>382</th>\n",
       "      <td>383</td>\n",
       "      <td>Groudon</td>\n",
       "      <td>Ground</td>\n",
       "      <td>NaN</td>\n",
       "      <td>670</td>\n",
       "      <td>100</td>\n",
       "      <td>150</td>\n",
       "      <td>140</td>\n",
       "      <td>100</td>\n",
       "      <td>90</td>\n",
       "      <td>...</td>\n",
       "      <td>NaN</td>\n",
       "      <td>Undiscovered</td>\n",
       "      <td>NaN</td>\n",
       "      <td>False</td>\n",
       "      <td>3.51</td>\n",
       "      <td>950.0</td>\n",
       "      <td>3</td>\n",
       "      <td>bipedal_tailed</td>\n",
       "      <td>1.500000</td>\n",
       "      <td>0</td>\n",
       "    </tr>\n",
       "  </tbody>\n",
       "</table>\n",
       "<p>10 rows × 25 columns</p>\n",
       "</div>"
      ],
      "text/plain": [
       "     Number        Name    Type_1   Type_2  Total   HP  Attack  Defense  \\\n",
       "201     202   Wobbuffet   Psychic      NaN    405  190      33       58   \n",
       "101     102   Exeggcute     Grass  Psychic    325   60      40       80   \n",
       "610     611     Fraxure    Dragon      NaN    410   66     117       70   \n",
       "644     645    Landorus    Ground   Flying    600   89     125       90   \n",
       "109     110     Weezing    Poison      NaN    490   65      90      120   \n",
       "158     159    Croconaw     Water      NaN    405   65      80       80   \n",
       "40       41       Zubat    Poison   Flying    245   40      45       35   \n",
       "603     604  Eelektross  Electric      NaN    515   85     115       80   \n",
       "20       21     Spearow    Normal   Flying    262   40      60       30   \n",
       "382     383     Groudon    Ground      NaN    670  100     150      140   \n",
       "\n",
       "     Sp_Atk  Sp_Def  ...  Pr_Male   Egg_Group_1  Egg_Group_2 hasMegaEvolution  \\\n",
       "201      33      58  ...    0.500     Amorphous          NaN            False   \n",
       "101      60      45  ...    0.500         Grass          NaN            False   \n",
       "610      40      50  ...    0.500       Monster       Dragon            False   \n",
       "644     115      80  ...    1.000  Undiscovered          NaN            False   \n",
       "109      85      70  ...    0.500     Amorphous          NaN            False   \n",
       "158      59      63  ...    0.875       Monster      Water_1            False   \n",
       "40       30      40  ...    0.500        Flying          NaN            False   \n",
       "603     105      80  ...    0.500     Amorphous          NaN            False   \n",
       "20       31      31  ...    0.500        Flying          NaN            False   \n",
       "382     100      90  ...      NaN  Undiscovered          NaN            False   \n",
       "\n",
       "     Height_m  Weight_kg Catch_Rate       Body_Style      A2HP  isFire  \n",
       "201      1.30       28.5         45        head_base  0.173684       0  \n",
       "101      0.41        2.5         90  multiple_bodies  0.666667       0  \n",
       "610      0.99       36.0         60   bipedal_tailed  1.772727       0  \n",
       "644      1.50       68.0          3        head_arms  1.404494       0  \n",
       "109      1.19        9.5         60  multiple_bodies  1.384615       0  \n",
       "158      1.09       25.0         45   bipedal_tailed  1.230769       0  \n",
       "40       0.79        7.5        255        two_wings  1.125000       0  \n",
       "603      2.11       80.5         30        with_fins  1.352941       0  \n",
       "20       0.30        2.0        255        two_wings  1.500000       0  \n",
       "382      3.51      950.0          3   bipedal_tailed  1.500000       0  \n",
       "\n",
       "[10 rows x 25 columns]"
      ]
     },
     "execution_count": 12,
     "metadata": {},
     "output_type": "execute_result"
    }
   ],
   "source": [
    "pokemon.sample(10)"
   ]
  },
  {
   "cell_type": "markdown",
   "id": "25dac2fc-239b-4c6f-91bc-d01a12665435",
   "metadata": {},
   "source": [
    "____"
   ]
  },
  {
   "cell_type": "markdown",
   "id": "5f8ca852-5fb6-4ed9-9000-55b6d4d0a8bc",
   "metadata": {},
   "source": [
    "## 4. Describe the attributes and stats of all Legendary Type pokemon using boxplots."
   ]
  },
  {
   "cell_type": "code",
   "execution_count": 13,
   "id": "70502048-664b-4356-8f63-dafde7e21dd9",
   "metadata": {},
   "outputs": [],
   "source": [
    "pokemon = pd.read_csv('data/pokemon.csv')\n",
    "pokemon['isFire'] = list(map(lambda x,y: 1 if (x == 'Fire' or y == 'Fire') else 0, pokemon.Type_1, pokemon.Type_2))"
   ]
  },
  {
   "cell_type": "code",
   "execution_count": 14,
   "id": "6ae0ec94-97fa-4cfb-b683-8e0bc74eb07d",
   "metadata": {
    "tags": []
   },
   "outputs": [
    {
     "data": {
      "text/plain": [
       "Index(['Number', 'Name', 'Type_1', 'Type_2', 'Total', 'HP', 'Attack',\n",
       "       'Defense', 'Sp_Atk', 'Sp_Def', 'Speed', 'Generation', 'isLegendary',\n",
       "       'Color', 'hasGender', 'Pr_Male', 'Egg_Group_1', 'Egg_Group_2',\n",
       "       'hasMegaEvolution', 'Height_m', 'Weight_kg', 'Catch_Rate', 'Body_Style',\n",
       "       'isFire'],\n",
       "      dtype='object')"
      ]
     },
     "execution_count": 14,
     "metadata": {},
     "output_type": "execute_result"
    }
   ],
   "source": [
    "pokemon.columns"
   ]
  },
  {
   "cell_type": "code",
   "execution_count": 15,
   "id": "bace0b02-ebfb-453c-9306-ab446adc44e1",
   "metadata": {},
   "outputs": [],
   "source": [
    "df1 = pokemon[pokemon.isLegendary == True][['Total','HP','Attack','Defense','Sp_Atk', 'Sp_Def', 'Speed', 'Weight_kg', 'Height_m','Catch_Rate','Pr_Male']]"
   ]
  },
  {
   "cell_type": "code",
   "execution_count": 16,
   "id": "293e2e77-c4ce-40c5-9848-ad206ab710e3",
   "metadata": {},
   "outputs": [
    {
     "data": {
      "text/html": [
       "<div>\n",
       "<style scoped>\n",
       "    .dataframe tbody tr th:only-of-type {\n",
       "        vertical-align: middle;\n",
       "    }\n",
       "\n",
       "    .dataframe tbody tr th {\n",
       "        vertical-align: top;\n",
       "    }\n",
       "\n",
       "    .dataframe thead th {\n",
       "        text-align: right;\n",
       "    }\n",
       "</style>\n",
       "<table border=\"1\" class=\"dataframe\">\n",
       "  <thead>\n",
       "    <tr style=\"text-align: right;\">\n",
       "      <th></th>\n",
       "      <th>Total</th>\n",
       "      <th>HP</th>\n",
       "      <th>Attack</th>\n",
       "      <th>Defense</th>\n",
       "      <th>Sp_Atk</th>\n",
       "      <th>Sp_Def</th>\n",
       "      <th>Speed</th>\n",
       "      <th>Weight_kg</th>\n",
       "      <th>Height_m</th>\n",
       "      <th>Catch_Rate</th>\n",
       "      <th>Pr_Male</th>\n",
       "    </tr>\n",
       "  </thead>\n",
       "  <tbody>\n",
       "    <tr>\n",
       "      <th>count</th>\n",
       "      <td>46.000000</td>\n",
       "      <td>46.000000</td>\n",
       "      <td>46.000000</td>\n",
       "      <td>46.000000</td>\n",
       "      <td>46.000000</td>\n",
       "      <td>46.000000</td>\n",
       "      <td>46.000000</td>\n",
       "      <td>46.000000</td>\n",
       "      <td>46.000000</td>\n",
       "      <td>46.000000</td>\n",
       "      <td>6.00000</td>\n",
       "    </tr>\n",
       "    <tr>\n",
       "      <th>mean</th>\n",
       "      <td>620.217391</td>\n",
       "      <td>94.000000</td>\n",
       "      <td>108.608696</td>\n",
       "      <td>101.586957</td>\n",
       "      <td>113.891304</td>\n",
       "      <td>106.543478</td>\n",
       "      <td>95.586957</td>\n",
       "      <td>201.797826</td>\n",
       "      <td>2.449565</td>\n",
       "      <td>6.652174</td>\n",
       "      <td>0.75000</td>\n",
       "    </tr>\n",
       "    <tr>\n",
       "      <th>std</th>\n",
       "      <td>44.993290</td>\n",
       "      <td>18.808981</td>\n",
       "      <td>23.536712</td>\n",
       "      <td>26.525104</td>\n",
       "      <td>25.432462</td>\n",
       "      <td>27.236174</td>\n",
       "      <td>20.436977</td>\n",
       "      <td>197.172328</td>\n",
       "      <td>1.723660</td>\n",
       "      <td>11.965167</td>\n",
       "      <td>0.41833</td>\n",
       "    </tr>\n",
       "    <tr>\n",
       "      <th>min</th>\n",
       "      <td>580.000000</td>\n",
       "      <td>50.000000</td>\n",
       "      <td>50.000000</td>\n",
       "      <td>50.000000</td>\n",
       "      <td>50.000000</td>\n",
       "      <td>50.000000</td>\n",
       "      <td>50.000000</td>\n",
       "      <td>0.300000</td>\n",
       "      <td>0.200000</td>\n",
       "      <td>3.000000</td>\n",
       "      <td>0.00000</td>\n",
       "    </tr>\n",
       "    <tr>\n",
       "      <th>25%</th>\n",
       "      <td>580.000000</td>\n",
       "      <td>80.000000</td>\n",
       "      <td>90.000000</td>\n",
       "      <td>90.000000</td>\n",
       "      <td>96.250000</td>\n",
       "      <td>90.000000</td>\n",
       "      <td>90.000000</td>\n",
       "      <td>56.550000</td>\n",
       "      <td>1.500000</td>\n",
       "      <td>3.000000</td>\n",
       "      <td>0.62500</td>\n",
       "    </tr>\n",
       "    <tr>\n",
       "      <th>50%</th>\n",
       "      <td>600.000000</td>\n",
       "      <td>91.000000</td>\n",
       "      <td>107.500000</td>\n",
       "      <td>100.000000</td>\n",
       "      <td>117.500000</td>\n",
       "      <td>100.000000</td>\n",
       "      <td>99.000000</td>\n",
       "      <td>196.500000</td>\n",
       "      <td>1.960000</td>\n",
       "      <td>3.000000</td>\n",
       "      <td>1.00000</td>\n",
       "    </tr>\n",
       "    <tr>\n",
       "      <th>75%</th>\n",
       "      <td>677.500000</td>\n",
       "      <td>103.750000</td>\n",
       "      <td>123.750000</td>\n",
       "      <td>118.750000</td>\n",
       "      <td>130.000000</td>\n",
       "      <td>120.000000</td>\n",
       "      <td>108.000000</td>\n",
       "      <td>293.750000</td>\n",
       "      <td>3.200000</td>\n",
       "      <td>3.000000</td>\n",
       "      <td>1.00000</td>\n",
       "    </tr>\n",
       "    <tr>\n",
       "      <th>max</th>\n",
       "      <td>720.000000</td>\n",
       "      <td>150.000000</td>\n",
       "      <td>160.000000</td>\n",
       "      <td>200.000000</td>\n",
       "      <td>154.000000</td>\n",
       "      <td>200.000000</td>\n",
       "      <td>150.000000</td>\n",
       "      <td>950.000000</td>\n",
       "      <td>7.010000</td>\n",
       "      <td>45.000000</td>\n",
       "      <td>1.00000</td>\n",
       "    </tr>\n",
       "  </tbody>\n",
       "</table>\n",
       "</div>"
      ],
      "text/plain": [
       "            Total          HP      Attack     Defense      Sp_Atk      Sp_Def  \\\n",
       "count   46.000000   46.000000   46.000000   46.000000   46.000000   46.000000   \n",
       "mean   620.217391   94.000000  108.608696  101.586957  113.891304  106.543478   \n",
       "std     44.993290   18.808981   23.536712   26.525104   25.432462   27.236174   \n",
       "min    580.000000   50.000000   50.000000   50.000000   50.000000   50.000000   \n",
       "25%    580.000000   80.000000   90.000000   90.000000   96.250000   90.000000   \n",
       "50%    600.000000   91.000000  107.500000  100.000000  117.500000  100.000000   \n",
       "75%    677.500000  103.750000  123.750000  118.750000  130.000000  120.000000   \n",
       "max    720.000000  150.000000  160.000000  200.000000  154.000000  200.000000   \n",
       "\n",
       "            Speed   Weight_kg   Height_m  Catch_Rate  Pr_Male  \n",
       "count   46.000000   46.000000  46.000000   46.000000  6.00000  \n",
       "mean    95.586957  201.797826   2.449565    6.652174  0.75000  \n",
       "std     20.436977  197.172328   1.723660   11.965167  0.41833  \n",
       "min     50.000000    0.300000   0.200000    3.000000  0.00000  \n",
       "25%     90.000000   56.550000   1.500000    3.000000  0.62500  \n",
       "50%     99.000000  196.500000   1.960000    3.000000  1.00000  \n",
       "75%    108.000000  293.750000   3.200000    3.000000  1.00000  \n",
       "max    150.000000  950.000000   7.010000   45.000000  1.00000  "
      ]
     },
     "execution_count": 16,
     "metadata": {},
     "output_type": "execute_result"
    }
   ],
   "source": [
    "df1.describe()"
   ]
  },
  {
   "cell_type": "code",
   "execution_count": 17,
   "id": "c9029b94-2054-4db6-bb4a-48840a0d8513",
   "metadata": {},
   "outputs": [
    {
     "data": {
      "text/plain": [
       "<AxesSubplot:>"
      ]
     },
     "execution_count": 17,
     "metadata": {},
     "output_type": "execute_result"
    },
    {
     "data": {
      "image/png": "[encoded data removed]",
      "text/plain": [
       "<Figure size 3600x1600 with 1 Axes>"
      ]
     },
     "metadata": {},
     "output_type": "display_data"
    }
   ],
   "source": [
    "plt.style.use('ggplot')\n",
    "plt.figure(figsize=(18,8),dpi=200)\n",
    "sns.boxplot(data=pokemon[pokemon.isLegendary == True][['HP','Attack','Defense','Sp_Atk', 'Sp_Def', 'Speed','Weight_kg','Height_m','Catch_Rate']])"
   ]
  },
  {
   "cell_type": "markdown",
   "id": "49d8239e",
   "metadata": {},
   "source": [
    "## 5. Solve for the probabilities of each Pokemon being a Fire Type."
   ]
  },
  {
   "cell_type": "markdown",
   "id": "7942bd1c",
   "metadata": {},
   "source": [
    "### Import libraries"
   ]
  },
  {
   "cell_type": "code",
   "execution_count": 18,
   "id": "084ab01c",
   "metadata": {},
   "outputs": [],
   "source": [
    "import pandas as pd\n",
    "import numpy as np\n",
    "import matplotlib.pyplot as plt\n",
    "\n",
    "import warnings\n",
    "warnings.filterwarnings('ignore')"
   ]
  },
  {
   "cell_type": "markdown",
   "id": "ff18cfc9",
   "metadata": {},
   "source": [
    "### Load dataset"
   ]
  },
  {
   "cell_type": "code",
   "execution_count": 19,
   "id": "6e808006",
   "metadata": {},
   "outputs": [
    {
     "data": {
      "text/html": [
       "<div>\n",
       "<style scoped>\n",
       "    .dataframe tbody tr th:only-of-type {\n",
       "        vertical-align: middle;\n",
       "    }\n",
       "\n",
       "    .dataframe tbody tr th {\n",
       "        vertical-align: top;\n",
       "    }\n",
       "\n",
       "    .dataframe thead th {\n",
       "        text-align: right;\n",
       "    }\n",
       "</style>\n",
       "<table border=\"1\" class=\"dataframe\">\n",
       "  <thead>\n",
       "    <tr style=\"text-align: right;\">\n",
       "      <th></th>\n",
       "      <th>Number</th>\n",
       "      <th>Name</th>\n",
       "      <th>Type_1</th>\n",
       "      <th>Type_2</th>\n",
       "      <th>Total</th>\n",
       "      <th>HP</th>\n",
       "      <th>Attack</th>\n",
       "      <th>Defense</th>\n",
       "      <th>Sp_Atk</th>\n",
       "      <th>Sp_Def</th>\n",
       "      <th>...</th>\n",
       "      <th>Color</th>\n",
       "      <th>hasGender</th>\n",
       "      <th>Pr_Male</th>\n",
       "      <th>Egg_Group_1</th>\n",
       "      <th>Egg_Group_2</th>\n",
       "      <th>hasMegaEvolution</th>\n",
       "      <th>Height_m</th>\n",
       "      <th>Weight_kg</th>\n",
       "      <th>Catch_Rate</th>\n",
       "      <th>Body_Style</th>\n",
       "    </tr>\n",
       "  </thead>\n",
       "  <tbody>\n",
       "    <tr>\n",
       "      <th>0</th>\n",
       "      <td>1</td>\n",
       "      <td>Bulbasaur</td>\n",
       "      <td>Grass</td>\n",
       "      <td>Poison</td>\n",
       "      <td>318</td>\n",
       "      <td>45</td>\n",
       "      <td>49</td>\n",
       "      <td>49</td>\n",
       "      <td>65</td>\n",
       "      <td>65</td>\n",
       "      <td>...</td>\n",
       "      <td>Green</td>\n",
       "      <td>True</td>\n",
       "      <td>0.875</td>\n",
       "      <td>Monster</td>\n",
       "      <td>Grass</td>\n",
       "      <td>False</td>\n",
       "      <td>0.71</td>\n",
       "      <td>6.9</td>\n",
       "      <td>45</td>\n",
       "      <td>quadruped</td>\n",
       "    </tr>\n",
       "    <tr>\n",
       "      <th>1</th>\n",
       "      <td>2</td>\n",
       "      <td>Ivysaur</td>\n",
       "      <td>Grass</td>\n",
       "      <td>Poison</td>\n",
       "      <td>405</td>\n",
       "      <td>60</td>\n",
       "      <td>62</td>\n",
       "      <td>63</td>\n",
       "      <td>80</td>\n",
       "      <td>80</td>\n",
       "      <td>...</td>\n",
       "      <td>Green</td>\n",
       "      <td>True</td>\n",
       "      <td>0.875</td>\n",
       "      <td>Monster</td>\n",
       "      <td>Grass</td>\n",
       "      <td>False</td>\n",
       "      <td>0.99</td>\n",
       "      <td>13.0</td>\n",
       "      <td>45</td>\n",
       "      <td>quadruped</td>\n",
       "    </tr>\n",
       "    <tr>\n",
       "      <th>2</th>\n",
       "      <td>3</td>\n",
       "      <td>Venusaur</td>\n",
       "      <td>Grass</td>\n",
       "      <td>Poison</td>\n",
       "      <td>525</td>\n",
       "      <td>80</td>\n",
       "      <td>82</td>\n",
       "      <td>83</td>\n",
       "      <td>100</td>\n",
       "      <td>100</td>\n",
       "      <td>...</td>\n",
       "      <td>Green</td>\n",
       "      <td>True</td>\n",
       "      <td>0.875</td>\n",
       "      <td>Monster</td>\n",
       "      <td>Grass</td>\n",
       "      <td>True</td>\n",
       "      <td>2.01</td>\n",
       "      <td>100.0</td>\n",
       "      <td>45</td>\n",
       "      <td>quadruped</td>\n",
       "    </tr>\n",
       "  </tbody>\n",
       "</table>\n",
       "<p>3 rows × 23 columns</p>\n",
       "</div>"
      ],
      "text/plain": [
       "   Number       Name Type_1  Type_2  Total  HP  Attack  Defense  Sp_Atk  \\\n",
       "0       1  Bulbasaur  Grass  Poison    318  45      49       49      65   \n",
       "1       2    Ivysaur  Grass  Poison    405  60      62       63      80   \n",
       "2       3   Venusaur  Grass  Poison    525  80      82       83     100   \n",
       "\n",
       "   Sp_Def  ...  Color  hasGender  Pr_Male Egg_Group_1  Egg_Group_2  \\\n",
       "0      65  ...  Green       True    0.875     Monster        Grass   \n",
       "1      80  ...  Green       True    0.875     Monster        Grass   \n",
       "2     100  ...  Green       True    0.875     Monster        Grass   \n",
       "\n",
       "   hasMegaEvolution Height_m Weight_kg  Catch_Rate  Body_Style  \n",
       "0             False     0.71       6.9          45   quadruped  \n",
       "1             False     0.99      13.0          45   quadruped  \n",
       "2              True     2.01     100.0          45   quadruped  \n",
       "\n",
       "[3 rows x 23 columns]"
      ]
     },
     "execution_count": 19,
     "metadata": {},
     "output_type": "execute_result"
    }
   ],
   "source": [
    "pokemon = pd.read_csv('data/pokemon.csv')\n",
    "pokemon.head(3)"
   ]
  },
  {
   "cell_type": "markdown",
   "id": "d249da5d",
   "metadata": {},
   "source": [
    "### Create `isFire` column"
   ]
  },
  {
   "cell_type": "code",
   "execution_count": 20,
   "id": "6a019954",
   "metadata": {},
   "outputs": [
    {
     "data": {
      "text/html": [
       "<div>\n",
       "<style scoped>\n",
       "    .dataframe tbody tr th:only-of-type {\n",
       "        vertical-align: middle;\n",
       "    }\n",
       "\n",
       "    .dataframe tbody tr th {\n",
       "        vertical-align: top;\n",
       "    }\n",
       "\n",
       "    .dataframe thead th {\n",
       "        text-align: right;\n",
       "    }\n",
       "</style>\n",
       "<table border=\"1\" class=\"dataframe\">\n",
       "  <thead>\n",
       "    <tr style=\"text-align: right;\">\n",
       "      <th></th>\n",
       "      <th>Number</th>\n",
       "      <th>Name</th>\n",
       "      <th>Type_1</th>\n",
       "      <th>Type_2</th>\n",
       "      <th>Total</th>\n",
       "      <th>HP</th>\n",
       "      <th>Attack</th>\n",
       "      <th>Defense</th>\n",
       "      <th>Sp_Atk</th>\n",
       "      <th>Sp_Def</th>\n",
       "      <th>Speed</th>\n",
       "      <th>Generation</th>\n",
       "      <th>isLegendary</th>\n",
       "      <th>Color</th>\n",
       "      <th>hasGender</th>\n",
       "      <th>Pr_Male</th>\n",
       "      <th>Egg_Group_1</th>\n",
       "      <th>Egg_Group_2</th>\n",
       "      <th>hasMegaEvolution</th>\n",
       "      <th>Height_m</th>\n",
       "      <th>Weight_kg</th>\n",
       "      <th>Catch_Rate</th>\n",
       "      <th>Body_Style</th>\n",
       "      <th>isFire</th>\n",
       "    </tr>\n",
       "  </thead>\n",
       "  <tbody>\n",
       "    <tr>\n",
       "      <th>0</th>\n",
       "      <td>1</td>\n",
       "      <td>Bulbasaur</td>\n",
       "      <td>Grass</td>\n",
       "      <td>Poison</td>\n",
       "      <td>318</td>\n",
       "      <td>45</td>\n",
       "      <td>49</td>\n",
       "      <td>49</td>\n",
       "      <td>65</td>\n",
       "      <td>65</td>\n",
       "      <td>45</td>\n",
       "      <td>1</td>\n",
       "      <td>False</td>\n",
       "      <td>Green</td>\n",
       "      <td>True</td>\n",
       "      <td>0.875</td>\n",
       "      <td>Monster</td>\n",
       "      <td>Grass</td>\n",
       "      <td>False</td>\n",
       "      <td>0.71</td>\n",
       "      <td>6.9</td>\n",
       "      <td>45</td>\n",
       "      <td>quadruped</td>\n",
       "      <td>0</td>\n",
       "    </tr>\n",
       "    <tr>\n",
       "      <th>1</th>\n",
       "      <td>2</td>\n",
       "      <td>Ivysaur</td>\n",
       "      <td>Grass</td>\n",
       "      <td>Poison</td>\n",
       "      <td>405</td>\n",
       "      <td>60</td>\n",
       "      <td>62</td>\n",
       "      <td>63</td>\n",
       "      <td>80</td>\n",
       "      <td>80</td>\n",
       "      <td>60</td>\n",
       "      <td>1</td>\n",
       "      <td>False</td>\n",
       "      <td>Green</td>\n",
       "      <td>True</td>\n",
       "      <td>0.875</td>\n",
       "      <td>Monster</td>\n",
       "      <td>Grass</td>\n",
       "      <td>False</td>\n",
       "      <td>0.99</td>\n",
       "      <td>13.0</td>\n",
       "      <td>45</td>\n",
       "      <td>quadruped</td>\n",
       "      <td>0</td>\n",
       "    </tr>\n",
       "    <tr>\n",
       "      <th>2</th>\n",
       "      <td>3</td>\n",
       "      <td>Venusaur</td>\n",
       "      <td>Grass</td>\n",
       "      <td>Poison</td>\n",
       "      <td>525</td>\n",
       "      <td>80</td>\n",
       "      <td>82</td>\n",
       "      <td>83</td>\n",
       "      <td>100</td>\n",
       "      <td>100</td>\n",
       "      <td>80</td>\n",
       "      <td>1</td>\n",
       "      <td>False</td>\n",
       "      <td>Green</td>\n",
       "      <td>True</td>\n",
       "      <td>0.875</td>\n",
       "      <td>Monster</td>\n",
       "      <td>Grass</td>\n",
       "      <td>True</td>\n",
       "      <td>2.01</td>\n",
       "      <td>100.0</td>\n",
       "      <td>45</td>\n",
       "      <td>quadruped</td>\n",
       "      <td>0</td>\n",
       "    </tr>\n",
       "  </tbody>\n",
       "</table>\n",
       "</div>"
      ],
      "text/plain": [
       "   Number       Name Type_1  Type_2  Total  HP  Attack  Defense  Sp_Atk  \\\n",
       "0       1  Bulbasaur  Grass  Poison    318  45      49       49      65   \n",
       "1       2    Ivysaur  Grass  Poison    405  60      62       63      80   \n",
       "2       3   Venusaur  Grass  Poison    525  80      82       83     100   \n",
       "\n",
       "   Sp_Def  Speed  Generation  isLegendary  Color  hasGender  Pr_Male  \\\n",
       "0      65     45           1        False  Green       True    0.875   \n",
       "1      80     60           1        False  Green       True    0.875   \n",
       "2     100     80           1        False  Green       True    0.875   \n",
       "\n",
       "  Egg_Group_1 Egg_Group_2  hasMegaEvolution  Height_m  Weight_kg  Catch_Rate  \\\n",
       "0     Monster       Grass             False      0.71        6.9          45   \n",
       "1     Monster       Grass             False      0.99       13.0          45   \n",
       "2     Monster       Grass              True      2.01      100.0          45   \n",
       "\n",
       "  Body_Style  isFire  \n",
       "0  quadruped       0  \n",
       "1  quadruped       0  \n",
       "2  quadruped       0  "
      ]
     },
     "execution_count": 20,
     "metadata": {},
     "output_type": "execute_result"
    }
   ],
   "source": [
    "pd.set_option('display.max_columns', None)\n",
    "pokemon['isFire'] = list(map(lambda x,y: 1 if (x == 'Fire' or y == 'Fire') else 0, pokemon.Type_1, pokemon.Type_2))\n",
    "pokemon.head(3)"
   ]
  },
  {
   "cell_type": "markdown",
   "id": "8a25a921",
   "metadata": {},
   "source": [
    "### Drop some columns"
   ]
  },
  {
   "cell_type": "markdown",
   "id": "0d6ccc13",
   "metadata": {},
   "source": [
    "The `Number` and `Name` columns will not be very useful for the predictive model. The `isFire` columns was derived from `Type_1` and `Type_2` so it best to remove these columns to avoid multicollinearity problems. The same situation applies to `Total` column. `hasGender` will not be needed also because its information will be obvious in the `Pr_Male` column once the `Pr_Male` column's missing values are imputed with *NoGender*."
   ]
  },
  {
   "cell_type": "code",
   "execution_count": 21,
   "id": "e86c959b",
   "metadata": {},
   "outputs": [
    {
     "data": {
      "text/html": [
       "<div>\n",
       "<style scoped>\n",
       "    .dataframe tbody tr th:only-of-type {\n",
       "        vertical-align: middle;\n",
       "    }\n",
       "\n",
       "    .dataframe tbody tr th {\n",
       "        vertical-align: top;\n",
       "    }\n",
       "\n",
       "    .dataframe thead th {\n",
       "        text-align: right;\n",
       "    }\n",
       "</style>\n",
       "<table border=\"1\" class=\"dataframe\">\n",
       "  <thead>\n",
       "    <tr style=\"text-align: right;\">\n",
       "      <th></th>\n",
       "      <th>HP</th>\n",
       "      <th>Attack</th>\n",
       "      <th>Defense</th>\n",
       "      <th>Sp_Atk</th>\n",
       "      <th>Sp_Def</th>\n",
       "      <th>Speed</th>\n",
       "      <th>isLegendary</th>\n",
       "      <th>Color</th>\n",
       "      <th>Pr_Male</th>\n",
       "      <th>Egg_Group_1</th>\n",
       "      <th>Egg_Group_2</th>\n",
       "      <th>hasMegaEvolution</th>\n",
       "      <th>Height_m</th>\n",
       "      <th>Weight_kg</th>\n",
       "      <th>Catch_Rate</th>\n",
       "      <th>Body_Style</th>\n",
       "      <th>isFire</th>\n",
       "    </tr>\n",
       "  </thead>\n",
       "  <tbody>\n",
       "    <tr>\n",
       "      <th>0</th>\n",
       "      <td>45</td>\n",
       "      <td>49</td>\n",
       "      <td>49</td>\n",
       "      <td>65</td>\n",
       "      <td>65</td>\n",
       "      <td>45</td>\n",
       "      <td>False</td>\n",
       "      <td>Green</td>\n",
       "      <td>0.875</td>\n",
       "      <td>Monster</td>\n",
       "      <td>Grass</td>\n",
       "      <td>False</td>\n",
       "      <td>0.71</td>\n",
       "      <td>6.9</td>\n",
       "      <td>45</td>\n",
       "      <td>quadruped</td>\n",
       "      <td>0</td>\n",
       "    </tr>\n",
       "    <tr>\n",
       "      <th>1</th>\n",
       "      <td>60</td>\n",
       "      <td>62</td>\n",
       "      <td>63</td>\n",
       "      <td>80</td>\n",
       "      <td>80</td>\n",
       "      <td>60</td>\n",
       "      <td>False</td>\n",
       "      <td>Green</td>\n",
       "      <td>0.875</td>\n",
       "      <td>Monster</td>\n",
       "      <td>Grass</td>\n",
       "      <td>False</td>\n",
       "      <td>0.99</td>\n",
       "      <td>13.0</td>\n",
       "      <td>45</td>\n",
       "      <td>quadruped</td>\n",
       "      <td>0</td>\n",
       "    </tr>\n",
       "    <tr>\n",
       "      <th>2</th>\n",
       "      <td>80</td>\n",
       "      <td>82</td>\n",
       "      <td>83</td>\n",
       "      <td>100</td>\n",
       "      <td>100</td>\n",
       "      <td>80</td>\n",
       "      <td>False</td>\n",
       "      <td>Green</td>\n",
       "      <td>0.875</td>\n",
       "      <td>Monster</td>\n",
       "      <td>Grass</td>\n",
       "      <td>True</td>\n",
       "      <td>2.01</td>\n",
       "      <td>100.0</td>\n",
       "      <td>45</td>\n",
       "      <td>quadruped</td>\n",
       "      <td>0</td>\n",
       "    </tr>\n",
       "  </tbody>\n",
       "</table>\n",
       "</div>"
      ],
      "text/plain": [
       "   HP  Attack  Defense  Sp_Atk  Sp_Def  Speed  isLegendary  Color  Pr_Male  \\\n",
       "0  45      49       49      65      65     45        False  Green    0.875   \n",
       "1  60      62       63      80      80     60        False  Green    0.875   \n",
       "2  80      82       83     100     100     80        False  Green    0.875   \n",
       "\n",
       "  Egg_Group_1 Egg_Group_2  hasMegaEvolution  Height_m  Weight_kg  Catch_Rate  \\\n",
       "0     Monster       Grass             False      0.71        6.9          45   \n",
       "1     Monster       Grass             False      0.99       13.0          45   \n",
       "2     Monster       Grass              True      2.01      100.0          45   \n",
       "\n",
       "  Body_Style  isFire  \n",
       "0  quadruped       0  \n",
       "1  quadruped       0  \n",
       "2  quadruped       0  "
      ]
     },
     "execution_count": 21,
     "metadata": {},
     "output_type": "execute_result"
    }
   ],
   "source": [
    "pokemon.drop(['Number','Name','Type_1','Type_2','Total','hasGender','Generation'],axis=1, inplace=True)\n",
    "pokemon.head(3)"
   ]
  },
  {
   "cell_type": "markdown",
   "id": "6b8a76ab",
   "metadata": {},
   "source": [
    "### Impute missing values"
   ]
  },
  {
   "cell_type": "markdown",
   "id": "74c0ebd6",
   "metadata": {},
   "source": [
    "Columns containing missing values:"
   ]
  },
  {
   "cell_type": "code",
   "execution_count": 22,
   "id": "d3545f71",
   "metadata": {},
   "outputs": [
    {
     "data": {
      "text/plain": [
       "Egg_Group_2    530\n",
       "Pr_Male         77\n",
       "Egg_Group_1      0\n",
       "Body_Style       0\n",
       "Catch_Rate       0\n",
       "dtype: int64"
      ]
     },
     "execution_count": 22,
     "metadata": {},
     "output_type": "execute_result"
    }
   ],
   "source": [
    "pokemon.isnull().sum().sort_values(ascending=False).head()"
   ]
  },
  {
   "cell_type": "markdown",
   "id": "fa578467",
   "metadata": {},
   "source": [
    "#### Impute the missing values in `Pr_Male` columns with *NoGender*. \n",
    "Imputing the column will also convert its dtype from float to object type."
   ]
  },
  {
   "cell_type": "code",
   "execution_count": 23,
   "id": "4725cf9f",
   "metadata": {},
   "outputs": [],
   "source": [
    "pokemon.Pr_Male.fillna('NoGender',inplace=True)"
   ]
  },
  {
   "cell_type": "markdown",
   "id": "90647138",
   "metadata": {},
   "source": [
    "These are now the new values of `Pr_Male`."
   ]
  },
  {
   "cell_type": "code",
   "execution_count": 24,
   "id": "5e259d7f",
   "metadata": {},
   "outputs": [
    {
     "data": {
      "text/plain": [
       "0.5         458\n",
       "0.875       101\n",
       "NoGender     77\n",
       "0.0          23\n",
       "0.25         22\n",
       "1.0          19\n",
       "0.75         19\n",
       "0.125         2\n",
       "Name: Pr_Male, dtype: int64"
      ]
     },
     "execution_count": 24,
     "metadata": {},
     "output_type": "execute_result"
    }
   ],
   "source": [
    "pokemon.Pr_Male.value_counts()"
   ]
  },
  {
   "cell_type": "markdown",
   "id": "74a8334d",
   "metadata": {},
   "source": [
    "#### Impute missing values in `Egg_Group_2`"
   ]
  },
  {
   "cell_type": "code",
   "execution_count": 25,
   "id": "d58c4fd1",
   "metadata": {},
   "outputs": [
    {
     "data": {
      "text/plain": [
       "None      530\n",
       "Dragon     35\n",
       "Grass      32\n",
       "Field      31\n",
       "Fairy      17\n",
       "Name: Egg_Group_2, dtype: int64"
      ]
     },
     "execution_count": 25,
     "metadata": {},
     "output_type": "execute_result"
    }
   ],
   "source": [
    "pokemon.Egg_Group_2.fillna('None', inplace=True)\n",
    "pokemon.Egg_Group_2.value_counts().head(5)"
   ]
  },
  {
   "cell_type": "markdown",
   "id": "0bed562b",
   "metadata": {},
   "source": [
    "### Dummy-code some columns"
   ]
  },
  {
   "cell_type": "markdown",
   "id": "88371e40",
   "metadata": {},
   "source": [
    "Define a function that will dummy-code multiple columns."
   ]
  },
  {
   "cell_type": "code",
   "execution_count": 26,
   "id": "38f95c22",
   "metadata": {},
   "outputs": [],
   "source": [
    "def dummify(data, columns):\n",
    "    for col in columns:\n",
    "        x = pd.get_dummies(data[col],prefix=col,drop_first=False)\n",
    "        data = data.drop(col, 1)\n",
    "        data = pd.concat([data, x], axis=1)\n",
    "    return data"
   ]
  },
  {
   "cell_type": "code",
   "execution_count": 27,
   "id": "326cd267",
   "metadata": {},
   "outputs": [],
   "source": [
    "dummified = dummify(data=pokemon,columns=['Color','Pr_Male','Egg_Group_1','Egg_Group_2','Body_Style'])"
   ]
  },
  {
   "cell_type": "code",
   "execution_count": 28,
   "id": "1e06e59d",
   "metadata": {},
   "outputs": [
    {
     "data": {
      "text/html": [
       "<div>\n",
       "<style scoped>\n",
       "    .dataframe tbody tr th:only-of-type {\n",
       "        vertical-align: middle;\n",
       "    }\n",
       "\n",
       "    .dataframe tbody tr th {\n",
       "        vertical-align: top;\n",
       "    }\n",
       "\n",
       "    .dataframe thead th {\n",
       "        text-align: right;\n",
       "    }\n",
       "</style>\n",
       "<table border=\"1\" class=\"dataframe\">\n",
       "  <thead>\n",
       "    <tr style=\"text-align: right;\">\n",
       "      <th></th>\n",
       "      <th>HP</th>\n",
       "      <th>Attack</th>\n",
       "      <th>Defense</th>\n",
       "      <th>Sp_Atk</th>\n",
       "      <th>Sp_Def</th>\n",
       "      <th>Speed</th>\n",
       "      <th>isLegendary</th>\n",
       "      <th>hasMegaEvolution</th>\n",
       "      <th>Height_m</th>\n",
       "      <th>Weight_kg</th>\n",
       "      <th>Catch_Rate</th>\n",
       "      <th>isFire</th>\n",
       "      <th>Color_Black</th>\n",
       "      <th>Color_Blue</th>\n",
       "      <th>Color_Brown</th>\n",
       "      <th>Color_Green</th>\n",
       "      <th>Color_Grey</th>\n",
       "      <th>Color_Pink</th>\n",
       "      <th>Color_Purple</th>\n",
       "      <th>Color_Red</th>\n",
       "      <th>Color_White</th>\n",
       "      <th>Color_Yellow</th>\n",
       "      <th>Pr_Male_0.0</th>\n",
       "      <th>Pr_Male_0.125</th>\n",
       "      <th>Pr_Male_0.25</th>\n",
       "      <th>Pr_Male_0.5</th>\n",
       "      <th>Pr_Male_0.75</th>\n",
       "      <th>Pr_Male_0.875</th>\n",
       "      <th>Pr_Male_1.0</th>\n",
       "      <th>Pr_Male_NoGender</th>\n",
       "      <th>Egg_Group_1_Amorphous</th>\n",
       "      <th>Egg_Group_1_Bug</th>\n",
       "      <th>Egg_Group_1_Ditto</th>\n",
       "      <th>Egg_Group_1_Dragon</th>\n",
       "      <th>Egg_Group_1_Fairy</th>\n",
       "      <th>Egg_Group_1_Field</th>\n",
       "      <th>Egg_Group_1_Flying</th>\n",
       "      <th>Egg_Group_1_Grass</th>\n",
       "      <th>Egg_Group_1_Human-Like</th>\n",
       "      <th>Egg_Group_1_Mineral</th>\n",
       "      <th>Egg_Group_1_Monster</th>\n",
       "      <th>Egg_Group_1_Undiscovered</th>\n",
       "      <th>Egg_Group_1_Water_1</th>\n",
       "      <th>Egg_Group_1_Water_2</th>\n",
       "      <th>Egg_Group_1_Water_3</th>\n",
       "      <th>Egg_Group_2_Amorphous</th>\n",
       "      <th>Egg_Group_2_Bug</th>\n",
       "      <th>Egg_Group_2_Dragon</th>\n",
       "      <th>Egg_Group_2_Fairy</th>\n",
       "      <th>Egg_Group_2_Field</th>\n",
       "      <th>Egg_Group_2_Flying</th>\n",
       "      <th>Egg_Group_2_Grass</th>\n",
       "      <th>Egg_Group_2_Human-Like</th>\n",
       "      <th>Egg_Group_2_Mineral</th>\n",
       "      <th>Egg_Group_2_Monster</th>\n",
       "      <th>Egg_Group_2_None</th>\n",
       "      <th>Egg_Group_2_Water_1</th>\n",
       "      <th>Egg_Group_2_Water_2</th>\n",
       "      <th>Egg_Group_2_Water_3</th>\n",
       "      <th>Body_Style_bipedal_tailed</th>\n",
       "      <th>Body_Style_bipedal_tailless</th>\n",
       "      <th>Body_Style_four_wings</th>\n",
       "      <th>Body_Style_head_arms</th>\n",
       "      <th>Body_Style_head_base</th>\n",
       "      <th>Body_Style_head_legs</th>\n",
       "      <th>Body_Style_head_only</th>\n",
       "      <th>Body_Style_insectoid</th>\n",
       "      <th>Body_Style_multiple_bodies</th>\n",
       "      <th>Body_Style_quadruped</th>\n",
       "      <th>Body_Style_serpentine_body</th>\n",
       "      <th>Body_Style_several_limbs</th>\n",
       "      <th>Body_Style_two_wings</th>\n",
       "      <th>Body_Style_with_fins</th>\n",
       "    </tr>\n",
       "  </thead>\n",
       "  <tbody>\n",
       "    <tr>\n",
       "      <th>0</th>\n",
       "      <td>45</td>\n",
       "      <td>49</td>\n",
       "      <td>49</td>\n",
       "      <td>65</td>\n",
       "      <td>65</td>\n",
       "      <td>45</td>\n",
       "      <td>False</td>\n",
       "      <td>False</td>\n",
       "      <td>0.71</td>\n",
       "      <td>6.9</td>\n",
       "      <td>45</td>\n",
       "      <td>0</td>\n",
       "      <td>0</td>\n",
       "      <td>0</td>\n",
       "      <td>0</td>\n",
       "      <td>1</td>\n",
       "      <td>0</td>\n",
       "      <td>0</td>\n",
       "      <td>0</td>\n",
       "      <td>0</td>\n",
       "      <td>0</td>\n",
       "      <td>0</td>\n",
       "      <td>0</td>\n",
       "      <td>0</td>\n",
       "      <td>0</td>\n",
       "      <td>0</td>\n",
       "      <td>0</td>\n",
       "      <td>1</td>\n",
       "      <td>0</td>\n",
       "      <td>0</td>\n",
       "      <td>0</td>\n",
       "      <td>0</td>\n",
       "      <td>0</td>\n",
       "      <td>0</td>\n",
       "      <td>0</td>\n",
       "      <td>0</td>\n",
       "      <td>0</td>\n",
       "      <td>0</td>\n",
       "      <td>0</td>\n",
       "      <td>0</td>\n",
       "      <td>1</td>\n",
       "      <td>0</td>\n",
       "      <td>0</td>\n",
       "      <td>0</td>\n",
       "      <td>0</td>\n",
       "      <td>0</td>\n",
       "      <td>0</td>\n",
       "      <td>0</td>\n",
       "      <td>0</td>\n",
       "      <td>0</td>\n",
       "      <td>0</td>\n",
       "      <td>1</td>\n",
       "      <td>0</td>\n",
       "      <td>0</td>\n",
       "      <td>0</td>\n",
       "      <td>0</td>\n",
       "      <td>0</td>\n",
       "      <td>0</td>\n",
       "      <td>0</td>\n",
       "      <td>0</td>\n",
       "      <td>0</td>\n",
       "      <td>0</td>\n",
       "      <td>0</td>\n",
       "      <td>0</td>\n",
       "      <td>0</td>\n",
       "      <td>0</td>\n",
       "      <td>0</td>\n",
       "      <td>0</td>\n",
       "      <td>1</td>\n",
       "      <td>0</td>\n",
       "      <td>0</td>\n",
       "      <td>0</td>\n",
       "      <td>0</td>\n",
       "    </tr>\n",
       "    <tr>\n",
       "      <th>1</th>\n",
       "      <td>60</td>\n",
       "      <td>62</td>\n",
       "      <td>63</td>\n",
       "      <td>80</td>\n",
       "      <td>80</td>\n",
       "      <td>60</td>\n",
       "      <td>False</td>\n",
       "      <td>False</td>\n",
       "      <td>0.99</td>\n",
       "      <td>13.0</td>\n",
       "      <td>45</td>\n",
       "      <td>0</td>\n",
       "      <td>0</td>\n",
       "      <td>0</td>\n",
       "      <td>0</td>\n",
       "      <td>1</td>\n",
       "      <td>0</td>\n",
       "      <td>0</td>\n",
       "      <td>0</td>\n",
       "      <td>0</td>\n",
       "      <td>0</td>\n",
       "      <td>0</td>\n",
       "      <td>0</td>\n",
       "      <td>0</td>\n",
       "      <td>0</td>\n",
       "      <td>0</td>\n",
       "      <td>0</td>\n",
       "      <td>1</td>\n",
       "      <td>0</td>\n",
       "      <td>0</td>\n",
       "      <td>0</td>\n",
       "      <td>0</td>\n",
       "      <td>0</td>\n",
       "      <td>0</td>\n",
       "      <td>0</td>\n",
       "      <td>0</td>\n",
       "      <td>0</td>\n",
       "      <td>0</td>\n",
       "      <td>0</td>\n",
       "      <td>0</td>\n",
       "      <td>1</td>\n",
       "      <td>0</td>\n",
       "      <td>0</td>\n",
       "      <td>0</td>\n",
       "      <td>0</td>\n",
       "      <td>0</td>\n",
       "      <td>0</td>\n",
       "      <td>0</td>\n",
       "      <td>0</td>\n",
       "      <td>0</td>\n",
       "      <td>0</td>\n",
       "      <td>1</td>\n",
       "      <td>0</td>\n",
       "      <td>0</td>\n",
       "      <td>0</td>\n",
       "      <td>0</td>\n",
       "      <td>0</td>\n",
       "      <td>0</td>\n",
       "      <td>0</td>\n",
       "      <td>0</td>\n",
       "      <td>0</td>\n",
       "      <td>0</td>\n",
       "      <td>0</td>\n",
       "      <td>0</td>\n",
       "      <td>0</td>\n",
       "      <td>0</td>\n",
       "      <td>0</td>\n",
       "      <td>0</td>\n",
       "      <td>1</td>\n",
       "      <td>0</td>\n",
       "      <td>0</td>\n",
       "      <td>0</td>\n",
       "      <td>0</td>\n",
       "    </tr>\n",
       "    <tr>\n",
       "      <th>2</th>\n",
       "      <td>80</td>\n",
       "      <td>82</td>\n",
       "      <td>83</td>\n",
       "      <td>100</td>\n",
       "      <td>100</td>\n",
       "      <td>80</td>\n",
       "      <td>False</td>\n",
       "      <td>True</td>\n",
       "      <td>2.01</td>\n",
       "      <td>100.0</td>\n",
       "      <td>45</td>\n",
       "      <td>0</td>\n",
       "      <td>0</td>\n",
       "      <td>0</td>\n",
       "      <td>0</td>\n",
       "      <td>1</td>\n",
       "      <td>0</td>\n",
       "      <td>0</td>\n",
       "      <td>0</td>\n",
       "      <td>0</td>\n",
       "      <td>0</td>\n",
       "      <td>0</td>\n",
       "      <td>0</td>\n",
       "      <td>0</td>\n",
       "      <td>0</td>\n",
       "      <td>0</td>\n",
       "      <td>0</td>\n",
       "      <td>1</td>\n",
       "      <td>0</td>\n",
       "      <td>0</td>\n",
       "      <td>0</td>\n",
       "      <td>0</td>\n",
       "      <td>0</td>\n",
       "      <td>0</td>\n",
       "      <td>0</td>\n",
       "      <td>0</td>\n",
       "      <td>0</td>\n",
       "      <td>0</td>\n",
       "      <td>0</td>\n",
       "      <td>0</td>\n",
       "      <td>1</td>\n",
       "      <td>0</td>\n",
       "      <td>0</td>\n",
       "      <td>0</td>\n",
       "      <td>0</td>\n",
       "      <td>0</td>\n",
       "      <td>0</td>\n",
       "      <td>0</td>\n",
       "      <td>0</td>\n",
       "      <td>0</td>\n",
       "      <td>0</td>\n",
       "      <td>1</td>\n",
       "      <td>0</td>\n",
       "      <td>0</td>\n",
       "      <td>0</td>\n",
       "      <td>0</td>\n",
       "      <td>0</td>\n",
       "      <td>0</td>\n",
       "      <td>0</td>\n",
       "      <td>0</td>\n",
       "      <td>0</td>\n",
       "      <td>0</td>\n",
       "      <td>0</td>\n",
       "      <td>0</td>\n",
       "      <td>0</td>\n",
       "      <td>0</td>\n",
       "      <td>0</td>\n",
       "      <td>0</td>\n",
       "      <td>1</td>\n",
       "      <td>0</td>\n",
       "      <td>0</td>\n",
       "      <td>0</td>\n",
       "      <td>0</td>\n",
       "    </tr>\n",
       "    <tr>\n",
       "      <th>3</th>\n",
       "      <td>39</td>\n",
       "      <td>52</td>\n",
       "      <td>43</td>\n",
       "      <td>60</td>\n",
       "      <td>50</td>\n",
       "      <td>65</td>\n",
       "      <td>False</td>\n",
       "      <td>False</td>\n",
       "      <td>0.61</td>\n",
       "      <td>8.5</td>\n",
       "      <td>45</td>\n",
       "      <td>1</td>\n",
       "      <td>0</td>\n",
       "      <td>0</td>\n",
       "      <td>0</td>\n",
       "      <td>0</td>\n",
       "      <td>0</td>\n",
       "      <td>0</td>\n",
       "      <td>0</td>\n",
       "      <td>1</td>\n",
       "      <td>0</td>\n",
       "      <td>0</td>\n",
       "      <td>0</td>\n",
       "      <td>0</td>\n",
       "      <td>0</td>\n",
       "      <td>0</td>\n",
       "      <td>0</td>\n",
       "      <td>1</td>\n",
       "      <td>0</td>\n",
       "      <td>0</td>\n",
       "      <td>0</td>\n",
       "      <td>0</td>\n",
       "      <td>0</td>\n",
       "      <td>0</td>\n",
       "      <td>0</td>\n",
       "      <td>0</td>\n",
       "      <td>0</td>\n",
       "      <td>0</td>\n",
       "      <td>0</td>\n",
       "      <td>0</td>\n",
       "      <td>1</td>\n",
       "      <td>0</td>\n",
       "      <td>0</td>\n",
       "      <td>0</td>\n",
       "      <td>0</td>\n",
       "      <td>0</td>\n",
       "      <td>0</td>\n",
       "      <td>1</td>\n",
       "      <td>0</td>\n",
       "      <td>0</td>\n",
       "      <td>0</td>\n",
       "      <td>0</td>\n",
       "      <td>0</td>\n",
       "      <td>0</td>\n",
       "      <td>0</td>\n",
       "      <td>0</td>\n",
       "      <td>0</td>\n",
       "      <td>0</td>\n",
       "      <td>0</td>\n",
       "      <td>1</td>\n",
       "      <td>0</td>\n",
       "      <td>0</td>\n",
       "      <td>0</td>\n",
       "      <td>0</td>\n",
       "      <td>0</td>\n",
       "      <td>0</td>\n",
       "      <td>0</td>\n",
       "      <td>0</td>\n",
       "      <td>0</td>\n",
       "      <td>0</td>\n",
       "      <td>0</td>\n",
       "      <td>0</td>\n",
       "      <td>0</td>\n",
       "    </tr>\n",
       "    <tr>\n",
       "      <th>4</th>\n",
       "      <td>58</td>\n",
       "      <td>64</td>\n",
       "      <td>58</td>\n",
       "      <td>80</td>\n",
       "      <td>65</td>\n",
       "      <td>80</td>\n",
       "      <td>False</td>\n",
       "      <td>False</td>\n",
       "      <td>1.09</td>\n",
       "      <td>19.0</td>\n",
       "      <td>45</td>\n",
       "      <td>1</td>\n",
       "      <td>0</td>\n",
       "      <td>0</td>\n",
       "      <td>0</td>\n",
       "      <td>0</td>\n",
       "      <td>0</td>\n",
       "      <td>0</td>\n",
       "      <td>0</td>\n",
       "      <td>1</td>\n",
       "      <td>0</td>\n",
       "      <td>0</td>\n",
       "      <td>0</td>\n",
       "      <td>0</td>\n",
       "      <td>0</td>\n",
       "      <td>0</td>\n",
       "      <td>0</td>\n",
       "      <td>1</td>\n",
       "      <td>0</td>\n",
       "      <td>0</td>\n",
       "      <td>0</td>\n",
       "      <td>0</td>\n",
       "      <td>0</td>\n",
       "      <td>0</td>\n",
       "      <td>0</td>\n",
       "      <td>0</td>\n",
       "      <td>0</td>\n",
       "      <td>0</td>\n",
       "      <td>0</td>\n",
       "      <td>0</td>\n",
       "      <td>1</td>\n",
       "      <td>0</td>\n",
       "      <td>0</td>\n",
       "      <td>0</td>\n",
       "      <td>0</td>\n",
       "      <td>0</td>\n",
       "      <td>0</td>\n",
       "      <td>1</td>\n",
       "      <td>0</td>\n",
       "      <td>0</td>\n",
       "      <td>0</td>\n",
       "      <td>0</td>\n",
       "      <td>0</td>\n",
       "      <td>0</td>\n",
       "      <td>0</td>\n",
       "      <td>0</td>\n",
       "      <td>0</td>\n",
       "      <td>0</td>\n",
       "      <td>0</td>\n",
       "      <td>1</td>\n",
       "      <td>0</td>\n",
       "      <td>0</td>\n",
       "      <td>0</td>\n",
       "      <td>0</td>\n",
       "      <td>0</td>\n",
       "      <td>0</td>\n",
       "      <td>0</td>\n",
       "      <td>0</td>\n",
       "      <td>0</td>\n",
       "      <td>0</td>\n",
       "      <td>0</td>\n",
       "      <td>0</td>\n",
       "      <td>0</td>\n",
       "    </tr>\n",
       "  </tbody>\n",
       "</table>\n",
       "</div>"
      ],
      "text/plain": [
       "   HP  Attack  Defense  Sp_Atk  Sp_Def  Speed  isLegendary  hasMegaEvolution  \\\n",
       "0  45      49       49      65      65     45        False             False   \n",
       "1  60      62       63      80      80     60        False             False   \n",
       "2  80      82       83     100     100     80        False              True   \n",
       "3  39      52       43      60      50     65        False             False   \n",
       "4  58      64       58      80      65     80        False             False   \n",
       "\n",
       "   Height_m  Weight_kg  Catch_Rate  isFire  Color_Black  Color_Blue  \\\n",
       "0      0.71        6.9          45       0            0           0   \n",
       "1      0.99       13.0          45       0            0           0   \n",
       "2      2.01      100.0          45       0            0           0   \n",
       "3      0.61        8.5          45       1            0           0   \n",
       "4      1.09       19.0          45       1            0           0   \n",
       "\n",
       "   Color_Brown  Color_Green  Color_Grey  Color_Pink  Color_Purple  Color_Red  \\\n",
       "0            0            1           0           0             0          0   \n",
       "1            0            1           0           0             0          0   \n",
       "2            0            1           0           0             0          0   \n",
       "3            0            0           0           0             0          1   \n",
       "4            0            0           0           0             0          1   \n",
       "\n",
       "   Color_White  Color_Yellow  Pr_Male_0.0  Pr_Male_0.125  Pr_Male_0.25  \\\n",
       "0            0             0            0              0             0   \n",
       "1            0             0            0              0             0   \n",
       "2            0             0            0              0             0   \n",
       "3            0             0            0              0             0   \n",
       "4            0             0            0              0             0   \n",
       "\n",
       "   Pr_Male_0.5  Pr_Male_0.75  Pr_Male_0.875  Pr_Male_1.0  Pr_Male_NoGender  \\\n",
       "0            0             0              1            0                 0   \n",
       "1            0             0              1            0                 0   \n",
       "2            0             0              1            0                 0   \n",
       "3            0             0              1            0                 0   \n",
       "4            0             0              1            0                 0   \n",
       "\n",
       "   Egg_Group_1_Amorphous  Egg_Group_1_Bug  Egg_Group_1_Ditto  \\\n",
       "0                      0                0                  0   \n",
       "1                      0                0                  0   \n",
       "2                      0                0                  0   \n",
       "3                      0                0                  0   \n",
       "4                      0                0                  0   \n",
       "\n",
       "   Egg_Group_1_Dragon  Egg_Group_1_Fairy  Egg_Group_1_Field  \\\n",
       "0                   0                  0                  0   \n",
       "1                   0                  0                  0   \n",
       "2                   0                  0                  0   \n",
       "3                   0                  0                  0   \n",
       "4                   0                  0                  0   \n",
       "\n",
       "   Egg_Group_1_Flying  Egg_Group_1_Grass  Egg_Group_1_Human-Like  \\\n",
       "0                   0                  0                       0   \n",
       "1                   0                  0                       0   \n",
       "2                   0                  0                       0   \n",
       "3                   0                  0                       0   \n",
       "4                   0                  0                       0   \n",
       "\n",
       "   Egg_Group_1_Mineral  Egg_Group_1_Monster  Egg_Group_1_Undiscovered  \\\n",
       "0                    0                    1                         0   \n",
       "1                    0                    1                         0   \n",
       "2                    0                    1                         0   \n",
       "3                    0                    1                         0   \n",
       "4                    0                    1                         0   \n",
       "\n",
       "   Egg_Group_1_Water_1  Egg_Group_1_Water_2  Egg_Group_1_Water_3  \\\n",
       "0                    0                    0                    0   \n",
       "1                    0                    0                    0   \n",
       "2                    0                    0                    0   \n",
       "3                    0                    0                    0   \n",
       "4                    0                    0                    0   \n",
       "\n",
       "   Egg_Group_2_Amorphous  Egg_Group_2_Bug  Egg_Group_2_Dragon  \\\n",
       "0                      0                0                   0   \n",
       "1                      0                0                   0   \n",
       "2                      0                0                   0   \n",
       "3                      0                0                   1   \n",
       "4                      0                0                   1   \n",
       "\n",
       "   Egg_Group_2_Fairy  Egg_Group_2_Field  Egg_Group_2_Flying  \\\n",
       "0                  0                  0                   0   \n",
       "1                  0                  0                   0   \n",
       "2                  0                  0                   0   \n",
       "3                  0                  0                   0   \n",
       "4                  0                  0                   0   \n",
       "\n",
       "   Egg_Group_2_Grass  Egg_Group_2_Human-Like  Egg_Group_2_Mineral  \\\n",
       "0                  1                       0                    0   \n",
       "1                  1                       0                    0   \n",
       "2                  1                       0                    0   \n",
       "3                  0                       0                    0   \n",
       "4                  0                       0                    0   \n",
       "\n",
       "   Egg_Group_2_Monster  Egg_Group_2_None  Egg_Group_2_Water_1  \\\n",
       "0                    0                 0                    0   \n",
       "1                    0                 0                    0   \n",
       "2                    0                 0                    0   \n",
       "3                    0                 0                    0   \n",
       "4                    0                 0                    0   \n",
       "\n",
       "   Egg_Group_2_Water_2  Egg_Group_2_Water_3  Body_Style_bipedal_tailed  \\\n",
       "0                    0                    0                          0   \n",
       "1                    0                    0                          0   \n",
       "2                    0                    0                          0   \n",
       "3                    0                    0                          1   \n",
       "4                    0                    0                          1   \n",
       "\n",
       "   Body_Style_bipedal_tailless  Body_Style_four_wings  Body_Style_head_arms  \\\n",
       "0                            0                      0                     0   \n",
       "1                            0                      0                     0   \n",
       "2                            0                      0                     0   \n",
       "3                            0                      0                     0   \n",
       "4                            0                      0                     0   \n",
       "\n",
       "   Body_Style_head_base  Body_Style_head_legs  Body_Style_head_only  \\\n",
       "0                     0                     0                     0   \n",
       "1                     0                     0                     0   \n",
       "2                     0                     0                     0   \n",
       "3                     0                     0                     0   \n",
       "4                     0                     0                     0   \n",
       "\n",
       "   Body_Style_insectoid  Body_Style_multiple_bodies  Body_Style_quadruped  \\\n",
       "0                     0                           0                     1   \n",
       "1                     0                           0                     1   \n",
       "2                     0                           0                     1   \n",
       "3                     0                           0                     0   \n",
       "4                     0                           0                     0   \n",
       "\n",
       "   Body_Style_serpentine_body  Body_Style_several_limbs  Body_Style_two_wings  \\\n",
       "0                           0                         0                     0   \n",
       "1                           0                         0                     0   \n",
       "2                           0                         0                     0   \n",
       "3                           0                         0                     0   \n",
       "4                           0                         0                     0   \n",
       "\n",
       "   Body_Style_with_fins  \n",
       "0                     0  \n",
       "1                     0  \n",
       "2                     0  \n",
       "3                     0  \n",
       "4                     0  "
      ]
     },
     "execution_count": 28,
     "metadata": {},
     "output_type": "execute_result"
    }
   ],
   "source": [
    "dummified.head()"
   ]
  },
  {
   "cell_type": "markdown",
   "id": "1d05a5f1",
   "metadata": {},
   "source": [
    "### Train/Test  Split"
   ]
  },
  {
   "cell_type": "code",
   "execution_count": 29,
   "id": "36623b2c",
   "metadata": {},
   "outputs": [],
   "source": [
    "from sklearn.model_selection import train_test_split"
   ]
  },
  {
   "cell_type": "code",
   "execution_count": 30,
   "id": "91a9e572",
   "metadata": {},
   "outputs": [],
   "source": [
    "X = dummified.drop('isFire',axis=1)\n",
    "y = dummified['isFire']"
   ]
  },
  {
   "cell_type": "code",
   "execution_count": 31,
   "id": "05bb4e49",
   "metadata": {},
   "outputs": [],
   "source": [
    "X_train, X_test, y_train, y_test = train_test_split(X, y, test_size=0.3, random_state=0)"
   ]
  },
  {
   "cell_type": "markdown",
   "id": "f5681f4f",
   "metadata": {},
   "source": [
    "### Scale"
   ]
  },
  {
   "cell_type": "code",
   "execution_count": 32,
   "id": "7e103560",
   "metadata": {},
   "outputs": [],
   "source": [
    "from sklearn.preprocessing import StandardScaler"
   ]
  },
  {
   "cell_type": "code",
   "execution_count": 33,
   "id": "3d936152",
   "metadata": {},
   "outputs": [],
   "source": [
    "sc = StandardScaler()\n",
    "X_train[['HP','Attack','Defense','Sp_Atk','Sp_Def','Speed','Weight_kg','Height_m','Catch_Rate']] = sc.fit_transform(X_train[['HP','Attack','Defense','Sp_Atk','Sp_Def','Speed','Weight_kg','Height_m','Catch_Rate']])\n",
    "X_test[['HP','Attack','Defense','Sp_Atk','Sp_Def','Speed','Weight_kg','Height_m','Catch_Rate']] = sc.fit_transform(X_test[['HP','Attack','Defense','Sp_Atk','Sp_Def','Speed','Weight_kg','Height_m','Catch_Rate']])"
   ]
  },
  {
   "cell_type": "markdown",
   "id": "54a7fe27",
   "metadata": {},
   "source": [
    "### Upsampling"
   ]
  },
  {
   "cell_type": "code",
   "execution_count": 34,
   "id": "dfb47ab8",
   "metadata": {
    "scrolled": true
   },
   "outputs": [
    {
     "data": {
      "text/plain": [
       "0    466\n",
       "1     38\n",
       "Name: isFire, dtype: int64"
      ]
     },
     "execution_count": 34,
     "metadata": {},
     "output_type": "execute_result"
    }
   ],
   "source": [
    "y_train.value_counts()"
   ]
  },
  {
   "cell_type": "code",
   "execution_count": 35,
   "id": "c14834bf",
   "metadata": {},
   "outputs": [],
   "source": [
    "from sklearn.utils import resample"
   ]
  },
  {
   "cell_type": "code",
   "execution_count": 36,
   "id": "bbcf901e",
   "metadata": {},
   "outputs": [],
   "source": [
    "X = pd.concat([X_train, y_train], axis=1)"
   ]
  },
  {
   "cell_type": "code",
   "execution_count": 37,
   "id": "2f11a826",
   "metadata": {},
   "outputs": [],
   "source": [
    "notFire = X[X.isFire==0]"
   ]
  },
  {
   "cell_type": "code",
   "execution_count": 38,
   "id": "d4bbfd95",
   "metadata": {},
   "outputs": [],
   "source": [
    "yesFire = X[X.isFire==1]"
   ]
  },
  {
   "cell_type": "code",
   "execution_count": 39,
   "id": "f847f970",
   "metadata": {},
   "outputs": [
    {
     "data": {
      "text/plain": [
       "(466, 73)"
      ]
     },
     "execution_count": 39,
     "metadata": {},
     "output_type": "execute_result"
    }
   ],
   "source": [
    "notFire.shape"
   ]
  },
  {
   "cell_type": "code",
   "execution_count": 40,
   "id": "01b77d96",
   "metadata": {},
   "outputs": [],
   "source": [
    "yesFire_upsampled = resample(yesFire,\n",
    "                          replace=True, \n",
    "                          n_samples=len(notFire), \n",
    "                          random_state=25)"
   ]
  },
  {
   "cell_type": "code",
   "execution_count": 41,
   "id": "3a0ec444",
   "metadata": {},
   "outputs": [],
   "source": [
    "yesFire_upsampled = pd.concat([notFire, yesFire_upsampled])"
   ]
  },
  {
   "cell_type": "code",
   "execution_count": 42,
   "id": "9bc98102",
   "metadata": {},
   "outputs": [
    {
     "data": {
      "text/plain": [
       "0    466\n",
       "1    466\n",
       "Name: isFire, dtype: int64"
      ]
     },
     "execution_count": 42,
     "metadata": {},
     "output_type": "execute_result"
    }
   ],
   "source": [
    "yesFire_upsampled.isFire.value_counts()"
   ]
  },
  {
   "cell_type": "code",
   "execution_count": 43,
   "id": "98f3c96e",
   "metadata": {},
   "outputs": [],
   "source": [
    "X_train_upsampled = yesFire_upsampled.drop('isFire',axis=1)\n",
    "y_train_upsampled = yesFire_upsampled['isFire']"
   ]
  },
  {
   "cell_type": "markdown",
   "id": "61c400fe",
   "metadata": {},
   "source": [
    "### Train"
   ]
  },
  {
   "cell_type": "code",
   "execution_count": 44,
   "id": "f4f4c60e",
   "metadata": {},
   "outputs": [],
   "source": [
    "from sklearn.linear_model import LogisticRegression"
   ]
  },
  {
   "cell_type": "code",
   "execution_count": 45,
   "id": "6ab1cf9c",
   "metadata": {},
   "outputs": [],
   "source": [
    "lr = LogisticRegression()"
   ]
  },
  {
   "cell_type": "code",
   "execution_count": 46,
   "id": "f16e71ac",
   "metadata": {},
   "outputs": [
    {
     "data": {
      "text/plain": [
       "LogisticRegression()"
      ]
     },
     "execution_count": 46,
     "metadata": {},
     "output_type": "execute_result"
    }
   ],
   "source": [
    "lr.fit(X_train, y_train)"
   ]
  },
  {
   "cell_type": "code",
   "execution_count": 47,
   "id": "38872db5",
   "metadata": {},
   "outputs": [
    {
     "data": {
      "text/plain": [
       "array([0, 0, 0, 0, 0, 0, 0, 0, 0, 0, 0, 0, 0, 0, 0, 0, 0, 0, 0, 0, 0, 0,\n",
       "       0, 0, 0, 0, 0, 0, 0, 0, 0, 0, 0, 0, 0, 0, 0, 0, 1, 0, 0, 0, 0, 0,\n",
       "       0, 0, 0, 0, 0, 0, 0, 0, 0, 0, 0, 0, 0, 0, 0, 0, 0, 0, 0, 1, 0, 0,\n",
       "       0, 0, 0, 0, 0, 0, 0, 0, 0, 0, 0, 0, 1, 0, 0, 0, 0, 0, 0, 0, 0, 0,\n",
       "       0, 0, 0, 0, 0, 0, 0, 0, 0, 0, 1, 0, 0, 0, 0, 0, 0, 0, 0, 0, 0, 0,\n",
       "       0, 0, 0, 0, 0, 0, 0, 0, 0, 0, 0, 0, 0, 0, 1, 0, 0, 0, 0, 1, 0, 0,\n",
       "       0, 0, 0, 1, 0, 0, 0, 0, 1, 0, 0, 0, 0, 0, 0, 0, 0, 0, 0, 0, 0, 0,\n",
       "       0, 0, 0, 0, 0, 0, 0, 0, 0, 0, 0, 0, 0, 0, 0, 0, 0, 0, 0, 0, 0, 0,\n",
       "       0, 0, 0, 0, 0, 0, 0, 1, 0, 0, 1, 0, 0, 0, 0, 0, 0, 0, 0, 0, 0, 0,\n",
       "       0, 0, 0, 1, 0, 0, 0, 0, 0, 0, 0, 0, 0, 0, 0, 0, 0, 0, 0])"
      ]
     },
     "execution_count": 47,
     "metadata": {},
     "output_type": "execute_result"
    }
   ],
   "source": [
    "pred = lr.predict(X_test)\n",
    "pred"
   ]
  },
  {
   "cell_type": "code",
   "execution_count": 48,
   "id": "590f913c",
   "metadata": {},
   "outputs": [],
   "source": [
    "prob = pd.DataFrame(lr.predict_proba(X_test))"
   ]
  },
  {
   "cell_type": "markdown",
   "id": "3b940368",
   "metadata": {},
   "source": [
    "### Column `1` of the dataframe below shows the probability of a pokemon being a fire type."
   ]
  },
  {
   "cell_type": "code",
   "execution_count": 69,
   "id": "3aa5921c",
   "metadata": {
    "scrolled": true
   },
   "outputs": [
    {
     "data": {
      "text/html": [
       "<div>\n",
       "<style scoped>\n",
       "    .dataframe tbody tr th:only-of-type {\n",
       "        vertical-align: middle;\n",
       "    }\n",
       "\n",
       "    .dataframe tbody tr th {\n",
       "        vertical-align: top;\n",
       "    }\n",
       "\n",
       "    .dataframe thead th {\n",
       "        text-align: right;\n",
       "    }\n",
       "</style>\n",
       "<table border=\"1\" class=\"dataframe\">\n",
       "  <thead>\n",
       "    <tr style=\"text-align: right;\">\n",
       "      <th></th>\n",
       "      <th>0</th>\n",
       "      <th>1</th>\n",
       "      <th>isFire</th>\n",
       "    </tr>\n",
       "  </thead>\n",
       "  <tbody>\n",
       "    <tr>\n",
       "      <th>176</th>\n",
       "      <td>0.998603</td>\n",
       "      <td>0.001397</td>\n",
       "      <td>0</td>\n",
       "    </tr>\n",
       "    <tr>\n",
       "      <th>109</th>\n",
       "      <td>0.975148</td>\n",
       "      <td>0.024852</td>\n",
       "      <td>0</td>\n",
       "    </tr>\n",
       "    <tr>\n",
       "      <th>190</th>\n",
       "      <td>0.940932</td>\n",
       "      <td>0.059068</td>\n",
       "      <td>0</td>\n",
       "    </tr>\n",
       "    <tr>\n",
       "      <th>52</th>\n",
       "      <td>0.998325</td>\n",
       "      <td>0.001675</td>\n",
       "      <td>0</td>\n",
       "    </tr>\n",
       "    <tr>\n",
       "      <th>151</th>\n",
       "      <td>0.986246</td>\n",
       "      <td>0.013754</td>\n",
       "      <td>0</td>\n",
       "    </tr>\n",
       "    <tr>\n",
       "      <th>126</th>\n",
       "      <td>0.997894</td>\n",
       "      <td>0.002106</td>\n",
       "      <td>0</td>\n",
       "    </tr>\n",
       "    <tr>\n",
       "      <th>188</th>\n",
       "      <td>0.968512</td>\n",
       "      <td>0.031488</td>\n",
       "      <td>0</td>\n",
       "    </tr>\n",
       "    <tr>\n",
       "      <th>14</th>\n",
       "      <td>0.952868</td>\n",
       "      <td>0.047132</td>\n",
       "      <td>0</td>\n",
       "    </tr>\n",
       "    <tr>\n",
       "      <th>8</th>\n",
       "      <td>0.995623</td>\n",
       "      <td>0.004377</td>\n",
       "      <td>0</td>\n",
       "    </tr>\n",
       "    <tr>\n",
       "      <th>143</th>\n",
       "      <td>0.997111</td>\n",
       "      <td>0.002889</td>\n",
       "      <td>0</td>\n",
       "    </tr>\n",
       "    <tr>\n",
       "      <th>152</th>\n",
       "      <td>0.963728</td>\n",
       "      <td>0.036272</td>\n",
       "      <td>0</td>\n",
       "    </tr>\n",
       "    <tr>\n",
       "      <th>105</th>\n",
       "      <td>0.837788</td>\n",
       "      <td>0.162212</td>\n",
       "      <td>0</td>\n",
       "    </tr>\n",
       "    <tr>\n",
       "      <th>78</th>\n",
       "      <td>0.230686</td>\n",
       "      <td>0.769314</td>\n",
       "      <td>1</td>\n",
       "    </tr>\n",
       "    <tr>\n",
       "      <th>46</th>\n",
       "      <td>0.918623</td>\n",
       "      <td>0.081377</td>\n",
       "      <td>0</td>\n",
       "    </tr>\n",
       "    <tr>\n",
       "      <th>112</th>\n",
       "      <td>0.995273</td>\n",
       "      <td>0.004727</td>\n",
       "      <td>0</td>\n",
       "    </tr>\n",
       "    <tr>\n",
       "      <th>47</th>\n",
       "      <td>0.759232</td>\n",
       "      <td>0.240768</td>\n",
       "      <td>0</td>\n",
       "    </tr>\n",
       "    <tr>\n",
       "      <th>169</th>\n",
       "      <td>0.859059</td>\n",
       "      <td>0.140941</td>\n",
       "      <td>0</td>\n",
       "    </tr>\n",
       "    <tr>\n",
       "      <th>207</th>\n",
       "      <td>0.959271</td>\n",
       "      <td>0.040729</td>\n",
       "      <td>0</td>\n",
       "    </tr>\n",
       "    <tr>\n",
       "      <th>3</th>\n",
       "      <td>0.978009</td>\n",
       "      <td>0.021991</td>\n",
       "      <td>0</td>\n",
       "    </tr>\n",
       "    <tr>\n",
       "      <th>0</th>\n",
       "      <td>0.872980</td>\n",
       "      <td>0.127020</td>\n",
       "      <td>0</td>\n",
       "    </tr>\n",
       "  </tbody>\n",
       "</table>\n",
       "</div>"
      ],
      "text/plain": [
       "            0         1  isFire\n",
       "176  0.998603  0.001397       0\n",
       "109  0.975148  0.024852       0\n",
       "190  0.940932  0.059068       0\n",
       "52   0.998325  0.001675       0\n",
       "151  0.986246  0.013754       0\n",
       "126  0.997894  0.002106       0\n",
       "188  0.968512  0.031488       0\n",
       "14   0.952868  0.047132       0\n",
       "8    0.995623  0.004377       0\n",
       "143  0.997111  0.002889       0\n",
       "152  0.963728  0.036272       0\n",
       "105  0.837788  0.162212       0\n",
       "78   0.230686  0.769314       1\n",
       "46   0.918623  0.081377       0\n",
       "112  0.995273  0.004727       0\n",
       "47   0.759232  0.240768       0\n",
       "169  0.859059  0.140941       0\n",
       "207  0.959271  0.040729       0\n",
       "3    0.978009  0.021991       0\n",
       "0    0.872980  0.127020       0"
      ]
     },
     "execution_count": 69,
     "metadata": {},
     "output_type": "execute_result"
    }
   ],
   "source": [
    "pd.concat([prob,pd.DataFrame(pred,columns=['isFire'])],axis=1).sample(20)"
   ]
  },
  {
   "cell_type": "markdown",
   "id": "cc4e4fba",
   "metadata": {},
   "source": [
    "## 6. What is the accuracy of your model? (2pts)"
   ]
  },
  {
   "cell_type": "code",
   "execution_count": 50,
   "id": "4aecb9e3",
   "metadata": {},
   "outputs": [],
   "source": [
    "from sklearn import metrics"
   ]
  },
  {
   "cell_type": "code",
   "execution_count": 66,
   "id": "f5149142",
   "metadata": {
    "scrolled": true
   },
   "outputs": [
    {
     "name": "stdout",
     "output_type": "stream",
     "text": [
      "#############################################\n",
      "Model performance metrics without upsampling:\n",
      "Accuracy: 0.9308755760368663\n",
      "Precision: 0.6363636363636364\n",
      "Recall: 0.3888888888888889\n",
      "F1 Score: 0.4827586206896552\n",
      "#############################################\n"
     ]
    }
   ],
   "source": [
    "print('#'*45)\n",
    "print('Model performance metrics without upsampling:')\n",
    "print(\"Accuracy:\",metrics.accuracy_score(y_test, pred))\n",
    "print(\"Precision:\",metrics.precision_score(y_test, pred))\n",
    "print(\"Recall:\",metrics.recall_score(y_test, pred))\n",
    "print(\"F1 Score:\",metrics.f1_score(y_test, pred))\n",
    "print('#'*45)"
   ]
  },
  {
   "cell_type": "markdown",
   "id": "eea90e47",
   "metadata": {},
   "source": [
    "## 7. Apply upsampling for the minority class that is Fire Type and show the change in Accuracy and Precision. (3pts)"
   ]
  },
  {
   "cell_type": "code",
   "execution_count": 52,
   "id": "96b4b003",
   "metadata": {},
   "outputs": [],
   "source": [
    "lr_upsampled = LogisticRegression()"
   ]
  },
  {
   "cell_type": "code",
   "execution_count": 53,
   "id": "bda441f4",
   "metadata": {},
   "outputs": [
    {
     "data": {
      "text/plain": [
       "LogisticRegression()"
      ]
     },
     "execution_count": 53,
     "metadata": {},
     "output_type": "execute_result"
    }
   ],
   "source": [
    "lr_upsampled.fit(X_train_upsampled, y_train_upsampled)"
   ]
  },
  {
   "cell_type": "code",
   "execution_count": 54,
   "id": "5a156a7c",
   "metadata": {
    "scrolled": true
   },
   "outputs": [],
   "source": [
    "pred_upsampled = lr_upsampled.predict(X_test)"
   ]
  },
  {
   "cell_type": "code",
   "execution_count": 67,
   "id": "f1ee6386",
   "metadata": {
    "scrolled": false
   },
   "outputs": [
    {
     "name": "stdout",
     "output_type": "stream",
     "text": [
      "##########################################\n",
      "Model performance metrics with upsampling:\n",
      "Accuracy: 0.8940092165898618\n",
      "Precision: 0.41935483870967744\n",
      "Recall: 0.7222222222222222\n",
      "F1 Score: 0.5306122448979592\n",
      "##########################################\n"
     ]
    }
   ],
   "source": [
    "print('#'*42)\n",
    "print('Model performance metrics with upsampling:')\n",
    "print(\"Accuracy:\",metrics.accuracy_score(y_test, pred_upsampled))\n",
    "print(\"Precision:\",metrics.precision_score(y_test, pred_upsampled))\n",
    "print(\"Recall:\",metrics.recall_score(y_test, pred_upsampled))\n",
    "print(\"F1 Score:\",metrics.f1_score(y_test, pred_upsampled))\n",
    "print('#'*42)"
   ]
  },
  {
   "cell_type": "markdown",
   "id": "f9fb1131",
   "metadata": {},
   "source": [
    "## Bonus 1 : What is the difference between machine learning and pattern recognition?"
   ]
  },
  {
   "cell_type": "markdown",
   "id": "c7cd8136",
   "metadata": {},
   "source": [
    "> **Machine Learning** deals with the construction and study of systems that can learn from data, rather than follow only explicitly programmed instructions whereas **Pattern Recognition** is the recognition of patterns and regularities in data."
   ]
  },
  {
   "cell_type": "markdown",
   "id": "0d0b7696",
   "metadata": {},
   "source": [
    "## Bonus 2: Who is your favorite Pokemon?"
   ]
  },
  {
   "cell_type": "markdown",
   "id": "5a9247c7",
   "metadata": {},
   "source": [
    "> **Pikachu**"
   ]
  }
 ],
 "metadata": {
  "kernelspec": {
   "display_name": "Python 3",
   "language": "python",
   "name": "python3"
  },
  "language_info": {
   "codemirror_mode": {
    "name": "ipython",
    "version": 3
   },
   "file_extension": ".py",
   "mimetype": "text/x-python",
   "name": "python",
   "nbconvert_exporter": "python",
   "pygments_lexer": "ipython3",
   "version": "3.8.8"
  }
 },
 "nbformat": 4,
 "nbformat_minor": 5
}
