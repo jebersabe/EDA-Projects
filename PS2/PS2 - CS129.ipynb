{
 "cells": [
  {
   "cell_type": "markdown",
   "id": "6a370b15-6e72-428c-8918-3d3ee6b0293d",
   "metadata": {
    "tags": []
   },
   "source": [
    "# Problem Set 2 CS129.18\n",
    "\n",
    "The following problem set will revolve around the Pokemon stats dataset.\n",
    "The dataset `data/Pokemon.csv` has **721** rows and **27** columns. Not all columns are needed for the questions to be asked.\n"
   ]
  },
  {
   "cell_type": "markdown",
   "id": "ca04a9c4-33d6-4554-8e55-ccdddb1e380a",
   "metadata": {},
   "source": [
    "## 1. How many Legendary Pokemon are there? ( 1pt )"
   ]
  },
  {
   "cell_type": "code",
   "execution_count": 21,
   "id": "11221f68-2c3c-4584-ad13-0fc1b073a162",
   "metadata": {},
   "outputs": [],
   "source": [
    "import pandas as pd\n",
    "import numpy as np\n",
    "import matplotlib.pyplot as plt\n",
    "import seaborn as sns\n",
    "%matplotlib inline"
   ]
  },
  {
   "cell_type": "code",
   "execution_count": 22,
   "id": "f4977e85-3fda-4527-8dcf-04dc9f838820",
   "metadata": {},
   "outputs": [],
   "source": [
    "pokemon = pd.read_csv('data/pokemon.csv')"
   ]
  },
  {
   "cell_type": "code",
   "execution_count": 23,
   "id": "dedb78a4-88ba-47d0-80d1-bbef5e1fa96c",
   "metadata": {},
   "outputs": [
    {
     "data": {
      "text/plain": [
       "Index(['Number', 'Name', 'Type_1', 'Type_2', 'Total', 'HP', 'Attack',\n",
       "       'Defense', 'Sp_Atk', 'Sp_Def', 'Speed', 'Generation', 'isLegendary',\n",
       "       'Color', 'hasGender', 'Pr_Male', 'Egg_Group_1', 'Egg_Group_2',\n",
       "       'hasMegaEvolution', 'Height_m', 'Weight_kg', 'Catch_Rate',\n",
       "       'Body_Style'],\n",
       "      dtype='object')"
      ]
     },
     "execution_count": 23,
     "metadata": {},
     "output_type": "execute_result"
    }
   ],
   "source": [
    "pokemon.columns"
   ]
  },
  {
   "cell_type": "code",
   "execution_count": 24,
   "id": "06a4366d-1283-4029-a126-367d81d3b033",
   "metadata": {},
   "outputs": [
    {
     "data": {
      "text/plain": [
       "False    675\n",
       "True      46\n",
       "Name: isLegendary, dtype: int64"
      ]
     },
     "execution_count": 24,
     "metadata": {},
     "output_type": "execute_result"
    }
   ],
   "source": [
    "pokemon.isLegendary.value_counts()"
   ]
  },
  {
   "cell_type": "markdown",
   "id": "749e0782-8fdf-4a04-9227-617816521857",
   "metadata": {},
   "source": [
    "**There are `46` legendary pokemons in the dataset.**\n",
    "____"
   ]
  },
  {
   "cell_type": "markdown",
   "id": "355d147b-3ed8-4c44-8c0f-1cd59895b111",
   "metadata": {},
   "source": [
    "## 2. Who is the Pokemon with the highest attack-to-HP ratio? (Tip: Just get the divide attack by HP) (3pts)"
   ]
  },
  {
   "cell_type": "markdown",
   "id": "a9ef3b68-784b-4060-aacd-02f25a5a36ea",
   "metadata": {},
   "source": [
    "Create a new column which is equal to the ratio of `Attack` and `HP`."
   ]
  },
  {
   "cell_type": "code",
   "execution_count": 25,
   "id": "924455bf-5a76-480a-9d3c-1e8af7a61c7d",
   "metadata": {},
   "outputs": [],
   "source": [
    "pokemon['A2HP'] = pokemon['Attack']/pokemon['HP']"
   ]
  },
  {
   "cell_type": "code",
   "execution_count": 26,
   "id": "46fa1af8-0d85-4463-9f58-5aea4124b022",
   "metadata": {},
   "outputs": [
    {
     "data": {
      "text/html": [
       "<div>\n",
       "<style scoped>\n",
       "    .dataframe tbody tr th:only-of-type {\n",
       "        vertical-align: middle;\n",
       "    }\n",
       "\n",
       "    .dataframe tbody tr th {\n",
       "        vertical-align: top;\n",
       "    }\n",
       "\n",
       "    .dataframe thead th {\n",
       "        text-align: right;\n",
       "    }\n",
       "</style>\n",
       "<table border=\"1\" class=\"dataframe\">\n",
       "  <thead>\n",
       "    <tr style=\"text-align: right;\">\n",
       "      <th></th>\n",
       "      <th>Number</th>\n",
       "      <th>Name</th>\n",
       "      <th>Type_1</th>\n",
       "      <th>Type_2</th>\n",
       "      <th>Total</th>\n",
       "      <th>HP</th>\n",
       "      <th>Attack</th>\n",
       "      <th>Defense</th>\n",
       "      <th>Sp_Atk</th>\n",
       "      <th>Sp_Def</th>\n",
       "      <th>...</th>\n",
       "      <th>hasGender</th>\n",
       "      <th>Pr_Male</th>\n",
       "      <th>Egg_Group_1</th>\n",
       "      <th>Egg_Group_2</th>\n",
       "      <th>hasMegaEvolution</th>\n",
       "      <th>Height_m</th>\n",
       "      <th>Weight_kg</th>\n",
       "      <th>Catch_Rate</th>\n",
       "      <th>Body_Style</th>\n",
       "      <th>A2HP</th>\n",
       "    </tr>\n",
       "  </thead>\n",
       "  <tbody>\n",
       "    <tr>\n",
       "      <th>291</th>\n",
       "      <td>292</td>\n",
       "      <td>Shedinja</td>\n",
       "      <td>Bug</td>\n",
       "      <td>Ghost</td>\n",
       "      <td>236</td>\n",
       "      <td>1</td>\n",
       "      <td>90</td>\n",
       "      <td>45</td>\n",
       "      <td>30</td>\n",
       "      <td>30</td>\n",
       "      <td>...</td>\n",
       "      <td>False</td>\n",
       "      <td>NaN</td>\n",
       "      <td>Mineral</td>\n",
       "      <td>NaN</td>\n",
       "      <td>False</td>\n",
       "      <td>0.79</td>\n",
       "      <td>1.2</td>\n",
       "      <td>45</td>\n",
       "      <td>head_base</td>\n",
       "      <td>90.0</td>\n",
       "    </tr>\n",
       "  </tbody>\n",
       "</table>\n",
       "<p>1 rows × 24 columns</p>\n",
       "</div>"
      ],
      "text/plain": [
       "     Number      Name Type_1 Type_2  Total  HP  Attack  Defense  Sp_Atk  \\\n",
       "291     292  Shedinja    Bug  Ghost    236   1      90       45      30   \n",
       "\n",
       "     Sp_Def  ...  hasGender  Pr_Male  Egg_Group_1 Egg_Group_2  \\\n",
       "291      30  ...      False      NaN      Mineral         NaN   \n",
       "\n",
       "     hasMegaEvolution  Height_m Weight_kg Catch_Rate  Body_Style  A2HP  \n",
       "291             False      0.79       1.2         45   head_base  90.0  \n",
       "\n",
       "[1 rows x 24 columns]"
      ]
     },
     "execution_count": 26,
     "metadata": {},
     "output_type": "execute_result"
    }
   ],
   "source": [
    "pokemon[pokemon['A2HP'] == pokemon.A2HP.max()]"
   ]
  },
  {
   "cell_type": "markdown",
   "id": "6be4042e-ae3c-43ba-8c14-4dcc4a69d417",
   "metadata": {},
   "source": [
    "**`Shedinja` is the pokemon with the highest attack-to-HP ratio equal to 90.**\n",
    "____"
   ]
  },
  {
   "cell_type": "markdown",
   "id": "2f2e77e3-5043-4369-8f94-6e549bdca29d",
   "metadata": {},
   "source": [
    "## 3. Build a binary classifier for whether Pokemon are Fire Type or not. (4pts)"
   ]
  },
  {
   "cell_type": "markdown",
   "id": "f7c00551-ed40-4f59-937c-418398e2b5d3",
   "metadata": {},
   "source": [
    "There are two columns (`Type_1` and `Type_2`) in the dataset that can tell whether a pokemon is fire type or not."
   ]
  },
  {
   "cell_type": "code",
   "execution_count": 27,
   "id": "7f5e69ca-e977-4ed4-a0a9-9238d6a4d625",
   "metadata": {},
   "outputs": [
    {
     "data": {
      "text/plain": [
       "array(['Grass', 'Fire', 'Water', 'Bug', 'Normal', 'Poison', 'Electric',\n",
       "       'Ground', 'Fairy', 'Fighting', 'Psychic', 'Rock', 'Ghost', 'Ice',\n",
       "       'Dragon', 'Dark', 'Steel', 'Flying'], dtype=object)"
      ]
     },
     "execution_count": 27,
     "metadata": {},
     "output_type": "execute_result"
    }
   ],
   "source": [
    "(pokemon.Type_1.unique())"
   ]
  },
  {
   "cell_type": "code",
   "execution_count": 28,
   "id": "bd1404b7-5323-4f62-a852-16a824e98507",
   "metadata": {
    "tags": []
   },
   "outputs": [
    {
     "data": {
      "text/plain": [
       "array(['Poison', nan, 'Flying', 'Ground', 'Fairy', 'Grass', 'Fighting',\n",
       "       'Psychic', 'Steel', 'Ice', 'Rock', 'Water', 'Electric', 'Fire',\n",
       "       'Dragon', 'Dark', 'Ghost', 'Bug', 'Normal'], dtype=object)"
      ]
     },
     "execution_count": 28,
     "metadata": {},
     "output_type": "execute_result"
    }
   ],
   "source": [
    "(pokemon.Type_2.unique())"
   ]
  },
  {
   "cell_type": "markdown",
   "id": "0dcd73b5-b840-4d56-b5ff-3c9b8b49f096",
   "metadata": {},
   "source": [
    "Create new column `isFire` based on whether `Type_1` or `Type_2` is equal to *Fire*."
   ]
  },
  {
   "cell_type": "code",
   "execution_count": 29,
   "id": "f8453fa0-240c-446f-9368-29e5bc54757b",
   "metadata": {},
   "outputs": [],
   "source": [
    "pokemon['isFire'] = list(map(lambda x,y: 1 if (x == 'Fire' or y == 'Fire') else 0, pokemon.Type_1, pokemon.Type_2))"
   ]
  },
  {
   "cell_type": "markdown",
   "id": "6c52edce-a7a6-4292-8537-d956017c04de",
   "metadata": {},
   "source": [
    "Count how many of the pokemons are fire type:"
   ]
  },
  {
   "cell_type": "code",
   "execution_count": 30,
   "id": "28e83f1e-ae2c-4853-9fb2-1dc898266958",
   "metadata": {},
   "outputs": [
    {
     "data": {
      "text/plain": [
       "0    665\n",
       "1     56\n",
       "Name: isFire, dtype: int64"
      ]
     },
     "execution_count": 30,
     "metadata": {},
     "output_type": "execute_result"
    }
   ],
   "source": [
    "pokemon.isFire.value_counts()"
   ]
  },
  {
   "cell_type": "markdown",
   "id": "7bd04fc3-856d-40eb-941d-68e129cf2f42",
   "metadata": {},
   "source": [
    "Confirm this from columns `Type_1` and `Type_2`:"
   ]
  },
  {
   "cell_type": "code",
   "execution_count": 31,
   "id": "85d4d798-ba3d-4484-9043-c3f67dc51877",
   "metadata": {
    "tags": []
   },
   "outputs": [
    {
     "data": {
      "text/plain": [
       "56"
      ]
     },
     "execution_count": 31,
     "metadata": {},
     "output_type": "execute_result"
    }
   ],
   "source": [
    "sum(pokemon.Type_1 == 'Fire') + sum(pokemon.Type_2 == 'Fire')"
   ]
  },
  {
   "cell_type": "markdown",
   "id": "db3bccd9-b0f1-42aa-bff9-c63f6c671b4a",
   "metadata": {},
   "source": [
    "**This is the resulting dataframe with the fire type classifier column:**"
   ]
  },
  {
   "cell_type": "code",
   "execution_count": 32,
   "id": "75498f7f-fa8c-42a6-8975-3a4542130aaa",
   "metadata": {},
   "outputs": [
    {
     "data": {
      "text/html": [
       "<div>\n",
       "<style scoped>\n",
       "    .dataframe tbody tr th:only-of-type {\n",
       "        vertical-align: middle;\n",
       "    }\n",
       "\n",
       "    .dataframe tbody tr th {\n",
       "        vertical-align: top;\n",
       "    }\n",
       "\n",
       "    .dataframe thead th {\n",
       "        text-align: right;\n",
       "    }\n",
       "</style>\n",
       "<table border=\"1\" class=\"dataframe\">\n",
       "  <thead>\n",
       "    <tr style=\"text-align: right;\">\n",
       "      <th></th>\n",
       "      <th>Number</th>\n",
       "      <th>Name</th>\n",
       "      <th>Type_1</th>\n",
       "      <th>Type_2</th>\n",
       "      <th>Total</th>\n",
       "      <th>HP</th>\n",
       "      <th>Attack</th>\n",
       "      <th>Defense</th>\n",
       "      <th>Sp_Atk</th>\n",
       "      <th>Sp_Def</th>\n",
       "      <th>...</th>\n",
       "      <th>Pr_Male</th>\n",
       "      <th>Egg_Group_1</th>\n",
       "      <th>Egg_Group_2</th>\n",
       "      <th>hasMegaEvolution</th>\n",
       "      <th>Height_m</th>\n",
       "      <th>Weight_kg</th>\n",
       "      <th>Catch_Rate</th>\n",
       "      <th>Body_Style</th>\n",
       "      <th>A2HP</th>\n",
       "      <th>isFire</th>\n",
       "    </tr>\n",
       "  </thead>\n",
       "  <tbody>\n",
       "    <tr>\n",
       "      <th>396</th>\n",
       "      <td>397</td>\n",
       "      <td>Staravia</td>\n",
       "      <td>Normal</td>\n",
       "      <td>Flying</td>\n",
       "      <td>340</td>\n",
       "      <td>55</td>\n",
       "      <td>75</td>\n",
       "      <td>50</td>\n",
       "      <td>40</td>\n",
       "      <td>40</td>\n",
       "      <td>...</td>\n",
       "      <td>0.500</td>\n",
       "      <td>Flying</td>\n",
       "      <td>NaN</td>\n",
       "      <td>False</td>\n",
       "      <td>0.61</td>\n",
       "      <td>15.5</td>\n",
       "      <td>120</td>\n",
       "      <td>two_wings</td>\n",
       "      <td>1.363636</td>\n",
       "      <td>0</td>\n",
       "    </tr>\n",
       "    <tr>\n",
       "      <th>520</th>\n",
       "      <td>521</td>\n",
       "      <td>Unfezant</td>\n",
       "      <td>Normal</td>\n",
       "      <td>Flying</td>\n",
       "      <td>488</td>\n",
       "      <td>80</td>\n",
       "      <td>115</td>\n",
       "      <td>80</td>\n",
       "      <td>65</td>\n",
       "      <td>55</td>\n",
       "      <td>...</td>\n",
       "      <td>0.500</td>\n",
       "      <td>Flying</td>\n",
       "      <td>NaN</td>\n",
       "      <td>False</td>\n",
       "      <td>1.19</td>\n",
       "      <td>29.0</td>\n",
       "      <td>45</td>\n",
       "      <td>two_wings</td>\n",
       "      <td>1.437500</td>\n",
       "      <td>0</td>\n",
       "    </tr>\n",
       "    <tr>\n",
       "      <th>690</th>\n",
       "      <td>691</td>\n",
       "      <td>Dragalge</td>\n",
       "      <td>Poison</td>\n",
       "      <td>Dragon</td>\n",
       "      <td>494</td>\n",
       "      <td>65</td>\n",
       "      <td>75</td>\n",
       "      <td>90</td>\n",
       "      <td>97</td>\n",
       "      <td>123</td>\n",
       "      <td>...</td>\n",
       "      <td>0.500</td>\n",
       "      <td>Water_1</td>\n",
       "      <td>Dragon</td>\n",
       "      <td>False</td>\n",
       "      <td>1.80</td>\n",
       "      <td>81.5</td>\n",
       "      <td>55</td>\n",
       "      <td>head_base</td>\n",
       "      <td>1.153846</td>\n",
       "      <td>0</td>\n",
       "    </tr>\n",
       "    <tr>\n",
       "      <th>154</th>\n",
       "      <td>155</td>\n",
       "      <td>Cyndaquil</td>\n",
       "      <td>Fire</td>\n",
       "      <td>NaN</td>\n",
       "      <td>309</td>\n",
       "      <td>39</td>\n",
       "      <td>52</td>\n",
       "      <td>43</td>\n",
       "      <td>60</td>\n",
       "      <td>50</td>\n",
       "      <td>...</td>\n",
       "      <td>0.875</td>\n",
       "      <td>Field</td>\n",
       "      <td>NaN</td>\n",
       "      <td>False</td>\n",
       "      <td>0.51</td>\n",
       "      <td>7.9</td>\n",
       "      <td>45</td>\n",
       "      <td>bipedal_tailless</td>\n",
       "      <td>1.333333</td>\n",
       "      <td>1</td>\n",
       "    </tr>\n",
       "    <tr>\n",
       "      <th>492</th>\n",
       "      <td>493</td>\n",
       "      <td>Arceus</td>\n",
       "      <td>Normal</td>\n",
       "      <td>NaN</td>\n",
       "      <td>720</td>\n",
       "      <td>120</td>\n",
       "      <td>120</td>\n",
       "      <td>120</td>\n",
       "      <td>120</td>\n",
       "      <td>120</td>\n",
       "      <td>...</td>\n",
       "      <td>NaN</td>\n",
       "      <td>Undiscovered</td>\n",
       "      <td>NaN</td>\n",
       "      <td>False</td>\n",
       "      <td>3.20</td>\n",
       "      <td>320.0</td>\n",
       "      <td>3</td>\n",
       "      <td>quadruped</td>\n",
       "      <td>1.000000</td>\n",
       "      <td>0</td>\n",
       "    </tr>\n",
       "    <tr>\n",
       "      <th>345</th>\n",
       "      <td>346</td>\n",
       "      <td>Cradily</td>\n",
       "      <td>Rock</td>\n",
       "      <td>Grass</td>\n",
       "      <td>495</td>\n",
       "      <td>86</td>\n",
       "      <td>81</td>\n",
       "      <td>97</td>\n",
       "      <td>81</td>\n",
       "      <td>107</td>\n",
       "      <td>...</td>\n",
       "      <td>0.875</td>\n",
       "      <td>Water_3</td>\n",
       "      <td>NaN</td>\n",
       "      <td>False</td>\n",
       "      <td>1.50</td>\n",
       "      <td>60.4</td>\n",
       "      <td>45</td>\n",
       "      <td>head_base</td>\n",
       "      <td>0.941860</td>\n",
       "      <td>0</td>\n",
       "    </tr>\n",
       "    <tr>\n",
       "      <th>572</th>\n",
       "      <td>573</td>\n",
       "      <td>Cinccino</td>\n",
       "      <td>Normal</td>\n",
       "      <td>NaN</td>\n",
       "      <td>470</td>\n",
       "      <td>75</td>\n",
       "      <td>95</td>\n",
       "      <td>60</td>\n",
       "      <td>65</td>\n",
       "      <td>60</td>\n",
       "      <td>...</td>\n",
       "      <td>0.250</td>\n",
       "      <td>Field</td>\n",
       "      <td>NaN</td>\n",
       "      <td>False</td>\n",
       "      <td>0.51</td>\n",
       "      <td>7.5</td>\n",
       "      <td>60</td>\n",
       "      <td>quadruped</td>\n",
       "      <td>1.266667</td>\n",
       "      <td>0</td>\n",
       "    </tr>\n",
       "    <tr>\n",
       "      <th>584</th>\n",
       "      <td>585</td>\n",
       "      <td>Deerling</td>\n",
       "      <td>Normal</td>\n",
       "      <td>Grass</td>\n",
       "      <td>335</td>\n",
       "      <td>60</td>\n",
       "      <td>60</td>\n",
       "      <td>50</td>\n",
       "      <td>40</td>\n",
       "      <td>50</td>\n",
       "      <td>...</td>\n",
       "      <td>0.500</td>\n",
       "      <td>Field</td>\n",
       "      <td>NaN</td>\n",
       "      <td>False</td>\n",
       "      <td>0.61</td>\n",
       "      <td>19.5</td>\n",
       "      <td>190</td>\n",
       "      <td>quadruped</td>\n",
       "      <td>1.000000</td>\n",
       "      <td>0</td>\n",
       "    </tr>\n",
       "    <tr>\n",
       "      <th>390</th>\n",
       "      <td>391</td>\n",
       "      <td>Monferno</td>\n",
       "      <td>Fire</td>\n",
       "      <td>Fighting</td>\n",
       "      <td>405</td>\n",
       "      <td>64</td>\n",
       "      <td>78</td>\n",
       "      <td>52</td>\n",
       "      <td>78</td>\n",
       "      <td>52</td>\n",
       "      <td>...</td>\n",
       "      <td>0.875</td>\n",
       "      <td>Field</td>\n",
       "      <td>Human-Like</td>\n",
       "      <td>False</td>\n",
       "      <td>0.89</td>\n",
       "      <td>22.0</td>\n",
       "      <td>45</td>\n",
       "      <td>bipedal_tailed</td>\n",
       "      <td>1.218750</td>\n",
       "      <td>1</td>\n",
       "    </tr>\n",
       "    <tr>\n",
       "      <th>275</th>\n",
       "      <td>276</td>\n",
       "      <td>Taillow</td>\n",
       "      <td>Normal</td>\n",
       "      <td>Flying</td>\n",
       "      <td>270</td>\n",
       "      <td>40</td>\n",
       "      <td>55</td>\n",
       "      <td>30</td>\n",
       "      <td>30</td>\n",
       "      <td>30</td>\n",
       "      <td>...</td>\n",
       "      <td>0.500</td>\n",
       "      <td>Flying</td>\n",
       "      <td>NaN</td>\n",
       "      <td>False</td>\n",
       "      <td>0.30</td>\n",
       "      <td>2.3</td>\n",
       "      <td>200</td>\n",
       "      <td>two_wings</td>\n",
       "      <td>1.375000</td>\n",
       "      <td>0</td>\n",
       "    </tr>\n",
       "  </tbody>\n",
       "</table>\n",
       "<p>10 rows × 25 columns</p>\n",
       "</div>"
      ],
      "text/plain": [
       "     Number       Name  Type_1    Type_2  Total   HP  Attack  Defense  Sp_Atk  \\\n",
       "396     397   Staravia  Normal    Flying    340   55      75       50      40   \n",
       "520     521   Unfezant  Normal    Flying    488   80     115       80      65   \n",
       "690     691   Dragalge  Poison    Dragon    494   65      75       90      97   \n",
       "154     155  Cyndaquil    Fire       NaN    309   39      52       43      60   \n",
       "492     493     Arceus  Normal       NaN    720  120     120      120     120   \n",
       "345     346    Cradily    Rock     Grass    495   86      81       97      81   \n",
       "572     573   Cinccino  Normal       NaN    470   75      95       60      65   \n",
       "584     585   Deerling  Normal     Grass    335   60      60       50      40   \n",
       "390     391   Monferno    Fire  Fighting    405   64      78       52      78   \n",
       "275     276    Taillow  Normal    Flying    270   40      55       30      30   \n",
       "\n",
       "     Sp_Def  ...  Pr_Male   Egg_Group_1  Egg_Group_2 hasMegaEvolution  \\\n",
       "396      40  ...    0.500        Flying          NaN            False   \n",
       "520      55  ...    0.500        Flying          NaN            False   \n",
       "690     123  ...    0.500       Water_1       Dragon            False   \n",
       "154      50  ...    0.875         Field          NaN            False   \n",
       "492     120  ...      NaN  Undiscovered          NaN            False   \n",
       "345     107  ...    0.875       Water_3          NaN            False   \n",
       "572      60  ...    0.250         Field          NaN            False   \n",
       "584      50  ...    0.500         Field          NaN            False   \n",
       "390      52  ...    0.875         Field   Human-Like            False   \n",
       "275      30  ...    0.500        Flying          NaN            False   \n",
       "\n",
       "     Height_m  Weight_kg Catch_Rate        Body_Style      A2HP  isFire  \n",
       "396      0.61       15.5        120         two_wings  1.363636       0  \n",
       "520      1.19       29.0         45         two_wings  1.437500       0  \n",
       "690      1.80       81.5         55         head_base  1.153846       0  \n",
       "154      0.51        7.9         45  bipedal_tailless  1.333333       1  \n",
       "492      3.20      320.0          3         quadruped  1.000000       0  \n",
       "345      1.50       60.4         45         head_base  0.941860       0  \n",
       "572      0.51        7.5         60         quadruped  1.266667       0  \n",
       "584      0.61       19.5        190         quadruped  1.000000       0  \n",
       "390      0.89       22.0         45    bipedal_tailed  1.218750       1  \n",
       "275      0.30        2.3        200         two_wings  1.375000       0  \n",
       "\n",
       "[10 rows x 25 columns]"
      ]
     },
     "execution_count": 32,
     "metadata": {},
     "output_type": "execute_result"
    }
   ],
   "source": [
    "pokemon.sample(10)"
   ]
  },
  {
   "cell_type": "markdown",
   "id": "25dac2fc-239b-4c6f-91bc-d01a12665435",
   "metadata": {},
   "source": [
    "____"
   ]
  },
  {
   "cell_type": "markdown",
   "id": "5f8ca852-5fb6-4ed9-9000-55b6d4d0a8bc",
   "metadata": {},
   "source": [
    "## 4. Describe the attributes and stats of all Legendary Type pokemon using boxplots. (5pts)"
   ]
  },
  {
   "cell_type": "code",
   "execution_count": 33,
   "id": "70502048-664b-4356-8f63-dafde7e21dd9",
   "metadata": {},
   "outputs": [],
   "source": [
    "pokemon = pd.read_csv('data/pokemon.csv')"
   ]
  },
  {
   "cell_type": "code",
   "execution_count": 34,
   "id": "6ae0ec94-97fa-4cfb-b683-8e0bc74eb07d",
   "metadata": {
    "tags": []
   },
   "outputs": [
    {
     "data": {
      "text/plain": [
       "Index(['Number', 'Name', 'Type_1', 'Type_2', 'Total', 'HP', 'Attack',\n",
       "       'Defense', 'Sp_Atk', 'Sp_Def', 'Speed', 'Generation', 'isLegendary',\n",
       "       'Color', 'hasGender', 'Pr_Male', 'Egg_Group_1', 'Egg_Group_2',\n",
       "       'hasMegaEvolution', 'Height_m', 'Weight_kg', 'Catch_Rate',\n",
       "       'Body_Style'],\n",
       "      dtype='object')"
      ]
     },
     "execution_count": 34,
     "metadata": {},
     "output_type": "execute_result"
    }
   ],
   "source": [
    "pokemon.columns"
   ]
  },
  {
   "cell_type": "code",
   "execution_count": 35,
   "id": "a282570a-6032-4558-928f-af42d7956407",
   "metadata": {},
   "outputs": [
    {
     "name": "stdout",
     "output_type": "stream",
     "text": [
      "<class 'pandas.core.frame.DataFrame'>\n",
      "RangeIndex: 721 entries, 0 to 720\n",
      "Data columns (total 23 columns):\n",
      " #   Column            Non-Null Count  Dtype  \n",
      "---  ------            --------------  -----  \n",
      " 0   Number            721 non-null    int64  \n",
      " 1   Name              721 non-null    object \n",
      " 2   Type_1            721 non-null    object \n",
      " 3   Type_2            350 non-null    object \n",
      " 4   Total             721 non-null    int64  \n",
      " 5   HP                721 non-null    int64  \n",
      " 6   Attack            721 non-null    int64  \n",
      " 7   Defense           721 non-null    int64  \n",
      " 8   Sp_Atk            721 non-null    int64  \n",
      " 9   Sp_Def            721 non-null    int64  \n",
      " 10  Speed             721 non-null    int64  \n",
      " 11  Generation        721 non-null    int64  \n",
      " 12  isLegendary       721 non-null    bool   \n",
      " 13  Color             721 non-null    object \n",
      " 14  hasGender         721 non-null    bool   \n",
      " 15  Pr_Male           644 non-null    float64\n",
      " 16  Egg_Group_1       721 non-null    object \n",
      " 17  Egg_Group_2       191 non-null    object \n",
      " 18  hasMegaEvolution  721 non-null    bool   \n",
      " 19  Height_m          721 non-null    float64\n",
      " 20  Weight_kg         721 non-null    float64\n",
      " 21  Catch_Rate        721 non-null    int64  \n",
      " 22  Body_Style        721 non-null    object \n",
      "dtypes: bool(3), float64(3), int64(10), object(7)\n",
      "memory usage: 114.9+ KB\n"
     ]
    }
   ],
   "source": [
    "pokemon.info()"
   ]
  },
  {
   "cell_type": "code",
   "execution_count": 36,
   "id": "bace0b02-ebfb-453c-9306-ab446adc44e1",
   "metadata": {},
   "outputs": [],
   "source": [
    "df1 = pokemon[pokemon.isLegendary == True][['Total','HP','Attack','Defense','Sp_Atk', 'Sp_Def', 'Speed', 'Weight_kg', 'Height_m','Catch_Rate','Pr_Male']]"
   ]
  },
  {
   "cell_type": "code",
   "execution_count": 37,
   "id": "293e2e77-c4ce-40c5-9848-ad206ab710e3",
   "metadata": {},
   "outputs": [
    {
     "data": {
      "text/html": [
       "<div>\n",
       "<style scoped>\n",
       "    .dataframe tbody tr th:only-of-type {\n",
       "        vertical-align: middle;\n",
       "    }\n",
       "\n",
       "    .dataframe tbody tr th {\n",
       "        vertical-align: top;\n",
       "    }\n",
       "\n",
       "    .dataframe thead th {\n",
       "        text-align: right;\n",
       "    }\n",
       "</style>\n",
       "<table border=\"1\" class=\"dataframe\">\n",
       "  <thead>\n",
       "    <tr style=\"text-align: right;\">\n",
       "      <th></th>\n",
       "      <th>Total</th>\n",
       "      <th>HP</th>\n",
       "      <th>Attack</th>\n",
       "      <th>Defense</th>\n",
       "      <th>Sp_Atk</th>\n",
       "      <th>Sp_Def</th>\n",
       "      <th>Speed</th>\n",
       "      <th>Weight_kg</th>\n",
       "      <th>Height_m</th>\n",
       "      <th>Catch_Rate</th>\n",
       "      <th>Pr_Male</th>\n",
       "    </tr>\n",
       "  </thead>\n",
       "  <tbody>\n",
       "    <tr>\n",
       "      <th>count</th>\n",
       "      <td>46.000000</td>\n",
       "      <td>46.000000</td>\n",
       "      <td>46.000000</td>\n",
       "      <td>46.000000</td>\n",
       "      <td>46.000000</td>\n",
       "      <td>46.000000</td>\n",
       "      <td>46.000000</td>\n",
       "      <td>46.000000</td>\n",
       "      <td>46.000000</td>\n",
       "      <td>46.000000</td>\n",
       "      <td>6.00000</td>\n",
       "    </tr>\n",
       "    <tr>\n",
       "      <th>mean</th>\n",
       "      <td>620.217391</td>\n",
       "      <td>94.000000</td>\n",
       "      <td>108.608696</td>\n",
       "      <td>101.586957</td>\n",
       "      <td>113.891304</td>\n",
       "      <td>106.543478</td>\n",
       "      <td>95.586957</td>\n",
       "      <td>201.797826</td>\n",
       "      <td>2.449565</td>\n",
       "      <td>6.652174</td>\n",
       "      <td>0.75000</td>\n",
       "    </tr>\n",
       "    <tr>\n",
       "      <th>std</th>\n",
       "      <td>44.993290</td>\n",
       "      <td>18.808981</td>\n",
       "      <td>23.536712</td>\n",
       "      <td>26.525104</td>\n",
       "      <td>25.432462</td>\n",
       "      <td>27.236174</td>\n",
       "      <td>20.436977</td>\n",
       "      <td>197.172328</td>\n",
       "      <td>1.723660</td>\n",
       "      <td>11.965167</td>\n",
       "      <td>0.41833</td>\n",
       "    </tr>\n",
       "    <tr>\n",
       "      <th>min</th>\n",
       "      <td>580.000000</td>\n",
       "      <td>50.000000</td>\n",
       "      <td>50.000000</td>\n",
       "      <td>50.000000</td>\n",
       "      <td>50.000000</td>\n",
       "      <td>50.000000</td>\n",
       "      <td>50.000000</td>\n",
       "      <td>0.300000</td>\n",
       "      <td>0.200000</td>\n",
       "      <td>3.000000</td>\n",
       "      <td>0.00000</td>\n",
       "    </tr>\n",
       "    <tr>\n",
       "      <th>25%</th>\n",
       "      <td>580.000000</td>\n",
       "      <td>80.000000</td>\n",
       "      <td>90.000000</td>\n",
       "      <td>90.000000</td>\n",
       "      <td>96.250000</td>\n",
       "      <td>90.000000</td>\n",
       "      <td>90.000000</td>\n",
       "      <td>56.550000</td>\n",
       "      <td>1.500000</td>\n",
       "      <td>3.000000</td>\n",
       "      <td>0.62500</td>\n",
       "    </tr>\n",
       "    <tr>\n",
       "      <th>50%</th>\n",
       "      <td>600.000000</td>\n",
       "      <td>91.000000</td>\n",
       "      <td>107.500000</td>\n",
       "      <td>100.000000</td>\n",
       "      <td>117.500000</td>\n",
       "      <td>100.000000</td>\n",
       "      <td>99.000000</td>\n",
       "      <td>196.500000</td>\n",
       "      <td>1.960000</td>\n",
       "      <td>3.000000</td>\n",
       "      <td>1.00000</td>\n",
       "    </tr>\n",
       "    <tr>\n",
       "      <th>75%</th>\n",
       "      <td>677.500000</td>\n",
       "      <td>103.750000</td>\n",
       "      <td>123.750000</td>\n",
       "      <td>118.750000</td>\n",
       "      <td>130.000000</td>\n",
       "      <td>120.000000</td>\n",
       "      <td>108.000000</td>\n",
       "      <td>293.750000</td>\n",
       "      <td>3.200000</td>\n",
       "      <td>3.000000</td>\n",
       "      <td>1.00000</td>\n",
       "    </tr>\n",
       "    <tr>\n",
       "      <th>max</th>\n",
       "      <td>720.000000</td>\n",
       "      <td>150.000000</td>\n",
       "      <td>160.000000</td>\n",
       "      <td>200.000000</td>\n",
       "      <td>154.000000</td>\n",
       "      <td>200.000000</td>\n",
       "      <td>150.000000</td>\n",
       "      <td>950.000000</td>\n",
       "      <td>7.010000</td>\n",
       "      <td>45.000000</td>\n",
       "      <td>1.00000</td>\n",
       "    </tr>\n",
       "  </tbody>\n",
       "</table>\n",
       "</div>"
      ],
      "text/plain": [
       "            Total          HP      Attack     Defense      Sp_Atk      Sp_Def  \\\n",
       "count   46.000000   46.000000   46.000000   46.000000   46.000000   46.000000   \n",
       "mean   620.217391   94.000000  108.608696  101.586957  113.891304  106.543478   \n",
       "std     44.993290   18.808981   23.536712   26.525104   25.432462   27.236174   \n",
       "min    580.000000   50.000000   50.000000   50.000000   50.000000   50.000000   \n",
       "25%    580.000000   80.000000   90.000000   90.000000   96.250000   90.000000   \n",
       "50%    600.000000   91.000000  107.500000  100.000000  117.500000  100.000000   \n",
       "75%    677.500000  103.750000  123.750000  118.750000  130.000000  120.000000   \n",
       "max    720.000000  150.000000  160.000000  200.000000  154.000000  200.000000   \n",
       "\n",
       "            Speed   Weight_kg   Height_m  Catch_Rate  Pr_Male  \n",
       "count   46.000000   46.000000  46.000000   46.000000  6.00000  \n",
       "mean    95.586957  201.797826   2.449565    6.652174  0.75000  \n",
       "std     20.436977  197.172328   1.723660   11.965167  0.41833  \n",
       "min     50.000000    0.300000   0.200000    3.000000  0.00000  \n",
       "25%     90.000000   56.550000   1.500000    3.000000  0.62500  \n",
       "50%     99.000000  196.500000   1.960000    3.000000  1.00000  \n",
       "75%    108.000000  293.750000   3.200000    3.000000  1.00000  \n",
       "max    150.000000  950.000000   7.010000   45.000000  1.00000  "
      ]
     },
     "execution_count": 37,
     "metadata": {},
     "output_type": "execute_result"
    }
   ],
   "source": [
    "df1.describe()"
   ]
  },
  {
   "cell_type": "code",
   "execution_count": 45,
   "id": "c9029b94-2054-4db6-bb4a-48840a0d8513",
   "metadata": {},
   "outputs": [
    {
     "data": {
      "text/plain": [
       "<AxesSubplot:title={'center':'Boxplot'}>"
      ]
     },
     "execution_count": 45,
     "metadata": {},
     "output_type": "execute_result"
    },
    {
     "data": {
      "image/png": "[encoded data removed]",
      "text/plain": [
       "<Figure size 1296x576 with 1 Axes>"
      ]
     },
     "metadata": {},
     "output_type": "display_data"
    }
   ],
   "source": [
    "plt.style.use('ggplot')\n",
    "plt.figure(figsize=(18,8))\n",
    "plt.title('Boxplot')\n",
    "sns.boxplot(data=pokemon[pokemon.isLegendary == True][['HP','Attack','Defense','Sp_Atk', 'Sp_Def', 'Speed','Weight_kg','Height_m','Catch_Rate']])"
   ]
  },
  {
   "cell_type": "code",
   "execution_count": null,
   "id": "1bd79eb9",
   "metadata": {},
   "outputs": [],
   "source": []
  }
 ],
 "metadata": {
  "kernelspec": {
   "display_name": "Python 3 (ipykernel)",
   "language": "python",
   "name": "python3"
  },
  "language_info": {
   "codemirror_mode": {
    "name": "ipython",
    "version": 3
   },
   "file_extension": ".py",
   "mimetype": "text/x-python",
   "name": "python",
   "nbconvert_exporter": "python",
   "pygments_lexer": "ipython3",
   "version": "3.8.13"
  }
 },
 "nbformat": 4,
 "nbformat_minor": 5
}
