{
 "cells": [
  {
   "cell_type": "markdown",
   "id": "6a370b15-6e72-428c-8918-3d3ee6b0293d",
   "metadata": {
    "tags": []
   },
   "source": [
    "# Problem Set 2 CS129.18\n",
    "\n",
    "The following problem set will revolve around the Pokemon stats dataset.\n",
    "The dataset `data/Pokemon.csv` has **721** rows and **27** columns. Not all columns are needed for the questions to be asked.\n"
   ]
  },
  {
   "cell_type": "markdown",
   "id": "ca04a9c4-33d6-4554-8e55-ccdddb1e380a",
   "metadata": {},
   "source": [
    "## 1. How many Legendary Pokemon are there? ( 1pt )"
   ]
  },
  {
   "cell_type": "code",
   "execution_count": 1,
   "id": "11221f68-2c3c-4584-ad13-0fc1b073a162",
   "metadata": {},
   "outputs": [],
   "source": [
    "import pandas as pd\n",
    "import numpy as np\n",
    "import matplotlib.pyplot as plt\n",
    "import seaborn as sns\n",
    "%matplotlib inline"
   ]
  },
  {
   "cell_type": "code",
   "execution_count": 2,
   "id": "f4977e85-3fda-4527-8dcf-04dc9f838820",
   "metadata": {},
   "outputs": [],
   "source": [
    "pokemon = pd.read_csv('data/pokemon.csv')"
   ]
  },
  {
   "cell_type": "code",
   "execution_count": 6,
   "id": "dedb78a4-88ba-47d0-80d1-bbef5e1fa96c",
   "metadata": {},
   "outputs": [
    {
     "data": {
      "text/plain": [
       "Index(['Number', 'Name', 'Type_1', 'Type_2', 'Total', 'HP', 'Attack',\n",
       "       'Defense', 'Sp_Atk', 'Sp_Def', 'Speed', 'Generation', 'isLegendary',\n",
       "       'Color', 'hasGender', 'Pr_Male', 'Egg_Group_1', 'Egg_Group_2',\n",
       "       'hasMegaEvolution', 'Height_m', 'Weight_kg', 'Catch_Rate',\n",
       "       'Body_Style'],\n",
       "      dtype='object')"
      ]
     },
     "execution_count": 6,
     "metadata": {},
     "output_type": "execute_result"
    }
   ],
   "source": [
    "pokemon.columns"
   ]
  },
  {
   "cell_type": "code",
   "execution_count": 16,
   "id": "06a4366d-1283-4029-a126-367d81d3b033",
   "metadata": {},
   "outputs": [
    {
     "data": {
      "text/plain": [
       "False    675\n",
       "True      46\n",
       "Name: isLegendary, dtype: int64"
      ]
     },
     "execution_count": 16,
     "metadata": {},
     "output_type": "execute_result"
    }
   ],
   "source": [
    "pokemon.isLegendary.value_counts()"
   ]
  },
  {
   "cell_type": "markdown",
   "id": "749e0782-8fdf-4a04-9227-617816521857",
   "metadata": {},
   "source": [
    "**There are `46` legendary pokemons in the dataset.**"
   ]
  },
  {
   "cell_type": "markdown",
   "id": "355d147b-3ed8-4c44-8c0f-1cd59895b111",
   "metadata": {},
   "source": [
    "## 2. Who is the Pokemon with the highest attack-to-HP ratio? (Tip: Just get the divide attack by HP) (3pts)"
   ]
  },
  {
   "cell_type": "markdown",
   "id": "a9ef3b68-784b-4060-aacd-02f25a5a36ea",
   "metadata": {},
   "source": [
    "Create a new column which is equal to the ratio of `Attack` and `HP`."
   ]
  },
  {
   "cell_type": "code",
   "execution_count": 24,
   "id": "924455bf-5a76-480a-9d3c-1e8af7a61c7d",
   "metadata": {},
   "outputs": [],
   "source": [
    "pokemon['A2HP'] = pokemon['Attack']/pokemon['HP']"
   ]
  },
  {
   "cell_type": "code",
   "execution_count": 30,
   "id": "46fa1af8-0d85-4463-9f58-5aea4124b022",
   "metadata": {},
   "outputs": [
    {
     "data": {
      "text/html": [
       "<div>\n",
       "<style scoped>\n",
       "    .dataframe tbody tr th:only-of-type {\n",
       "        vertical-align: middle;\n",
       "    }\n",
       "\n",
       "    .dataframe tbody tr th {\n",
       "        vertical-align: top;\n",
       "    }\n",
       "\n",
       "    .dataframe thead th {\n",
       "        text-align: right;\n",
       "    }\n",
       "</style>\n",
       "<table border=\"1\" class=\"dataframe\">\n",
       "  <thead>\n",
       "    <tr style=\"text-align: right;\">\n",
       "      <th></th>\n",
       "      <th>Number</th>\n",
       "      <th>Name</th>\n",
       "      <th>Type_1</th>\n",
       "      <th>Type_2</th>\n",
       "      <th>Total</th>\n",
       "      <th>HP</th>\n",
       "      <th>Attack</th>\n",
       "      <th>Defense</th>\n",
       "      <th>Sp_Atk</th>\n",
       "      <th>Sp_Def</th>\n",
       "      <th>...</th>\n",
       "      <th>hasGender</th>\n",
       "      <th>Pr_Male</th>\n",
       "      <th>Egg_Group_1</th>\n",
       "      <th>Egg_Group_2</th>\n",
       "      <th>hasMegaEvolution</th>\n",
       "      <th>Height_m</th>\n",
       "      <th>Weight_kg</th>\n",
       "      <th>Catch_Rate</th>\n",
       "      <th>Body_Style</th>\n",
       "      <th>A2HP</th>\n",
       "    </tr>\n",
       "  </thead>\n",
       "  <tbody>\n",
       "    <tr>\n",
       "      <th>291</th>\n",
       "      <td>292</td>\n",
       "      <td>Shedinja</td>\n",
       "      <td>Bug</td>\n",
       "      <td>Ghost</td>\n",
       "      <td>236</td>\n",
       "      <td>1</td>\n",
       "      <td>90</td>\n",
       "      <td>45</td>\n",
       "      <td>30</td>\n",
       "      <td>30</td>\n",
       "      <td>...</td>\n",
       "      <td>False</td>\n",
       "      <td>NaN</td>\n",
       "      <td>Mineral</td>\n",
       "      <td>NaN</td>\n",
       "      <td>False</td>\n",
       "      <td>0.79</td>\n",
       "      <td>1.2</td>\n",
       "      <td>45</td>\n",
       "      <td>head_base</td>\n",
       "      <td>90.0</td>\n",
       "    </tr>\n",
       "  </tbody>\n",
       "</table>\n",
       "<p>1 rows × 24 columns</p>\n",
       "</div>"
      ],
      "text/plain": [
       "     Number      Name Type_1 Type_2  Total  HP  Attack  Defense  Sp_Atk  \\\n",
       "291     292  Shedinja    Bug  Ghost    236   1      90       45      30   \n",
       "\n",
       "     Sp_Def  ...  hasGender  Pr_Male  Egg_Group_1 Egg_Group_2  \\\n",
       "291      30  ...      False      NaN      Mineral         NaN   \n",
       "\n",
       "     hasMegaEvolution  Height_m Weight_kg Catch_Rate  Body_Style  A2HP  \n",
       "291             False      0.79       1.2         45   head_base  90.0  \n",
       "\n",
       "[1 rows x 24 columns]"
      ]
     },
     "execution_count": 30,
     "metadata": {},
     "output_type": "execute_result"
    }
   ],
   "source": [
    "pokemon[pokemon['A2HP'] == pokemon.A2HP.max()]"
   ]
  },
  {
   "cell_type": "markdown",
   "id": "6be4042e-ae3c-43ba-8c14-4dcc4a69d417",
   "metadata": {},
   "source": [
    "**`Shedinja` is the pokemon with the highest attack-to-HP ratio.**"
   ]
  },
  {
   "cell_type": "markdown",
   "id": "2f2e77e3-5043-4369-8f94-6e549bdca29d",
   "metadata": {},
   "source": [
    "## 3. Build a binary classifier for whether Pokemon are Fire Type or not. (4pts)"
   ]
  },
  {
   "cell_type": "code",
   "execution_count": 37,
   "id": "7f5e69ca-e977-4ed4-a0a9-9238d6a4d625",
   "metadata": {},
   "outputs": [
    {
     "data": {
      "text/plain": [
       "array(['Grass', 'Fire', 'Water', 'Bug', 'Normal', 'Poison', 'Electric',\n",
       "       'Ground', 'Fairy', 'Fighting', 'Psychic', 'Rock', 'Ghost', 'Ice',\n",
       "       'Dragon', 'Dark', 'Steel', 'Flying'], dtype=object)"
      ]
     },
     "execution_count": 37,
     "metadata": {},
     "output_type": "execute_result"
    }
   ],
   "source": [
    "(pokemon.Type_1.unique())"
   ]
  },
  {
   "cell_type": "code",
   "execution_count": 38,
   "id": "bd1404b7-5323-4f62-a852-16a824e98507",
   "metadata": {},
   "outputs": [
    {
     "data": {
      "text/plain": [
       "array(['Poison', nan, 'Flying', 'Ground', 'Fairy', 'Grass', 'Fighting',\n",
       "       'Psychic', 'Steel', 'Ice', 'Rock', 'Water', 'Electric', 'Fire',\n",
       "       'Dragon', 'Dark', 'Ghost', 'Bug', 'Normal'], dtype=object)"
      ]
     },
     "execution_count": 38,
     "metadata": {},
     "output_type": "execute_result"
    }
   ],
   "source": [
    "(pokemon.Type_2.unique())"
   ]
  },
  {
   "cell_type": "code",
   "execution_count": 50,
   "id": "f8453fa0-240c-446f-9368-29e5bc54757b",
   "metadata": {},
   "outputs": [],
   "source": [
    "pokemon['isFire'] = list(map(lambda x,y: 1 if (x == 'Fire' or y == 'Fire') else 0, pokemon.Type_1, pokemon.Type_2))"
   ]
  },
  {
   "cell_type": "code",
   "execution_count": 52,
   "id": "28e83f1e-ae2c-4853-9fb2-1dc898266958",
   "metadata": {},
   "outputs": [
    {
     "data": {
      "text/plain": [
       "0    665\n",
       "1     56\n",
       "Name: isFire, dtype: int64"
      ]
     },
     "execution_count": 52,
     "metadata": {},
     "output_type": "execute_result"
    }
   ],
   "source": [
    "pokemon.isFire.value_counts()"
   ]
  },
  {
   "cell_type": "code",
   "execution_count": 58,
   "id": "85d4d798-ba3d-4484-9043-c3f67dc51877",
   "metadata": {},
   "outputs": [
    {
     "data": {
      "text/plain": [
       "56"
      ]
     },
     "execution_count": 58,
     "metadata": {},
     "output_type": "execute_result"
    }
   ],
   "source": [
    "sum(pokemon.Type_1 == 'Fire') + sum(pokemon.Type_2 == 'Fire')"
   ]
  }
 ],
 "metadata": {
  "kernelspec": {
   "display_name": "Python 3 (ipykernel)",
   "language": "python",
   "name": "python3"
  },
  "language_info": {
   "codemirror_mode": {
    "name": "ipython",
    "version": 3
   },
   "file_extension": ".py",
   "mimetype": "text/x-python",
   "name": "python",
   "nbconvert_exporter": "python",
   "pygments_lexer": "ipython3",
   "version": "3.8.13"
  }
 },
 "nbformat": 4,
 "nbformat_minor": 5
}
