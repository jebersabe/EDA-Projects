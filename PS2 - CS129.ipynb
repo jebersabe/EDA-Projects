{
 "cells": [
  {
   "cell_type": "markdown",
   "id": "6a370b15-6e72-428c-8918-3d3ee6b0293d",
   "metadata": {
    "tags": []
   },
   "source": [
    "# Problem Set 2 CS129.18\n",
    "\n",
    "The following problem set will revolve around the Pokemon stats dataset.\n",
    "The dataset `data/Pokemon.csv` has **721** rows and **27** columns. Not all columns are needed for the questions to be asked.\n"
   ]
  },
  {
   "cell_type": "markdown",
   "id": "ca04a9c4-33d6-4554-8e55-ccdddb1e380a",
   "metadata": {},
   "source": [
    "## 1. How many Legendary Pokemon are there? ( 1pt )"
   ]
  },
  {
   "cell_type": "code",
   "execution_count": 1,
   "id": "11221f68-2c3c-4584-ad13-0fc1b073a162",
   "metadata": {},
   "outputs": [],
   "source": [
    "import pandas as pd\n",
    "import numpy as np\n",
    "import matplotlib.pyplot as plt\n",
    "import seaborn as sns\n",
    "%matplotlib inline"
   ]
  },
  {
   "cell_type": "code",
   "execution_count": 2,
   "id": "f4977e85-3fda-4527-8dcf-04dc9f838820",
   "metadata": {},
   "outputs": [],
   "source": [
    "pokemon = pd.read_csv('data/pokemon.csv')"
   ]
  },
  {
   "cell_type": "code",
   "execution_count": 3,
   "id": "dedb78a4-88ba-47d0-80d1-bbef5e1fa96c",
   "metadata": {},
   "outputs": [
    {
     "data": {
      "text/plain": [
       "Index(['Number', 'Name', 'Type_1', 'Type_2', 'Total', 'HP', 'Attack',\n",
       "       'Defense', 'Sp_Atk', 'Sp_Def', 'Speed', 'Generation', 'isLegendary',\n",
       "       'Color', 'hasGender', 'Pr_Male', 'Egg_Group_1', 'Egg_Group_2',\n",
       "       'hasMegaEvolution', 'Height_m', 'Weight_kg', 'Catch_Rate',\n",
       "       'Body_Style'],\n",
       "      dtype='object')"
      ]
     },
     "execution_count": 3,
     "metadata": {},
     "output_type": "execute_result"
    }
   ],
   "source": [
    "pokemon.columns"
   ]
  },
  {
   "cell_type": "code",
   "execution_count": 4,
   "id": "06a4366d-1283-4029-a126-367d81d3b033",
   "metadata": {},
   "outputs": [
    {
     "data": {
      "text/plain": [
       "False    675\n",
       "True      46\n",
       "Name: isLegendary, dtype: int64"
      ]
     },
     "execution_count": 4,
     "metadata": {},
     "output_type": "execute_result"
    }
   ],
   "source": [
    "pokemon.isLegendary.value_counts()"
   ]
  },
  {
   "cell_type": "markdown",
   "id": "749e0782-8fdf-4a04-9227-617816521857",
   "metadata": {},
   "source": [
    "**There are `46` legendary pokemons in the dataset.**\n",
    "____"
   ]
  },
  {
   "cell_type": "markdown",
   "id": "355d147b-3ed8-4c44-8c0f-1cd59895b111",
   "metadata": {},
   "source": [
    "## 2. Who is the Pokemon with the highest attack-to-HP ratio? (Tip: Just get the divide attack by HP) (3pts)"
   ]
  },
  {
   "cell_type": "markdown",
   "id": "a9ef3b68-784b-4060-aacd-02f25a5a36ea",
   "metadata": {},
   "source": [
    "Create a new column which is equal to the ratio of `Attack` and `HP`."
   ]
  },
  {
   "cell_type": "code",
   "execution_count": 5,
   "id": "924455bf-5a76-480a-9d3c-1e8af7a61c7d",
   "metadata": {},
   "outputs": [],
   "source": [
    "pokemon['A2HP'] = pokemon['Attack']/pokemon['HP']"
   ]
  },
  {
   "cell_type": "code",
   "execution_count": 6,
   "id": "46fa1af8-0d85-4463-9f58-5aea4124b022",
   "metadata": {},
   "outputs": [
    {
     "data": {
      "text/html": [
       "<div>\n",
       "<style scoped>\n",
       "    .dataframe tbody tr th:only-of-type {\n",
       "        vertical-align: middle;\n",
       "    }\n",
       "\n",
       "    .dataframe tbody tr th {\n",
       "        vertical-align: top;\n",
       "    }\n",
       "\n",
       "    .dataframe thead th {\n",
       "        text-align: right;\n",
       "    }\n",
       "</style>\n",
       "<table border=\"1\" class=\"dataframe\">\n",
       "  <thead>\n",
       "    <tr style=\"text-align: right;\">\n",
       "      <th></th>\n",
       "      <th>Number</th>\n",
       "      <th>Name</th>\n",
       "      <th>Type_1</th>\n",
       "      <th>Type_2</th>\n",
       "      <th>Total</th>\n",
       "      <th>HP</th>\n",
       "      <th>Attack</th>\n",
       "      <th>Defense</th>\n",
       "      <th>Sp_Atk</th>\n",
       "      <th>Sp_Def</th>\n",
       "      <th>...</th>\n",
       "      <th>hasGender</th>\n",
       "      <th>Pr_Male</th>\n",
       "      <th>Egg_Group_1</th>\n",
       "      <th>Egg_Group_2</th>\n",
       "      <th>hasMegaEvolution</th>\n",
       "      <th>Height_m</th>\n",
       "      <th>Weight_kg</th>\n",
       "      <th>Catch_Rate</th>\n",
       "      <th>Body_Style</th>\n",
       "      <th>A2HP</th>\n",
       "    </tr>\n",
       "  </thead>\n",
       "  <tbody>\n",
       "    <tr>\n",
       "      <th>291</th>\n",
       "      <td>292</td>\n",
       "      <td>Shedinja</td>\n",
       "      <td>Bug</td>\n",
       "      <td>Ghost</td>\n",
       "      <td>236</td>\n",
       "      <td>1</td>\n",
       "      <td>90</td>\n",
       "      <td>45</td>\n",
       "      <td>30</td>\n",
       "      <td>30</td>\n",
       "      <td>...</td>\n",
       "      <td>False</td>\n",
       "      <td>NaN</td>\n",
       "      <td>Mineral</td>\n",
       "      <td>NaN</td>\n",
       "      <td>False</td>\n",
       "      <td>0.79</td>\n",
       "      <td>1.2</td>\n",
       "      <td>45</td>\n",
       "      <td>head_base</td>\n",
       "      <td>90.0</td>\n",
       "    </tr>\n",
       "  </tbody>\n",
       "</table>\n",
       "<p>1 rows × 24 columns</p>\n",
       "</div>"
      ],
      "text/plain": [
       "     Number      Name Type_1 Type_2  Total  HP  Attack  Defense  Sp_Atk  \\\n",
       "291     292  Shedinja    Bug  Ghost    236   1      90       45      30   \n",
       "\n",
       "     Sp_Def  ...  hasGender  Pr_Male  Egg_Group_1 Egg_Group_2  \\\n",
       "291      30  ...      False      NaN      Mineral         NaN   \n",
       "\n",
       "     hasMegaEvolution  Height_m Weight_kg Catch_Rate  Body_Style  A2HP  \n",
       "291             False      0.79       1.2         45   head_base  90.0  \n",
       "\n",
       "[1 rows x 24 columns]"
      ]
     },
     "execution_count": 6,
     "metadata": {},
     "output_type": "execute_result"
    }
   ],
   "source": [
    "pokemon[pokemon['A2HP'] == pokemon.A2HP.max()]"
   ]
  },
  {
   "cell_type": "markdown",
   "id": "6be4042e-ae3c-43ba-8c14-4dcc4a69d417",
   "metadata": {},
   "source": [
    "**`Shedinja` is the pokemon with the highest attack-to-HP ratio equal to 90.**\n",
    "____"
   ]
  },
  {
   "cell_type": "markdown",
   "id": "2f2e77e3-5043-4369-8f94-6e549bdca29d",
   "metadata": {},
   "source": [
    "## 3. Build a binary classifier for whether Pokemon are Fire Type or not. (4pts)"
   ]
  },
  {
   "cell_type": "markdown",
   "id": "f7c00551-ed40-4f59-937c-418398e2b5d3",
   "metadata": {},
   "source": [
    "There are two columns (`Type_1` and `Type_2`) in the dataset that can tell whether a pokemon is fire type or not."
   ]
  },
  {
   "cell_type": "code",
   "execution_count": 7,
   "id": "7f5e69ca-e977-4ed4-a0a9-9238d6a4d625",
   "metadata": {},
   "outputs": [
    {
     "data": {
      "text/plain": [
       "array(['Grass', 'Fire', 'Water', 'Bug', 'Normal', 'Poison', 'Electric',\n",
       "       'Ground', 'Fairy', 'Fighting', 'Psychic', 'Rock', 'Ghost', 'Ice',\n",
       "       'Dragon', 'Dark', 'Steel', 'Flying'], dtype=object)"
      ]
     },
     "execution_count": 7,
     "metadata": {},
     "output_type": "execute_result"
    }
   ],
   "source": [
    "(pokemon.Type_1.unique())"
   ]
  },
  {
   "cell_type": "code",
   "execution_count": 8,
   "id": "bd1404b7-5323-4f62-a852-16a824e98507",
   "metadata": {
    "tags": []
   },
   "outputs": [
    {
     "data": {
      "text/plain": [
       "array(['Poison', nan, 'Flying', 'Ground', 'Fairy', 'Grass', 'Fighting',\n",
       "       'Psychic', 'Steel', 'Ice', 'Rock', 'Water', 'Electric', 'Fire',\n",
       "       'Dragon', 'Dark', 'Ghost', 'Bug', 'Normal'], dtype=object)"
      ]
     },
     "execution_count": 8,
     "metadata": {},
     "output_type": "execute_result"
    }
   ],
   "source": [
    "(pokemon.Type_2.unique())"
   ]
  },
  {
   "cell_type": "markdown",
   "id": "0dcd73b5-b840-4d56-b5ff-3c9b8b49f096",
   "metadata": {},
   "source": [
    "Create new column `isFire` based on whether `Type_1` or `Type_2` is equal to *Fire*."
   ]
  },
  {
   "cell_type": "code",
   "execution_count": 9,
   "id": "f8453fa0-240c-446f-9368-29e5bc54757b",
   "metadata": {},
   "outputs": [],
   "source": [
    "pokemon['isFire'] = list(map(lambda x,y: 1 if (x == 'Fire' or y == 'Fire') else 0, pokemon.Type_1, pokemon.Type_2))"
   ]
  },
  {
   "cell_type": "markdown",
   "id": "6c52edce-a7a6-4292-8537-d956017c04de",
   "metadata": {},
   "source": [
    "Count how many of the pokemons are fire type:"
   ]
  },
  {
   "cell_type": "code",
   "execution_count": 10,
   "id": "28e83f1e-ae2c-4853-9fb2-1dc898266958",
   "metadata": {},
   "outputs": [
    {
     "data": {
      "text/plain": [
       "0    665\n",
       "1     56\n",
       "Name: isFire, dtype: int64"
      ]
     },
     "execution_count": 10,
     "metadata": {},
     "output_type": "execute_result"
    }
   ],
   "source": [
    "pokemon.isFire.value_counts()"
   ]
  },
  {
   "cell_type": "markdown",
   "id": "7bd04fc3-856d-40eb-941d-68e129cf2f42",
   "metadata": {},
   "source": [
    "Confirm this from columns `Type_1` and `Type_2`:"
   ]
  },
  {
   "cell_type": "code",
   "execution_count": 11,
   "id": "85d4d798-ba3d-4484-9043-c3f67dc51877",
   "metadata": {
    "tags": []
   },
   "outputs": [
    {
     "data": {
      "text/plain": [
       "56"
      ]
     },
     "execution_count": 11,
     "metadata": {},
     "output_type": "execute_result"
    }
   ],
   "source": [
    "sum(pokemon.Type_1 == 'Fire') + sum(pokemon.Type_2 == 'Fire')"
   ]
  },
  {
   "cell_type": "markdown",
   "id": "db3bccd9-b0f1-42aa-bff9-c63f6c671b4a",
   "metadata": {},
   "source": [
    "**This is the resulting dataframe with the fire type classifier column:**"
   ]
  },
  {
   "cell_type": "code",
   "execution_count": 12,
   "id": "75498f7f-fa8c-42a6-8975-3a4542130aaa",
   "metadata": {},
   "outputs": [
    {
     "data": {
      "text/html": [
       "<div>\n",
       "<style scoped>\n",
       "    .dataframe tbody tr th:only-of-type {\n",
       "        vertical-align: middle;\n",
       "    }\n",
       "\n",
       "    .dataframe tbody tr th {\n",
       "        vertical-align: top;\n",
       "    }\n",
       "\n",
       "    .dataframe thead th {\n",
       "        text-align: right;\n",
       "    }\n",
       "</style>\n",
       "<table border=\"1\" class=\"dataframe\">\n",
       "  <thead>\n",
       "    <tr style=\"text-align: right;\">\n",
       "      <th></th>\n",
       "      <th>Number</th>\n",
       "      <th>Name</th>\n",
       "      <th>Type_1</th>\n",
       "      <th>Type_2</th>\n",
       "      <th>Total</th>\n",
       "      <th>HP</th>\n",
       "      <th>Attack</th>\n",
       "      <th>Defense</th>\n",
       "      <th>Sp_Atk</th>\n",
       "      <th>Sp_Def</th>\n",
       "      <th>...</th>\n",
       "      <th>Pr_Male</th>\n",
       "      <th>Egg_Group_1</th>\n",
       "      <th>Egg_Group_2</th>\n",
       "      <th>hasMegaEvolution</th>\n",
       "      <th>Height_m</th>\n",
       "      <th>Weight_kg</th>\n",
       "      <th>Catch_Rate</th>\n",
       "      <th>Body_Style</th>\n",
       "      <th>A2HP</th>\n",
       "      <th>isFire</th>\n",
       "    </tr>\n",
       "  </thead>\n",
       "  <tbody>\n",
       "    <tr>\n",
       "      <th>198</th>\n",
       "      <td>199</td>\n",
       "      <td>Slowking</td>\n",
       "      <td>Water</td>\n",
       "      <td>Psychic</td>\n",
       "      <td>490</td>\n",
       "      <td>95</td>\n",
       "      <td>75</td>\n",
       "      <td>80</td>\n",
       "      <td>100</td>\n",
       "      <td>110</td>\n",
       "      <td>...</td>\n",
       "      <td>0.500</td>\n",
       "      <td>Monster</td>\n",
       "      <td>Water_1</td>\n",
       "      <td>False</td>\n",
       "      <td>2.01</td>\n",
       "      <td>79.5</td>\n",
       "      <td>70</td>\n",
       "      <td>bipedal_tailed</td>\n",
       "      <td>0.789474</td>\n",
       "      <td>0</td>\n",
       "    </tr>\n",
       "    <tr>\n",
       "      <th>35</th>\n",
       "      <td>36</td>\n",
       "      <td>Clefable</td>\n",
       "      <td>Fairy</td>\n",
       "      <td>NaN</td>\n",
       "      <td>483</td>\n",
       "      <td>95</td>\n",
       "      <td>70</td>\n",
       "      <td>73</td>\n",
       "      <td>95</td>\n",
       "      <td>90</td>\n",
       "      <td>...</td>\n",
       "      <td>0.250</td>\n",
       "      <td>Fairy</td>\n",
       "      <td>NaN</td>\n",
       "      <td>False</td>\n",
       "      <td>1.30</td>\n",
       "      <td>40.0</td>\n",
       "      <td>25</td>\n",
       "      <td>bipedal_tailed</td>\n",
       "      <td>0.736842</td>\n",
       "      <td>0</td>\n",
       "    </tr>\n",
       "    <tr>\n",
       "      <th>256</th>\n",
       "      <td>257</td>\n",
       "      <td>Blaziken</td>\n",
       "      <td>Fire</td>\n",
       "      <td>Fighting</td>\n",
       "      <td>530</td>\n",
       "      <td>80</td>\n",
       "      <td>120</td>\n",
       "      <td>70</td>\n",
       "      <td>110</td>\n",
       "      <td>70</td>\n",
       "      <td>...</td>\n",
       "      <td>0.875</td>\n",
       "      <td>Field</td>\n",
       "      <td>NaN</td>\n",
       "      <td>True</td>\n",
       "      <td>1.91</td>\n",
       "      <td>52.0</td>\n",
       "      <td>45</td>\n",
       "      <td>bipedal_tailed</td>\n",
       "      <td>1.500000</td>\n",
       "      <td>1</td>\n",
       "    </tr>\n",
       "    <tr>\n",
       "      <th>328</th>\n",
       "      <td>329</td>\n",
       "      <td>Vibrava</td>\n",
       "      <td>Ground</td>\n",
       "      <td>Dragon</td>\n",
       "      <td>340</td>\n",
       "      <td>50</td>\n",
       "      <td>70</td>\n",
       "      <td>50</td>\n",
       "      <td>50</td>\n",
       "      <td>50</td>\n",
       "      <td>...</td>\n",
       "      <td>0.500</td>\n",
       "      <td>Bug</td>\n",
       "      <td>NaN</td>\n",
       "      <td>False</td>\n",
       "      <td>1.09</td>\n",
       "      <td>15.3</td>\n",
       "      <td>120</td>\n",
       "      <td>four_wings</td>\n",
       "      <td>1.400000</td>\n",
       "      <td>0</td>\n",
       "    </tr>\n",
       "    <tr>\n",
       "      <th>321</th>\n",
       "      <td>322</td>\n",
       "      <td>Numel</td>\n",
       "      <td>Fire</td>\n",
       "      <td>Ground</td>\n",
       "      <td>305</td>\n",
       "      <td>60</td>\n",
       "      <td>60</td>\n",
       "      <td>40</td>\n",
       "      <td>65</td>\n",
       "      <td>45</td>\n",
       "      <td>...</td>\n",
       "      <td>0.500</td>\n",
       "      <td>Field</td>\n",
       "      <td>NaN</td>\n",
       "      <td>False</td>\n",
       "      <td>0.71</td>\n",
       "      <td>24.0</td>\n",
       "      <td>255</td>\n",
       "      <td>quadruped</td>\n",
       "      <td>1.000000</td>\n",
       "      <td>1</td>\n",
       "    </tr>\n",
       "    <tr>\n",
       "      <th>551</th>\n",
       "      <td>552</td>\n",
       "      <td>Krokorok</td>\n",
       "      <td>Ground</td>\n",
       "      <td>Dark</td>\n",
       "      <td>351</td>\n",
       "      <td>60</td>\n",
       "      <td>82</td>\n",
       "      <td>45</td>\n",
       "      <td>45</td>\n",
       "      <td>45</td>\n",
       "      <td>...</td>\n",
       "      <td>0.500</td>\n",
       "      <td>Field</td>\n",
       "      <td>NaN</td>\n",
       "      <td>False</td>\n",
       "      <td>0.99</td>\n",
       "      <td>33.4</td>\n",
       "      <td>90</td>\n",
       "      <td>quadruped</td>\n",
       "      <td>1.366667</td>\n",
       "      <td>0</td>\n",
       "    </tr>\n",
       "    <tr>\n",
       "      <th>133</th>\n",
       "      <td>134</td>\n",
       "      <td>Vaporeon</td>\n",
       "      <td>Water</td>\n",
       "      <td>NaN</td>\n",
       "      <td>525</td>\n",
       "      <td>130</td>\n",
       "      <td>65</td>\n",
       "      <td>60</td>\n",
       "      <td>110</td>\n",
       "      <td>95</td>\n",
       "      <td>...</td>\n",
       "      <td>0.875</td>\n",
       "      <td>Field</td>\n",
       "      <td>NaN</td>\n",
       "      <td>False</td>\n",
       "      <td>0.99</td>\n",
       "      <td>29.0</td>\n",
       "      <td>45</td>\n",
       "      <td>quadruped</td>\n",
       "      <td>0.500000</td>\n",
       "      <td>0</td>\n",
       "    </tr>\n",
       "    <tr>\n",
       "      <th>211</th>\n",
       "      <td>212</td>\n",
       "      <td>Scizor</td>\n",
       "      <td>Bug</td>\n",
       "      <td>Steel</td>\n",
       "      <td>500</td>\n",
       "      <td>70</td>\n",
       "      <td>130</td>\n",
       "      <td>100</td>\n",
       "      <td>55</td>\n",
       "      <td>80</td>\n",
       "      <td>...</td>\n",
       "      <td>0.500</td>\n",
       "      <td>Bug</td>\n",
       "      <td>NaN</td>\n",
       "      <td>True</td>\n",
       "      <td>1.80</td>\n",
       "      <td>118.0</td>\n",
       "      <td>25</td>\n",
       "      <td>four_wings</td>\n",
       "      <td>1.857143</td>\n",
       "      <td>0</td>\n",
       "    </tr>\n",
       "    <tr>\n",
       "      <th>352</th>\n",
       "      <td>353</td>\n",
       "      <td>Shuppet</td>\n",
       "      <td>Ghost</td>\n",
       "      <td>NaN</td>\n",
       "      <td>295</td>\n",
       "      <td>44</td>\n",
       "      <td>75</td>\n",
       "      <td>35</td>\n",
       "      <td>63</td>\n",
       "      <td>33</td>\n",
       "      <td>...</td>\n",
       "      <td>0.500</td>\n",
       "      <td>Amorphous</td>\n",
       "      <td>NaN</td>\n",
       "      <td>False</td>\n",
       "      <td>0.61</td>\n",
       "      <td>2.3</td>\n",
       "      <td>225</td>\n",
       "      <td>head_only</td>\n",
       "      <td>1.704545</td>\n",
       "      <td>0</td>\n",
       "    </tr>\n",
       "    <tr>\n",
       "      <th>317</th>\n",
       "      <td>318</td>\n",
       "      <td>Carvanha</td>\n",
       "      <td>Water</td>\n",
       "      <td>Dark</td>\n",
       "      <td>305</td>\n",
       "      <td>45</td>\n",
       "      <td>90</td>\n",
       "      <td>20</td>\n",
       "      <td>65</td>\n",
       "      <td>20</td>\n",
       "      <td>...</td>\n",
       "      <td>0.500</td>\n",
       "      <td>Water_2</td>\n",
       "      <td>NaN</td>\n",
       "      <td>False</td>\n",
       "      <td>0.79</td>\n",
       "      <td>20.8</td>\n",
       "      <td>225</td>\n",
       "      <td>with_fins</td>\n",
       "      <td>2.000000</td>\n",
       "      <td>0</td>\n",
       "    </tr>\n",
       "  </tbody>\n",
       "</table>\n",
       "<p>10 rows × 25 columns</p>\n",
       "</div>"
      ],
      "text/plain": [
       "     Number      Name  Type_1    Type_2  Total   HP  Attack  Defense  Sp_Atk  \\\n",
       "198     199  Slowking   Water   Psychic    490   95      75       80     100   \n",
       "35       36  Clefable   Fairy       NaN    483   95      70       73      95   \n",
       "256     257  Blaziken    Fire  Fighting    530   80     120       70     110   \n",
       "328     329   Vibrava  Ground    Dragon    340   50      70       50      50   \n",
       "321     322     Numel    Fire    Ground    305   60      60       40      65   \n",
       "551     552  Krokorok  Ground      Dark    351   60      82       45      45   \n",
       "133     134  Vaporeon   Water       NaN    525  130      65       60     110   \n",
       "211     212    Scizor     Bug     Steel    500   70     130      100      55   \n",
       "352     353   Shuppet   Ghost       NaN    295   44      75       35      63   \n",
       "317     318  Carvanha   Water      Dark    305   45      90       20      65   \n",
       "\n",
       "     Sp_Def  ...  Pr_Male  Egg_Group_1  Egg_Group_2 hasMegaEvolution  \\\n",
       "198     110  ...    0.500      Monster      Water_1            False   \n",
       "35       90  ...    0.250        Fairy          NaN            False   \n",
       "256      70  ...    0.875        Field          NaN             True   \n",
       "328      50  ...    0.500          Bug          NaN            False   \n",
       "321      45  ...    0.500        Field          NaN            False   \n",
       "551      45  ...    0.500        Field          NaN            False   \n",
       "133      95  ...    0.875        Field          NaN            False   \n",
       "211      80  ...    0.500          Bug          NaN             True   \n",
       "352      33  ...    0.500    Amorphous          NaN            False   \n",
       "317      20  ...    0.500      Water_2          NaN            False   \n",
       "\n",
       "     Height_m  Weight_kg Catch_Rate      Body_Style      A2HP  isFire  \n",
       "198      2.01       79.5         70  bipedal_tailed  0.789474       0  \n",
       "35       1.30       40.0         25  bipedal_tailed  0.736842       0  \n",
       "256      1.91       52.0         45  bipedal_tailed  1.500000       1  \n",
       "328      1.09       15.3        120      four_wings  1.400000       0  \n",
       "321      0.71       24.0        255       quadruped  1.000000       1  \n",
       "551      0.99       33.4         90       quadruped  1.366667       0  \n",
       "133      0.99       29.0         45       quadruped  0.500000       0  \n",
       "211      1.80      118.0         25      four_wings  1.857143       0  \n",
       "352      0.61        2.3        225       head_only  1.704545       0  \n",
       "317      0.79       20.8        225       with_fins  2.000000       0  \n",
       "\n",
       "[10 rows x 25 columns]"
      ]
     },
     "execution_count": 12,
     "metadata": {},
     "output_type": "execute_result"
    }
   ],
   "source": [
    "pokemon.sample(10)"
   ]
  },
  {
   "cell_type": "markdown",
   "id": "25dac2fc-239b-4c6f-91bc-d01a12665435",
   "metadata": {},
   "source": [
    "____"
   ]
  },
  {
   "cell_type": "markdown",
   "id": "5f8ca852-5fb6-4ed9-9000-55b6d4d0a8bc",
   "metadata": {},
   "source": [
    "## 4. Describe the attributes and stats of all Legendary Type pokemon using boxplots. (5pts)"
   ]
  },
  {
   "cell_type": "code",
   "execution_count": 13,
   "id": "70502048-664b-4356-8f63-dafde7e21dd9",
   "metadata": {},
   "outputs": [],
   "source": [
    "pokemon = pd.read_csv('data/pokemon.csv')"
   ]
  },
  {
   "cell_type": "code",
   "execution_count": 14,
   "id": "6ae0ec94-97fa-4cfb-b683-8e0bc74eb07d",
   "metadata": {
    "tags": []
   },
   "outputs": [
    {
     "data": {
      "text/plain": [
       "Index(['Number', 'Name', 'Type_1', 'Type_2', 'Total', 'HP', 'Attack',\n",
       "       'Defense', 'Sp_Atk', 'Sp_Def', 'Speed', 'Generation', 'isLegendary',\n",
       "       'Color', 'hasGender', 'Pr_Male', 'Egg_Group_1', 'Egg_Group_2',\n",
       "       'hasMegaEvolution', 'Height_m', 'Weight_kg', 'Catch_Rate',\n",
       "       'Body_Style'],\n",
       "      dtype='object')"
      ]
     },
     "execution_count": 14,
     "metadata": {},
     "output_type": "execute_result"
    }
   ],
   "source": [
    "pokemon.columns"
   ]
  },
  {
   "cell_type": "code",
   "execution_count": 15,
   "id": "a282570a-6032-4558-928f-af42d7956407",
   "metadata": {},
   "outputs": [
    {
     "name": "stdout",
     "output_type": "stream",
     "text": [
      "<class 'pandas.core.frame.DataFrame'>\n",
      "RangeIndex: 721 entries, 0 to 720\n",
      "Data columns (total 23 columns):\n",
      " #   Column            Non-Null Count  Dtype  \n",
      "---  ------            --------------  -----  \n",
      " 0   Number            721 non-null    int64  \n",
      " 1   Name              721 non-null    object \n",
      " 2   Type_1            721 non-null    object \n",
      " 3   Type_2            350 non-null    object \n",
      " 4   Total             721 non-null    int64  \n",
      " 5   HP                721 non-null    int64  \n",
      " 6   Attack            721 non-null    int64  \n",
      " 7   Defense           721 non-null    int64  \n",
      " 8   Sp_Atk            721 non-null    int64  \n",
      " 9   Sp_Def            721 non-null    int64  \n",
      " 10  Speed             721 non-null    int64  \n",
      " 11  Generation        721 non-null    int64  \n",
      " 12  isLegendary       721 non-null    bool   \n",
      " 13  Color             721 non-null    object \n",
      " 14  hasGender         721 non-null    bool   \n",
      " 15  Pr_Male           644 non-null    float64\n",
      " 16  Egg_Group_1       721 non-null    object \n",
      " 17  Egg_Group_2       191 non-null    object \n",
      " 18  hasMegaEvolution  721 non-null    bool   \n",
      " 19  Height_m          721 non-null    float64\n",
      " 20  Weight_kg         721 non-null    float64\n",
      " 21  Catch_Rate        721 non-null    int64  \n",
      " 22  Body_Style        721 non-null    object \n",
      "dtypes: bool(3), float64(3), int64(10), object(7)\n",
      "memory usage: 114.9+ KB\n"
     ]
    }
   ],
   "source": [
    "pokemon.info()"
   ]
  },
  {
   "cell_type": "code",
   "execution_count": 16,
   "id": "bace0b02-ebfb-453c-9306-ab446adc44e1",
   "metadata": {},
   "outputs": [],
   "source": [
    "df1 = pokemon[pokemon.isLegendary == True][['Total','HP','Attack','Defense','Sp_Atk', 'Sp_Def', 'Speed', 'Weight_kg', 'Height_m','Catch_Rate','Pr_Male']]"
   ]
  },
  {
   "cell_type": "code",
   "execution_count": 17,
   "id": "293e2e77-c4ce-40c5-9848-ad206ab710e3",
   "metadata": {},
   "outputs": [
    {
     "data": {
      "text/html": [
       "<div>\n",
       "<style scoped>\n",
       "    .dataframe tbody tr th:only-of-type {\n",
       "        vertical-align: middle;\n",
       "    }\n",
       "\n",
       "    .dataframe tbody tr th {\n",
       "        vertical-align: top;\n",
       "    }\n",
       "\n",
       "    .dataframe thead th {\n",
       "        text-align: right;\n",
       "    }\n",
       "</style>\n",
       "<table border=\"1\" class=\"dataframe\">\n",
       "  <thead>\n",
       "    <tr style=\"text-align: right;\">\n",
       "      <th></th>\n",
       "      <th>Total</th>\n",
       "      <th>HP</th>\n",
       "      <th>Attack</th>\n",
       "      <th>Defense</th>\n",
       "      <th>Sp_Atk</th>\n",
       "      <th>Sp_Def</th>\n",
       "      <th>Speed</th>\n",
       "      <th>Weight_kg</th>\n",
       "      <th>Height_m</th>\n",
       "      <th>Catch_Rate</th>\n",
       "      <th>Pr_Male</th>\n",
       "    </tr>\n",
       "  </thead>\n",
       "  <tbody>\n",
       "    <tr>\n",
       "      <th>count</th>\n",
       "      <td>46.000000</td>\n",
       "      <td>46.000000</td>\n",
       "      <td>46.000000</td>\n",
       "      <td>46.000000</td>\n",
       "      <td>46.000000</td>\n",
       "      <td>46.000000</td>\n",
       "      <td>46.000000</td>\n",
       "      <td>46.000000</td>\n",
       "      <td>46.000000</td>\n",
       "      <td>46.000000</td>\n",
       "      <td>6.00000</td>\n",
       "    </tr>\n",
       "    <tr>\n",
       "      <th>mean</th>\n",
       "      <td>620.217391</td>\n",
       "      <td>94.000000</td>\n",
       "      <td>108.608696</td>\n",
       "      <td>101.586957</td>\n",
       "      <td>113.891304</td>\n",
       "      <td>106.543478</td>\n",
       "      <td>95.586957</td>\n",
       "      <td>201.797826</td>\n",
       "      <td>2.449565</td>\n",
       "      <td>6.652174</td>\n",
       "      <td>0.75000</td>\n",
       "    </tr>\n",
       "    <tr>\n",
       "      <th>std</th>\n",
       "      <td>44.993290</td>\n",
       "      <td>18.808981</td>\n",
       "      <td>23.536712</td>\n",
       "      <td>26.525104</td>\n",
       "      <td>25.432462</td>\n",
       "      <td>27.236174</td>\n",
       "      <td>20.436977</td>\n",
       "      <td>197.172328</td>\n",
       "      <td>1.723660</td>\n",
       "      <td>11.965167</td>\n",
       "      <td>0.41833</td>\n",
       "    </tr>\n",
       "    <tr>\n",
       "      <th>min</th>\n",
       "      <td>580.000000</td>\n",
       "      <td>50.000000</td>\n",
       "      <td>50.000000</td>\n",
       "      <td>50.000000</td>\n",
       "      <td>50.000000</td>\n",
       "      <td>50.000000</td>\n",
       "      <td>50.000000</td>\n",
       "      <td>0.300000</td>\n",
       "      <td>0.200000</td>\n",
       "      <td>3.000000</td>\n",
       "      <td>0.00000</td>\n",
       "    </tr>\n",
       "    <tr>\n",
       "      <th>25%</th>\n",
       "      <td>580.000000</td>\n",
       "      <td>80.000000</td>\n",
       "      <td>90.000000</td>\n",
       "      <td>90.000000</td>\n",
       "      <td>96.250000</td>\n",
       "      <td>90.000000</td>\n",
       "      <td>90.000000</td>\n",
       "      <td>56.550000</td>\n",
       "      <td>1.500000</td>\n",
       "      <td>3.000000</td>\n",
       "      <td>0.62500</td>\n",
       "    </tr>\n",
       "    <tr>\n",
       "      <th>50%</th>\n",
       "      <td>600.000000</td>\n",
       "      <td>91.000000</td>\n",
       "      <td>107.500000</td>\n",
       "      <td>100.000000</td>\n",
       "      <td>117.500000</td>\n",
       "      <td>100.000000</td>\n",
       "      <td>99.000000</td>\n",
       "      <td>196.500000</td>\n",
       "      <td>1.960000</td>\n",
       "      <td>3.000000</td>\n",
       "      <td>1.00000</td>\n",
       "    </tr>\n",
       "    <tr>\n",
       "      <th>75%</th>\n",
       "      <td>677.500000</td>\n",
       "      <td>103.750000</td>\n",
       "      <td>123.750000</td>\n",
       "      <td>118.750000</td>\n",
       "      <td>130.000000</td>\n",
       "      <td>120.000000</td>\n",
       "      <td>108.000000</td>\n",
       "      <td>293.750000</td>\n",
       "      <td>3.200000</td>\n",
       "      <td>3.000000</td>\n",
       "      <td>1.00000</td>\n",
       "    </tr>\n",
       "    <tr>\n",
       "      <th>max</th>\n",
       "      <td>720.000000</td>\n",
       "      <td>150.000000</td>\n",
       "      <td>160.000000</td>\n",
       "      <td>200.000000</td>\n",
       "      <td>154.000000</td>\n",
       "      <td>200.000000</td>\n",
       "      <td>150.000000</td>\n",
       "      <td>950.000000</td>\n",
       "      <td>7.010000</td>\n",
       "      <td>45.000000</td>\n",
       "      <td>1.00000</td>\n",
       "    </tr>\n",
       "  </tbody>\n",
       "</table>\n",
       "</div>"
      ],
      "text/plain": [
       "            Total          HP      Attack     Defense      Sp_Atk      Sp_Def  \\\n",
       "count   46.000000   46.000000   46.000000   46.000000   46.000000   46.000000   \n",
       "mean   620.217391   94.000000  108.608696  101.586957  113.891304  106.543478   \n",
       "std     44.993290   18.808981   23.536712   26.525104   25.432462   27.236174   \n",
       "min    580.000000   50.000000   50.000000   50.000000   50.000000   50.000000   \n",
       "25%    580.000000   80.000000   90.000000   90.000000   96.250000   90.000000   \n",
       "50%    600.000000   91.000000  107.500000  100.000000  117.500000  100.000000   \n",
       "75%    677.500000  103.750000  123.750000  118.750000  130.000000  120.000000   \n",
       "max    720.000000  150.000000  160.000000  200.000000  154.000000  200.000000   \n",
       "\n",
       "            Speed   Weight_kg   Height_m  Catch_Rate  Pr_Male  \n",
       "count   46.000000   46.000000  46.000000   46.000000  6.00000  \n",
       "mean    95.586957  201.797826   2.449565    6.652174  0.75000  \n",
       "std     20.436977  197.172328   1.723660   11.965167  0.41833  \n",
       "min     50.000000    0.300000   0.200000    3.000000  0.00000  \n",
       "25%     90.000000   56.550000   1.500000    3.000000  0.62500  \n",
       "50%     99.000000  196.500000   1.960000    3.000000  1.00000  \n",
       "75%    108.000000  293.750000   3.200000    3.000000  1.00000  \n",
       "max    150.000000  950.000000   7.010000   45.000000  1.00000  "
      ]
     },
     "execution_count": 17,
     "metadata": {},
     "output_type": "execute_result"
    }
   ],
   "source": [
    "df1.describe()"
   ]
  },
  {
   "cell_type": "code",
   "execution_count": 20,
   "id": "c9029b94-2054-4db6-bb4a-48840a0d8513",
   "metadata": {},
   "outputs": [
    {
     "data": {
      "text/plain": [
       "<AxesSubplot:title={'center':'Boxplot'}>"
      ]
     },
     "execution_count": 20,
     "metadata": {},
     "output_type": "execute_result"
    },
    {
     "data": {
      "image/png": "[encoded data removed]",
      "text/plain": [
       "<Figure size 1296x576 with 1 Axes>"
      ]
     },
     "metadata": {},
     "output_type": "display_data"
    }
   ],
   "source": [
    "plt.style.use('ggplot')\n",
    "plt.figure(figsize=(18,8))\n",
    "plt.title('Boxplot')\n",
    "sns.boxplot(data=pokemon[pokemon.isLegendary == True][['HP','Attack','Defense','Sp_Atk', 'Sp_Def', 'Speed']])"
   ]
  },
  {
   "cell_type": "code",
   "execution_count": null,
   "id": "138879f6-56b3-41a9-a6fa-2a1c3d1fd979",
   "metadata": {},
   "outputs": [],
   "source": []
  }
 ],
 "metadata": {
  "kernelspec": {
   "display_name": "Python 3 (ipykernel)",
   "language": "python",
   "name": "python3"
  },
  "language_info": {
   "codemirror_mode": {
    "name": "ipython",
    "version": 3
   },
   "file_extension": ".py",
   "mimetype": "text/x-python",
   "name": "python",
   "nbconvert_exporter": "python",
   "pygments_lexer": "ipython3",
   "version": "3.8.13"
  }
 },
 "nbformat": 4,
 "nbformat_minor": 5
}
