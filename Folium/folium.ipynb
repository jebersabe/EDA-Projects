{
 "cells": [
  {
   "cell_type": "code",
   "execution_count": 1,
   "id": "a898975d",
   "metadata": {},
   "outputs": [],
   "source": [
    "import folium\n",
    "from folium import plugins\n",
    "import pandas as pd\n",
    "import matplotlib.pyplot as plt\n",
    "%matplotlib inline"
   ]
  },
  {
   "cell_type": "code",
   "execution_count": 38,
   "id": "c56e6d1b",
   "metadata": {},
   "outputs": [],
   "source": [
    "# basemap = folium.Map(location=[13.481272,123.270717], height=1000, width=1000, tiles=\"OpenStreetMap\", zoom_start=11)\n",
    "\n",
    "# logoIcon_heart = folium.features.CustomIcon('heart.png', icon_size=(40, 40))\n",
    "# logoIcon_kheart = folium.features.CustomIcon('kheart.png', icon_size=(40, 40))\n",
    "\n",
    "# folium.Marker([13.622507121949166, 123.19255423125573],\n",
    "#              popup='<strong>Leni Robredo!</strong>',\n",
    "#              tooltip='Click here tita',\n",
    "#              icon=logoIcon_heart).add_to(basemap),\n",
    "# folium.Marker([13.481272,123.270717],\n",
    "#              popup='Ang presidente...',\n",
    "#              tooltip='Click here tita',\n",
    "#              icon=logoIcon_kheart).add_to(basemap)\n",
    "\n",
    "# basemap.save('joy.html')"
   ]
  },
  {
   "cell_type": "code",
   "execution_count": 55,
   "id": "2aa43d3f",
   "metadata": {},
   "outputs": [
    {
     "data": {
      "text/html": [
       "<div>\n",
       "<style scoped>\n",
       "    .dataframe tbody tr th:only-of-type {\n",
       "        vertical-align: middle;\n",
       "    }\n",
       "\n",
       "    .dataframe tbody tr th {\n",
       "        vertical-align: top;\n",
       "    }\n",
       "\n",
       "    .dataframe thead th {\n",
       "        text-align: right;\n",
       "    }\n",
       "</style>\n",
       "<table border=\"1\" class=\"dataframe\">\n",
       "  <thead>\n",
       "    <tr style=\"text-align: right;\">\n",
       "      <th></th>\n",
       "      <th>name</th>\n",
       "      <th>lat</th>\n",
       "      <th>lng</th>\n",
       "      <th>checkins</th>\n",
       "      <th>address</th>\n",
       "    </tr>\n",
       "  </thead>\n",
       "  <tbody>\n",
       "    <tr>\n",
       "      <th>0</th>\n",
       "      <td>Starbucks Coffee</td>\n",
       "      <td>14.734710</td>\n",
       "      <td>121.057599</td>\n",
       "      <td>10428</td>\n",
       "      <td>Ground Flr, SM City Fairview (Annex 1)</td>\n",
       "    </tr>\n",
       "    <tr>\n",
       "      <th>1</th>\n",
       "      <td>Starbucks Coffee</td>\n",
       "      <td>14.735735</td>\n",
       "      <td>121.060213</td>\n",
       "      <td>3793</td>\n",
       "      <td>Fairview Terraces, Quirino Hwy</td>\n",
       "    </tr>\n",
       "    <tr>\n",
       "      <th>2</th>\n",
       "      <td>The Coffee Bean &amp; Tea Leaf</td>\n",
       "      <td>14.736308</td>\n",
       "      <td>121.058135</td>\n",
       "      <td>17441</td>\n",
       "      <td>G/F Gateway Mall, Gen Roxas Ave</td>\n",
       "    </tr>\n",
       "    <tr>\n",
       "      <th>3</th>\n",
       "      <td>Starbucks Coffee</td>\n",
       "      <td>14.734639</td>\n",
       "      <td>121.059474</td>\n",
       "      <td>4116</td>\n",
       "      <td>2nd Flr, SM City Fairview (Main Bldg)</td>\n",
       "    </tr>\n",
       "    <tr>\n",
       "      <th>4</th>\n",
       "      <td>Starbucks Coffee</td>\n",
       "      <td>14.553593</td>\n",
       "      <td>121.050662</td>\n",
       "      <td>40149</td>\n",
       "      <td>Crossroads, Bonifacio Global City</td>\n",
       "    </tr>\n",
       "  </tbody>\n",
       "</table>\n",
       "</div>"
      ],
      "text/plain": [
       "                         name        lat         lng  checkins  \\\n",
       "0            Starbucks Coffee  14.734710  121.057599     10428   \n",
       "1            Starbucks Coffee  14.735735  121.060213      3793   \n",
       "2  The Coffee Bean & Tea Leaf  14.736308  121.058135     17441   \n",
       "3            Starbucks Coffee  14.734639  121.059474      4116   \n",
       "4            Starbucks Coffee  14.553593  121.050662     40149   \n",
       "\n",
       "                                  address  \n",
       "0  Ground Flr, SM City Fairview (Annex 1)  \n",
       "1          Fairview Terraces, Quirino Hwy  \n",
       "2         G/F Gateway Mall, Gen Roxas Ave  \n",
       "3   2nd Flr, SM City Fairview (Main Bldg)  \n",
       "4       Crossroads, Bonifacio Global City  "
      ]
     },
     "execution_count": 55,
     "metadata": {},
     "output_type": "execute_result"
    }
   ],
   "source": [
    "coffee = pd.read_csv('coffeeshops.csv')\n",
    "coffee.drop('id', axis=1, inplace=True)\n",
    "coffee.head(5)"
   ]
  },
  {
   "cell_type": "code",
   "execution_count": 75,
   "id": "bec515ac",
   "metadata": {},
   "outputs": [],
   "source": [
    "basemap = folium.Map(location=[14.629129, 121.051273], height=1000, width=1000, tiles=\"OpenStreetMap\", zoom_start=10)\n",
    "\n",
    "for index, row in coffee.iterrows():\n",
    "    folium.CircleMarker(\n",
    "    location=[row['lat'], row['lng']],\n",
    "    radius=6,\n",
    "    popup=row['address'],\n",
    "    tooltip=row['name'],\n",
    "    color='#428bca',\n",
    "    fill=True,\n",
    "    fill_color='#428bca',\n",
    "    alpha=0.8\n",
    "    ).add_to(basemap)\n",
    "\n",
    "basemap"
   ]
  }
 ],
 "metadata": {
  "kernelspec": {
   "display_name": "Python 3 (ipykernel)",
   "language": "python",
   "name": "python3"
  },
  "language_info": {
   "codemirror_mode": {
    "name": "ipython",
    "version": 3
   },
   "file_extension": ".py",
   "mimetype": "text/x-python",
   "name": "python",
   "nbconvert_exporter": "python",
   "pygments_lexer": "ipython3",
   "version": "3.9.7"
  }
 },
 "nbformat": 4,
 "nbformat_minor": 5
}
