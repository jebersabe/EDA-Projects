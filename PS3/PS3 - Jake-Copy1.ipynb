{
 "cells": [
  {
   "cell_type": "markdown",
   "id": "4c6e674e",
   "metadata": {},
   "source": [
    "## 1. How many Spam Emails are there?"
   ]
  },
  {
   "cell_type": "code",
   "execution_count": 1,
   "id": "568c63c4",
   "metadata": {},
   "outputs": [],
   "source": [
    "def count_spam(path = \"C:\\\\Users\\\\jakeedison.bersabe\\\\Cadetship\\\\EDA\\\\apper-eda\\\\Notebooks\\\\data\\\\enron-data\", folders = ['enron1','enron2']):\n",
    "    import os\n",
    "    from pathlib import Path\n",
    "    path = Path(path)\n",
    "    spam_count = 0\n",
    "    for folder in folders:\n",
    "        file_names = os.listdir(path / folder / 'spam')\n",
    "        for file_name in file_names:\n",
    "            if 'spam' in file_name:\n",
    "                spam_count += 1\n",
    "    print('There are', spam_count, 'spam emails in', folders)"
   ]
  },
  {
   "cell_type": "code",
   "execution_count": 2,
   "id": "8210f8a4",
   "metadata": {
    "scrolled": true
   },
   "outputs": [
    {
     "name": "stdout",
     "output_type": "stream",
     "text": [
      "There are 2993 spam emails in ['enron1', 'enron2']\n"
     ]
    }
   ],
   "source": [
    "count_spam()"
   ]
  },
  {
   "cell_type": "markdown",
   "id": "9ebaac7f",
   "metadata": {},
   "source": [
    "## 2. Structure the email data from the 2 directories into 1 dataframe with columns: Status, Subject, Body."
   ]
  },
  {
   "cell_type": "markdown",
   "id": "763e5c65",
   "metadata": {},
   "source": [
    "#### Specify the folders that will be included and the path leading to the folders."
   ]
  },
  {
   "cell_type": "code",
   "execution_count": 3,
   "id": "2b233e7f",
   "metadata": {},
   "outputs": [],
   "source": [
    "folders = ['enron1','enron2']\n",
    "status = ['spam','ham']\n",
    "path1 = \"C:\\\\Users\\\\jakeedison.bersabe\\\\Cadetship\\\\EDA\\\\apper-eda\\\\Notebooks\\\\data\\\\enron-data\\\\{folder}\\\\{status}\""
   ]
  },
  {
   "cell_type": "markdown",
   "id": "904d70fc",
   "metadata": {},
   "source": [
    "#### Create the paths containing all the desired emails."
   ]
  },
  {
   "cell_type": "code",
   "execution_count": 4,
   "id": "e5234fd5",
   "metadata": {},
   "outputs": [
    {
     "data": {
      "text/plain": [
       "[('enron1', 'spam'), ('enron1', 'ham'), ('enron2', 'spam'), ('enron2', 'ham')]"
      ]
     },
     "execution_count": 4,
     "metadata": {},
     "output_type": "execute_result"
    }
   ],
   "source": [
    "from itertools import product\n",
    "directories = list(product(folders, status))\n",
    "directories"
   ]
  },
  {
   "cell_type": "code",
   "execution_count": 5,
   "id": "fabc7d57",
   "metadata": {},
   "outputs": [
    {
     "data": {
      "text/plain": [
       "['C:\\\\Users\\\\jakeedison.bersabe\\\\Cadetship\\\\EDA\\\\apper-eda\\\\Notebooks\\\\data\\\\enron-data\\\\enron1\\\\spam',\n",
       " 'C:\\\\Users\\\\jakeedison.bersabe\\\\Cadetship\\\\EDA\\\\apper-eda\\\\Notebooks\\\\data\\\\enron-data\\\\enron1\\\\ham',\n",
       " 'C:\\\\Users\\\\jakeedison.bersabe\\\\Cadetship\\\\EDA\\\\apper-eda\\\\Notebooks\\\\data\\\\enron-data\\\\enron2\\\\spam',\n",
       " 'C:\\\\Users\\\\jakeedison.bersabe\\\\Cadetship\\\\EDA\\\\apper-eda\\\\Notebooks\\\\data\\\\enron-data\\\\enron2\\\\ham']"
      ]
     },
     "execution_count": 5,
     "metadata": {},
     "output_type": "execute_result"
    }
   ],
   "source": [
    "paths = []\n",
    "for i in directories:\n",
    "    paths.append(path1.format(folder=i[0],status=i[1]))\n",
    "paths"
   ]
  },
  {
   "cell_type": "markdown",
   "id": "2ce068ee",
   "metadata": {},
   "source": [
    "#### List all the files in each `path`."
   ]
  },
  {
   "cell_type": "code",
   "execution_count": 6,
   "id": "17bad3f9",
   "metadata": {},
   "outputs": [],
   "source": [
    "import glob\n",
    "file_paths = [glob.glob(pathname=path + '\\\\*') for path in paths]"
   ]
  },
  {
   "cell_type": "markdown",
   "id": "478901c0",
   "metadata": {},
   "source": [
    "#### Now we have all the file paths of the emails in the specified folders."
   ]
  },
  {
   "cell_type": "code",
   "execution_count": 7,
   "id": "01f4d8fd",
   "metadata": {},
   "outputs": [
    {
     "data": {
      "text/plain": [
       "['C:\\\\Users\\\\jakeedison.bersabe\\\\Cadetship\\\\EDA\\\\apper-eda\\\\Notebooks\\\\data\\\\enron-data\\\\enron1\\\\spam\\\\0006.2003-12-18.GP.spam.txt',\n",
       " 'C:\\\\Users\\\\jakeedison.bersabe\\\\Cadetship\\\\EDA\\\\apper-eda\\\\Notebooks\\\\data\\\\enron-data\\\\enron1\\\\spam\\\\0008.2003-12-18.GP.spam.txt',\n",
       " 'C:\\\\Users\\\\jakeedison.bersabe\\\\Cadetship\\\\EDA\\\\apper-eda\\\\Notebooks\\\\data\\\\enron-data\\\\enron1\\\\spam\\\\0017.2003-12-18.GP.spam.txt',\n",
       " 'C:\\\\Users\\\\jakeedison.bersabe\\\\Cadetship\\\\EDA\\\\apper-eda\\\\Notebooks\\\\data\\\\enron-data\\\\enron1\\\\spam\\\\0018.2003-12-18.GP.spam.txt',\n",
       " 'C:\\\\Users\\\\jakeedison.bersabe\\\\Cadetship\\\\EDA\\\\apper-eda\\\\Notebooks\\\\data\\\\enron-data\\\\enron1\\\\spam\\\\0026.2003-12-18.GP.spam.txt']"
      ]
     },
     "execution_count": 7,
     "metadata": {},
     "output_type": "execute_result"
    }
   ],
   "source": [
    "file_paths[0][0:5]"
   ]
  },
  {
   "cell_type": "code",
   "execution_count": 8,
   "id": "cf0aa27f",
   "metadata": {},
   "outputs": [
    {
     "data": {
      "text/plain": [
       "['C:\\\\Users\\\\jakeedison.bersabe\\\\Cadetship\\\\EDA\\\\apper-eda\\\\Notebooks\\\\data\\\\enron-data\\\\enron1\\\\ham\\\\0001.1999-12-10.farmer.ham.txt',\n",
       " 'C:\\\\Users\\\\jakeedison.bersabe\\\\Cadetship\\\\EDA\\\\apper-eda\\\\Notebooks\\\\data\\\\enron-data\\\\enron1\\\\ham\\\\0002.1999-12-13.farmer.ham.txt',\n",
       " 'C:\\\\Users\\\\jakeedison.bersabe\\\\Cadetship\\\\EDA\\\\apper-eda\\\\Notebooks\\\\data\\\\enron-data\\\\enron1\\\\ham\\\\0003.1999-12-14.farmer.ham.txt',\n",
       " 'C:\\\\Users\\\\jakeedison.bersabe\\\\Cadetship\\\\EDA\\\\apper-eda\\\\Notebooks\\\\data\\\\enron-data\\\\enron1\\\\ham\\\\0004.1999-12-14.farmer.ham.txt',\n",
       " 'C:\\\\Users\\\\jakeedison.bersabe\\\\Cadetship\\\\EDA\\\\apper-eda\\\\Notebooks\\\\data\\\\enron-data\\\\enron1\\\\ham\\\\0005.1999-12-14.farmer.ham.txt']"
      ]
     },
     "execution_count": 8,
     "metadata": {},
     "output_type": "execute_result"
    }
   ],
   "source": [
    "file_paths[1][0:5]"
   ]
  },
  {
   "cell_type": "markdown",
   "id": "c2590ad5",
   "metadata": {},
   "source": [
    "#### Having acquired the file paths, we can now extract the status, subject and message body of the emails."
   ]
  },
  {
   "cell_type": "code",
   "execution_count": 9,
   "id": "e6ec9d84",
   "metadata": {},
   "outputs": [
    {
     "name": "stdout",
     "output_type": "stream",
     "text": [
      "Status has 11026 elements.\n",
      "Subject has 11026 elements.\n",
      "Body has 11026 elements.\n"
     ]
    }
   ],
   "source": [
    "subjects = []\n",
    "bodies = []\n",
    "status = []\n",
    "\n",
    "# for each path\n",
    "for file_path in file_paths:\n",
    "    # for each file in path\n",
    "    for i in file_path:\n",
    "        # for status\n",
    "        if 'spam.txt' in i:\n",
    "            status.append('spam')\n",
    "        elif 'ham.txt' in i:\n",
    "            status.append('ham')\n",
    "        # extract the subject from email\n",
    "        with open(i,'r',errors='ignore') as f:\n",
    "            subject = f.readlines()[0]\n",
    "            subject = subject[9:]\n",
    "            subjects.append(subject)\n",
    "        # extract body message from email\n",
    "        with open(i,'r',errors='ignore') as f:\n",
    "            body = f.readlines()\n",
    "            body = body[1:]\n",
    "            bodies.append(body)\n",
    "            \n",
    "# join each sub-elements of the bodies list\n",
    "bodies = [' '.join(i) for i in bodies]\n",
    "\n",
    "print('Status has', len(status), 'elements.')\n",
    "print('Subject has', len(subjects), 'elements.')\n",
    "print('Body has', len(bodies), 'elements.')"
   ]
  },
  {
   "cell_type": "markdown",
   "id": "a20f0c4c",
   "metadata": {},
   "source": [
    "#### Now, use the lists to create a dataframe."
   ]
  },
  {
   "cell_type": "code",
   "execution_count": 10,
   "id": "351fdf3d",
   "metadata": {},
   "outputs": [],
   "source": [
    "import pandas as pd"
   ]
  },
  {
   "cell_type": "code",
   "execution_count": 11,
   "id": "6068cc2f",
   "metadata": {},
   "outputs": [
    {
     "data": {
      "text/html": [
       "<div>\n",
       "<style scoped>\n",
       "    .dataframe tbody tr th:only-of-type {\n",
       "        vertical-align: middle;\n",
       "    }\n",
       "\n",
       "    .dataframe tbody tr th {\n",
       "        vertical-align: top;\n",
       "    }\n",
       "\n",
       "    .dataframe thead th {\n",
       "        text-align: right;\n",
       "    }\n",
       "</style>\n",
       "<table border=\"1\" class=\"dataframe\">\n",
       "  <thead>\n",
       "    <tr style=\"text-align: right;\">\n",
       "      <th></th>\n",
       "      <th>Status</th>\n",
       "      <th>Subject</th>\n",
       "      <th>Body</th>\n",
       "    </tr>\n",
       "  </thead>\n",
       "  <tbody>\n",
       "    <tr>\n",
       "      <th>825</th>\n",
       "      <td>spam</td>\n",
       "      <td>i promised to help 5000 people\\n</td>\n",
       "      <td>please refer all questions , opinions or addit...</td>\n",
       "    </tr>\n",
       "    <tr>\n",
       "      <th>1698</th>\n",
       "      <td>ham</td>\n",
       "      <td>is this fri feb 11 a problem for taking vacati...</td>\n",
       "      <td></td>\n",
       "    </tr>\n",
       "    <tr>\n",
       "      <th>8465</th>\n",
       "      <td>ham</td>\n",
       "      <td>re : rabi de ' s sign on bonus\\n</td>\n",
       "      <td>sorry vince i have been out of town . please g...</td>\n",
       "    </tr>\n",
       "    <tr>\n",
       "      <th>7780</th>\n",
       "      <td>ham</td>\n",
       "      <td>pricing credit on thousands of names\\n</td>\n",
       "      <td>all -\\n our challenge for the next few months ...</td>\n",
       "    </tr>\n",
       "    <tr>\n",
       "      <th>10604</th>\n",
       "      <td>ham</td>\n",
       "      <td>re : test\\n</td>\n",
       "      <td>dear vince : the email address of candice is\\n...</td>\n",
       "    </tr>\n",
       "    <tr>\n",
       "      <th>7056</th>\n",
       "      <td>ham</td>\n",
       "      <td>re : summer intern : paulo oliveira\\n</td>\n",
       "      <td>vince , both matt and april think that this ty...</td>\n",
       "    </tr>\n",
       "    <tr>\n",
       "      <th>9787</th>\n",
       "      <td>ham</td>\n",
       "      <td>vince kaminski bullet points\\n</td>\n",
       "      <td>* definition of price volatility\\n * historica...</td>\n",
       "    </tr>\n",
       "    <tr>\n",
       "      <th>999</th>\n",
       "      <td>spam</td>\n",
       "      <td>get laid tonight : do you need someone to touch\\n</td>\n",
       "      <td>goodbye\\n crevice evade inviablesplice\\n phosp...</td>\n",
       "    </tr>\n",
       "    <tr>\n",
       "      <th>1827</th>\n",
       "      <td>ham</td>\n",
       "      <td>cdnow order confirmation\\n</td>\n",
       "      <td>dear daren ,\\n thank you for shopping at cdnow...</td>\n",
       "    </tr>\n",
       "    <tr>\n",
       "      <th>5753</th>\n",
       "      <td>spam</td>\n",
       "      <td>we have been rated as # 1 one - stop - shop in...</td>\n",
       "      <td>take the pill and enjoy great sex\\n commit a c...</td>\n",
       "    </tr>\n",
       "  </tbody>\n",
       "</table>\n",
       "</div>"
      ],
      "text/plain": [
       "      Status                                            Subject  \\\n",
       "825     spam                   i promised to help 5000 people\\n   \n",
       "1698     ham  is this fri feb 11 a problem for taking vacati...   \n",
       "8465     ham                   re : rabi de ' s sign on bonus\\n   \n",
       "7780     ham             pricing credit on thousands of names\\n   \n",
       "10604    ham                                        re : test\\n   \n",
       "7056     ham              re : summer intern : paulo oliveira\\n   \n",
       "9787     ham                     vince kaminski bullet points\\n   \n",
       "999     spam  get laid tonight : do you need someone to touch\\n   \n",
       "1827     ham                         cdnow order confirmation\\n   \n",
       "5753    spam  we have been rated as # 1 one - stop - shop in...   \n",
       "\n",
       "                                                    Body  \n",
       "825    please refer all questions , opinions or addit...  \n",
       "1698                                                      \n",
       "8465   sorry vince i have been out of town . please g...  \n",
       "7780   all -\\n our challenge for the next few months ...  \n",
       "10604  dear vince : the email address of candice is\\n...  \n",
       "7056   vince , both matt and april think that this ty...  \n",
       "9787   * definition of price volatility\\n * historica...  \n",
       "999    goodbye\\n crevice evade inviablesplice\\n phosp...  \n",
       "1827   dear daren ,\\n thank you for shopping at cdnow...  \n",
       "5753   take the pill and enjoy great sex\\n commit a c...  "
      ]
     },
     "execution_count": 11,
     "metadata": {},
     "output_type": "execute_result"
    }
   ],
   "source": [
    "enron = pd.DataFrame(list(zip(status,subjects,bodies)), columns=['Status','Subject','Body'])\n",
    "enron.sample(10)"
   ]
  },
  {
   "cell_type": "markdown",
   "id": "37b51646",
   "metadata": {},
   "source": [
    "## 3. Build a Naive Bayes classifier to classify whether emails are spam or not."
   ]
  },
  {
   "cell_type": "markdown",
   "id": "4e0b990c",
   "metadata": {},
   "source": [
    "#### Import libraries"
   ]
  },
  {
   "cell_type": "code",
   "execution_count": 12,
   "id": "37ab5065",
   "metadata": {},
   "outputs": [],
   "source": [
    "import pandas as pd\n",
    "import numpy as np\n",
    "import matplotlib.pyplot as plt\n",
    "\n",
    "%matplotlib inline"
   ]
  },
  {
   "cell_type": "code",
   "execution_count": 13,
   "id": "231da67b",
   "metadata": {},
   "outputs": [
    {
     "data": {
      "text/html": [
       "<div>\n",
       "<style scoped>\n",
       "    .dataframe tbody tr th:only-of-type {\n",
       "        vertical-align: middle;\n",
       "    }\n",
       "\n",
       "    .dataframe tbody tr th {\n",
       "        vertical-align: top;\n",
       "    }\n",
       "\n",
       "    .dataframe thead th {\n",
       "        text-align: right;\n",
       "    }\n",
       "</style>\n",
       "<table border=\"1\" class=\"dataframe\">\n",
       "  <thead>\n",
       "    <tr style=\"text-align: right;\">\n",
       "      <th></th>\n",
       "      <th>Status</th>\n",
       "      <th>Subject</th>\n",
       "      <th>Body</th>\n",
       "    </tr>\n",
       "  </thead>\n",
       "  <tbody>\n",
       "    <tr>\n",
       "      <th>584</th>\n",
       "      <td>spam</td>\n",
       "      <td>for 9 or\\n</td>\n",
       "      <td>email loading . . . %\\n wise triatomic lauren ...</td>\n",
       "    </tr>\n",
       "    <tr>\n",
       "      <th>8724</th>\n",
       "      <td>ham</td>\n",
       "      <td>re : from vicky windsor\\n</td>\n",
       "      <td>vicky ,\\n please , send me your resume .\\n i s...</td>\n",
       "    </tr>\n",
       "    <tr>\n",
       "      <th>5624</th>\n",
       "      <td>spam</td>\n",
       "      <td>in the heart of your business !\\n</td>\n",
       "      <td>corporate image can say a lot of things about ...</td>\n",
       "    </tr>\n",
       "    <tr>\n",
       "      <th>4395</th>\n",
       "      <td>ham</td>\n",
       "      <td>revision : eastrans nomination change effectiv...</td>\n",
       "      <td>deliveries and redeliveries will still be 0 ef...</td>\n",
       "    </tr>\n",
       "    <tr>\n",
       "      <th>4372</th>\n",
       "      <td>ham</td>\n",
       "      <td>re : cp &amp; l\\n</td>\n",
       "      <td>daren ,\\n i am handling cp &amp; l and am trying t...</td>\n",
       "    </tr>\n",
       "  </tbody>\n",
       "</table>\n",
       "</div>"
      ],
      "text/plain": [
       "     Status                                            Subject  \\\n",
       "584    spam                                         for 9 or\\n   \n",
       "8724    ham                          re : from vicky windsor\\n   \n",
       "5624   spam                  in the heart of your business !\\n   \n",
       "4395    ham  revision : eastrans nomination change effectiv...   \n",
       "4372    ham                                      re : cp & l\\n   \n",
       "\n",
       "                                                   Body  \n",
       "584   email loading . . . %\\n wise triatomic lauren ...  \n",
       "8724  vicky ,\\n please , send me your resume .\\n i s...  \n",
       "5624  corporate image can say a lot of things about ...  \n",
       "4395  deliveries and redeliveries will still be 0 ef...  \n",
       "4372  daren ,\\n i am handling cp & l and am trying t...  "
      ]
     },
     "execution_count": 13,
     "metadata": {},
     "output_type": "execute_result"
    }
   ],
   "source": [
    "enron.sample(5)"
   ]
  },
  {
   "cell_type": "code",
   "execution_count": 14,
   "id": "23b4d3f2",
   "metadata": {},
   "outputs": [
    {
     "data": {
      "text/plain": [
       "(11026, 3)"
      ]
     },
     "execution_count": 14,
     "metadata": {},
     "output_type": "execute_result"
    }
   ],
   "source": [
    "enron.shape"
   ]
  },
  {
   "cell_type": "markdown",
   "id": "eff0a067",
   "metadata": {},
   "source": [
    "#### Create `Spam` column from the `Status` column and delete `Status` column."
   ]
  },
  {
   "cell_type": "code",
   "execution_count": 15,
   "id": "8059da5a",
   "metadata": {},
   "outputs": [],
   "source": [
    "enron['Spam'] = [1 if i == 'spam' else 0 for i in enron['Status']]\n",
    "enron.drop('Status', inplace=True, axis=1)"
   ]
  },
  {
   "cell_type": "code",
   "execution_count": 16,
   "id": "3ffbfa10",
   "metadata": {},
   "outputs": [
    {
     "data": {
      "text/html": [
       "<div>\n",
       "<style scoped>\n",
       "    .dataframe tbody tr th:only-of-type {\n",
       "        vertical-align: middle;\n",
       "    }\n",
       "\n",
       "    .dataframe tbody tr th {\n",
       "        vertical-align: top;\n",
       "    }\n",
       "\n",
       "    .dataframe thead th {\n",
       "        text-align: right;\n",
       "    }\n",
       "</style>\n",
       "<table border=\"1\" class=\"dataframe\">\n",
       "  <thead>\n",
       "    <tr style=\"text-align: right;\">\n",
       "      <th></th>\n",
       "      <th>Subject</th>\n",
       "      <th>Body</th>\n",
       "      <th>Spam</th>\n",
       "    </tr>\n",
       "  </thead>\n",
       "  <tbody>\n",
       "    <tr>\n",
       "      <th>8679</th>\n",
       "      <td>re : subscription renewals\\n</td>\n",
       "      <td>susan :\\n vince would like to renew all of the...</td>\n",
       "      <td>0</td>\n",
       "    </tr>\n",
       "    <tr>\n",
       "      <th>6307</th>\n",
       "      <td>hot stock info : drgv announces another press ...</td>\n",
       "      <td>a $ 3 , 800 investment could be worth $ 50 , 0...</td>\n",
       "      <td>1</td>\n",
       "    </tr>\n",
       "    <tr>\n",
       "      <th>8961</th>\n",
       "      <td>re : enron case study\\n</td>\n",
       "      <td>outstanding , cindy . thank you so much . i wi...</td>\n",
       "      <td>0</td>\n",
       "    </tr>\n",
       "    <tr>\n",
       "      <th>10817</th>\n",
       "      <td>re : corporate card\\n</td>\n",
       "      <td>yes tony ,\\n mike authorized you for a corp . ...</td>\n",
       "      <td>0</td>\n",
       "    </tr>\n",
       "    <tr>\n",
       "      <th>9121</th>\n",
       "      <td>pserc iab meeting\\n</td>\n",
       "      <td>dear dennis ,\\n vince kaminski forwarded your ...</td>\n",
       "      <td>0</td>\n",
       "    </tr>\n",
       "  </tbody>\n",
       "</table>\n",
       "</div>"
      ],
      "text/plain": [
       "                                                 Subject  \\\n",
       "8679                        re : subscription renewals\\n   \n",
       "6307   hot stock info : drgv announces another press ...   \n",
       "8961                             re : enron case study\\n   \n",
       "10817                              re : corporate card\\n   \n",
       "9121                                 pserc iab meeting\\n   \n",
       "\n",
       "                                                    Body  Spam  \n",
       "8679   susan :\\n vince would like to renew all of the...     0  \n",
       "6307   a $ 3 , 800 investment could be worth $ 50 , 0...     1  \n",
       "8961   outstanding , cindy . thank you so much . i wi...     0  \n",
       "10817  yes tony ,\\n mike authorized you for a corp . ...     0  \n",
       "9121   dear dennis ,\\n vince kaminski forwarded your ...     0  "
      ]
     },
     "execution_count": 16,
     "metadata": {},
     "output_type": "execute_result"
    }
   ],
   "source": [
    "enron.sample(5)"
   ]
  },
  {
   "cell_type": "markdown",
   "id": "58bb53f4",
   "metadata": {},
   "source": [
    "#### Split data for training and testing."
   ]
  },
  {
   "cell_type": "code",
   "execution_count": 17,
   "id": "63ecb229",
   "metadata": {},
   "outputs": [],
   "source": [
    "from sklearn.model_selection import train_test_split"
   ]
  },
  {
   "cell_type": "code",
   "execution_count": 18,
   "id": "1bf1f431",
   "metadata": {},
   "outputs": [],
   "source": [
    "train_X, test_X, train_y, test_y = train_test_split(enron[\"Body\"], enron[\"Spam\"], test_size=0.3, random_state=0)"
   ]
  },
  {
   "cell_type": "markdown",
   "id": "4c6172f4",
   "metadata": {},
   "source": [
    "#### Import libraries for text analysis"
   ]
  },
  {
   "cell_type": "code",
   "execution_count": 19,
   "id": "88e0ccae",
   "metadata": {},
   "outputs": [],
   "source": [
    "from sklearn.feature_extraction.text import TfidfVectorizer\n",
    "from sklearn.naive_bayes import GaussianNB"
   ]
  },
  {
   "cell_type": "code",
   "execution_count": 20,
   "id": "92209936",
   "metadata": {},
   "outputs": [],
   "source": [
    "vectorizer = TfidfVectorizer(stop_words='english')\n",
    "tfidf_train_X = vectorizer.fit_transform(train_X)"
   ]
  },
  {
   "cell_type": "markdown",
   "id": "b58b43fb",
   "metadata": {},
   "source": [
    "#### Train the model"
   ]
  },
  {
   "cell_type": "code",
   "execution_count": 21,
   "id": "391b1515",
   "metadata": {},
   "outputs": [
    {
     "data": {
      "text/plain": [
       "GaussianNB()"
      ]
     },
     "execution_count": 21,
     "metadata": {},
     "output_type": "execute_result"
    }
   ],
   "source": [
    "classifier = GaussianNB()\n",
    "classifier.fit(tfidf_train_X.toarray(), train_y)"
   ]
  },
  {
   "cell_type": "markdown",
   "id": "ff60b3c7",
   "metadata": {},
   "source": [
    "## 4. What is the longest ham email?"
   ]
  },
  {
   "cell_type": "markdown",
   "id": "b1df0328",
   "metadata": {},
   "source": [
    "#### Create a dataframe containing all ham emails."
   ]
  },
  {
   "cell_type": "code",
   "execution_count": 22,
   "id": "de8d3d5f",
   "metadata": {},
   "outputs": [],
   "source": [
    "hams = enron[enron['Spam'] == 0][['Body']]"
   ]
  },
  {
   "cell_type": "markdown",
   "id": "21540d2a",
   "metadata": {},
   "source": [
    "#### Create a column containing the lengths of each emails."
   ]
  },
  {
   "cell_type": "code",
   "execution_count": 23,
   "id": "2cbdf9ba",
   "metadata": {},
   "outputs": [],
   "source": [
    "hams['Lengths'] = [len(i) for i in hams['Body']]\n",
    "hams.drop('Body',inplace=True,axis=1)"
   ]
  },
  {
   "cell_type": "markdown",
   "id": "37904c18",
   "metadata": {},
   "source": [
    "#### Get the index of the longest ham email."
   ]
  },
  {
   "cell_type": "code",
   "execution_count": 24,
   "id": "3dfa28cf",
   "metadata": {},
   "outputs": [
    {
     "name": "stdout",
     "output_type": "stream",
     "text": [
      "Lengths    10765\n",
      "dtype: int64\n"
     ]
    }
   ],
   "source": [
    "longest_ham = hams.idxmax()\n",
    "print(longest_ham)"
   ]
  },
  {
   "cell_type": "markdown",
   "id": "1f096aa1",
   "metadata": {},
   "source": [
    "#### Print the longest ham email."
   ]
  },
  {
   "cell_type": "code",
   "execution_count": 25,
   "id": "339feca8",
   "metadata": {},
   "outputs": [
    {
     "data": {
      "text/plain": [
       "10765    fyi news articles from indian press .\\n - - - ...\n",
       "Name: Body, dtype: object"
      ]
     },
     "execution_count": 25,
     "metadata": {},
     "output_type": "execute_result"
    }
   ],
   "source": [
    "enron.iloc[longest_ham,1]"
   ]
  },
  {
   "cell_type": "markdown",
   "id": "159b2a50",
   "metadata": {},
   "source": [
    "#### The longest ham email has `43888` characters."
   ]
  },
  {
   "cell_type": "code",
   "execution_count": 26,
   "id": "526c174a",
   "metadata": {},
   "outputs": [
    {
     "data": {
      "text/plain": [
       "Lengths    43888\n",
       "dtype: int64"
      ]
     },
     "execution_count": 26,
     "metadata": {},
     "output_type": "execute_result"
    }
   ],
   "source": [
    "hams.max()"
   ]
  },
  {
   "cell_type": "markdown",
   "id": "9e332b92",
   "metadata": {},
   "source": [
    "## 5. What is the accuracy of your model?"
   ]
  },
  {
   "cell_type": "code",
   "execution_count": 27,
   "id": "7fb0bf7e",
   "metadata": {},
   "outputs": [],
   "source": [
    "from sklearn.model_selection import cross_val_score"
   ]
  },
  {
   "cell_type": "code",
   "execution_count": 28,
   "id": "acbf11d8",
   "metadata": {},
   "outputs": [
    {
     "name": "stdout",
     "output_type": "stream",
     "text": [
      "(3308, 58021)\n",
      "Accuracy: 94.01 percent\n"
     ]
    }
   ],
   "source": [
    "tfidf_test_X = vectorizer.transform(test_X)\n",
    "print(tfidf_test_X.shape)\n",
    "scores = cross_val_score(classifier, tfidf_test_X.toarray(), test_y, cv=5)\n",
    "acc = scores.mean()\n",
    "print(\"Accuracy: %0.2f percent\" % (acc *100))"
   ]
  },
  {
   "cell_type": "markdown",
   "id": "c58edb51",
   "metadata": {},
   "source": [
    "**The model has an accuracy of `94.01%`.**"
   ]
  },
  {
   "cell_type": "markdown",
   "id": "3118b393",
   "metadata": {},
   "source": [
    "## 6. Include the Subject in the analysis of the emails, does the accuracy/performance of the model increase?"
   ]
  },
  {
   "cell_type": "markdown",
   "id": "34166c1e",
   "metadata": {},
   "source": [
    "#### Create a new column containing the concatenation of `Subject` and `Body`."
   ]
  },
  {
   "cell_type": "code",
   "execution_count": 29,
   "id": "9331b734",
   "metadata": {},
   "outputs": [],
   "source": [
    "enron['Total'] = [sub + bod for (sub, bod) in zip(enron.iloc[:,0],enron.iloc[:,1])]"
   ]
  },
  {
   "cell_type": "code",
   "execution_count": 30,
   "id": "3a83f9db",
   "metadata": {},
   "outputs": [
    {
     "data": {
      "text/html": [
       "<div>\n",
       "<style scoped>\n",
       "    .dataframe tbody tr th:only-of-type {\n",
       "        vertical-align: middle;\n",
       "    }\n",
       "\n",
       "    .dataframe tbody tr th {\n",
       "        vertical-align: top;\n",
       "    }\n",
       "\n",
       "    .dataframe thead th {\n",
       "        text-align: right;\n",
       "    }\n",
       "</style>\n",
       "<table border=\"1\" class=\"dataframe\">\n",
       "  <thead>\n",
       "    <tr style=\"text-align: right;\">\n",
       "      <th></th>\n",
       "      <th>Subject</th>\n",
       "      <th>Body</th>\n",
       "      <th>Spam</th>\n",
       "      <th>Total</th>\n",
       "    </tr>\n",
       "  </thead>\n",
       "  <tbody>\n",
       "    <tr>\n",
       "      <th>0</th>\n",
       "      <td>dobmeos with hgh my energy level has gone up !...</td>\n",
       "      <td>introducing\\n doctor - formulated\\n hgh\\n huma...</td>\n",
       "      <td>1</td>\n",
       "      <td>dobmeos with hgh my energy level has gone up !...</td>\n",
       "    </tr>\n",
       "    <tr>\n",
       "      <th>1</th>\n",
       "      <td>your prescription is ready . . oxwq s f e\\n</td>\n",
       "      <td>low cost prescription medications\\n soma , ult...</td>\n",
       "      <td>1</td>\n",
       "      <td>your prescription is ready . . oxwq s f e\\nlow...</td>\n",
       "    </tr>\n",
       "    <tr>\n",
       "      <th>2</th>\n",
       "      <td>get that new car 8434\\n</td>\n",
       "      <td>people nowthe weather or climate in any partic...</td>\n",
       "      <td>1</td>\n",
       "      <td>get that new car 8434\\npeople nowthe weather o...</td>\n",
       "    </tr>\n",
       "    <tr>\n",
       "      <th>3</th>\n",
       "      <td>await your response\\n</td>\n",
       "      <td>dear partner ,\\n we are a team of government o...</td>\n",
       "      <td>1</td>\n",
       "      <td>await your response\\ndear partner ,\\n we are a...</td>\n",
       "    </tr>\n",
       "    <tr>\n",
       "      <th>4</th>\n",
       "      <td>coca cola , mbna america , nascar partner with...</td>\n",
       "      <td>stock\\n profile\\n about\\n company\\n investment...</td>\n",
       "      <td>1</td>\n",
       "      <td>coca cola , mbna america , nascar partner with...</td>\n",
       "    </tr>\n",
       "  </tbody>\n",
       "</table>\n",
       "</div>"
      ],
      "text/plain": [
       "                                             Subject  \\\n",
       "0  dobmeos with hgh my energy level has gone up !...   \n",
       "1        your prescription is ready . . oxwq s f e\\n   \n",
       "2                            get that new car 8434\\n   \n",
       "3                              await your response\\n   \n",
       "4  coca cola , mbna america , nascar partner with...   \n",
       "\n",
       "                                                Body  Spam  \\\n",
       "0  introducing\\n doctor - formulated\\n hgh\\n huma...     1   \n",
       "1  low cost prescription medications\\n soma , ult...     1   \n",
       "2  people nowthe weather or climate in any partic...     1   \n",
       "3  dear partner ,\\n we are a team of government o...     1   \n",
       "4  stock\\n profile\\n about\\n company\\n investment...     1   \n",
       "\n",
       "                                               Total  \n",
       "0  dobmeos with hgh my energy level has gone up !...  \n",
       "1  your prescription is ready . . oxwq s f e\\nlow...  \n",
       "2  get that new car 8434\\npeople nowthe weather o...  \n",
       "3  await your response\\ndear partner ,\\n we are a...  \n",
       "4  coca cola , mbna america , nascar partner with...  "
      ]
     },
     "execution_count": 30,
     "metadata": {},
     "output_type": "execute_result"
    }
   ],
   "source": [
    "enron.head(5)"
   ]
  },
  {
   "cell_type": "code",
   "execution_count": 31,
   "id": "354f4223",
   "metadata": {},
   "outputs": [],
   "source": [
    "train_X, test_X, train_y, test_y = train_test_split(enron[\"Total\"], enron[\"Spam\"], test_size=0.3, random_state=0)"
   ]
  },
  {
   "cell_type": "code",
   "execution_count": 32,
   "id": "65bba0ab",
   "metadata": {},
   "outputs": [],
   "source": [
    "vectorizer = TfidfVectorizer(stop_words='english')\n",
    "tfidf_train_X = vectorizer.fit_transform(train_X)"
   ]
  },
  {
   "cell_type": "code",
   "execution_count": 33,
   "id": "df92e967",
   "metadata": {},
   "outputs": [
    {
     "data": {
      "text/plain": [
       "GaussianNB()"
      ]
     },
     "execution_count": 33,
     "metadata": {},
     "output_type": "execute_result"
    }
   ],
   "source": [
    "classifier = GaussianNB()\n",
    "classifier.fit(tfidf_train_X.toarray(), train_y)"
   ]
  },
  {
   "cell_type": "code",
   "execution_count": 34,
   "id": "e4d9a362",
   "metadata": {},
   "outputs": [
    {
     "name": "stdout",
     "output_type": "stream",
     "text": [
      "(3308, 58864)\n",
      "Accuracy: 94.68 percent\n"
     ]
    }
   ],
   "source": [
    "tfidf_test_X = vectorizer.transform(test_X)\n",
    "print(tfidf_test_X.shape)\n",
    "scores = cross_val_score(classifier, tfidf_test_X.toarray(), test_y, cv=5)\n",
    "acc = scores.mean()\n",
    "print(\"Accuracy: %0.2f percent\" % (acc *100))"
   ]
  },
  {
   "cell_type": "markdown",
   "id": "864926c7",
   "metadata": {},
   "source": [
    "**The accuracy improved by `0.67%`**"
   ]
  },
  {
   "cell_type": "markdown",
   "id": "68e75000",
   "metadata": {},
   "source": [
    "## Bonus : Answer questions 1-6 using Enron 1,2, and 3."
   ]
  },
  {
   "cell_type": "markdown",
   "id": "04b1b402",
   "metadata": {},
   "source": [
    "**Answer to bonus question is in the jupyter notebook `PS3 - Bonus - Jake.ipynb`.**"
   ]
  }
 ],
 "metadata": {
  "kernelspec": {
   "display_name": "Python 3 (ipykernel)",
   "language": "python",
   "name": "python3"
  },
  "language_info": {
   "codemirror_mode": {
    "name": "ipython",
    "version": 3
   },
   "file_extension": ".py",
   "mimetype": "text/x-python",
   "name": "python",
   "nbconvert_exporter": "python",
   "pygments_lexer": "ipython3",
   "version": "3.9.7"
  }
 },
 "nbformat": 4,
 "nbformat_minor": 5
}
