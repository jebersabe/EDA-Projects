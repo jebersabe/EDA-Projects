{
 "cells": [
  {
   "cell_type": "markdown",
   "id": "f2c89e6e-c0bd-4861-a20f-2138f4e9f23e",
   "metadata": {},
   "source": [
    "# Problem Set 1 CS129.18"
   ]
  },
  {
   "cell_type": "code",
   "execution_count": 26,
   "id": "9990e6b6-7ac5-4f71-bb0a-0d786b5849bc",
   "metadata": {},
   "outputs": [],
   "source": [
    "%matplotlib inline\n",
    "\n",
    "import numpy as np\n",
    "import pandas as pd\n",
    "import matplotlib.pyplot as plt\n",
    "import sklearn\n",
    "import seaborn as sns\n",
    "\n",
    "import warnings\n",
    "\n",
    "#warnings.filterwarnings(action=\"ignore\", module=\"scipy\", message=\"^internal gelsd\")"
   ]
  },
  {
   "cell_type": "markdown",
   "id": "f75b65cc-2220-4f7c-8dcb-0c72c2afe31e",
   "metadata": {},
   "source": [
    "## 1. What is the dimensionality or shape of the data?"
   ]
  },
  {
   "cell_type": "code",
   "execution_count": 2,
   "id": "90c90e8d-4513-4453-b54b-7b70f959014a",
   "metadata": {},
   "outputs": [],
   "source": [
    "weather = pd.read_csv('PH_Weather_v1.csv')"
   ]
  },
  {
   "cell_type": "code",
   "execution_count": 3,
   "id": "4915f03b-9362-4794-8bc9-1543215e2763",
   "metadata": {},
   "outputs": [
    {
     "data": {
      "text/plain": [
       "(90565, 11)"
      ]
     },
     "execution_count": 3,
     "metadata": {},
     "output_type": "execute_result"
    }
   ],
   "source": [
    "weather.shape"
   ]
  },
  {
   "cell_type": "markdown",
   "id": "b68357ec-b33a-4a7b-95e2-f79ef3d4d932",
   "metadata": {},
   "source": [
    "The data has **90565 rows** and **11 columns**."
   ]
  },
  {
   "cell_type": "markdown",
   "id": "580a562b-7650-47f7-a534-0a79b3581edc",
   "metadata": {},
   "source": [
    "## 2. What is the mean temperature for the year 2017?"
   ]
  },
  {
   "cell_type": "code",
   "execution_count": 4,
   "id": "ded5d7ef-1ea1-47e6-afbb-ce501a2d0028",
   "metadata": {},
   "outputs": [
    {
     "data": {
      "text/html": [
       "<div>\n",
       "<style scoped>\n",
       "    .dataframe tbody tr th:only-of-type {\n",
       "        vertical-align: middle;\n",
       "    }\n",
       "\n",
       "    .dataframe tbody tr th {\n",
       "        vertical-align: top;\n",
       "    }\n",
       "\n",
       "    .dataframe thead th {\n",
       "        text-align: right;\n",
       "    }\n",
       "</style>\n",
       "<table border=\"1\" class=\"dataframe\">\n",
       "  <thead>\n",
       "    <tr style=\"text-align: right;\">\n",
       "      <th></th>\n",
       "      <th>datetime</th>\n",
       "      <th>wind_direction</th>\n",
       "      <th>wind_speed</th>\n",
       "      <th>gust_speed</th>\n",
       "      <th>sea_level_pressure</th>\n",
       "      <th>temperature</th>\n",
       "      <th>altitude</th>\n",
       "      <th>precipitation</th>\n",
       "      <th>clouds</th>\n",
       "      <th>visibility</th>\n",
       "      <th>humidity</th>\n",
       "    </tr>\n",
       "  </thead>\n",
       "  <tbody>\n",
       "    <tr>\n",
       "      <th>0</th>\n",
       "      <td>197809140300</td>\n",
       "      <td>160</td>\n",
       "      <td>2</td>\n",
       "      <td>NaN</td>\n",
       "      <td>1007.7</td>\n",
       "      <td>30</td>\n",
       "      <td>NaN</td>\n",
       "      <td>NaN</td>\n",
       "      <td>BKN</td>\n",
       "      <td>15.6</td>\n",
       "      <td>0.75</td>\n",
       "    </tr>\n",
       "  </tbody>\n",
       "</table>\n",
       "</div>"
      ],
      "text/plain": [
       "       datetime  wind_direction  wind_speed  gust_speed  sea_level_pressure  \\\n",
       "0  197809140300             160           2         NaN              1007.7   \n",
       "\n",
       "   temperature  altitude  precipitation clouds  visibility  humidity  \n",
       "0           30       NaN            NaN    BKN        15.6      0.75  "
      ]
     },
     "execution_count": 4,
     "metadata": {},
     "output_type": "execute_result"
    }
   ],
   "source": [
    "weather.head(1)"
   ]
  },
  {
   "cell_type": "code",
   "execution_count": 5,
   "id": "cf8fe029-89f3-4552-8899-8dee0046ad33",
   "metadata": {},
   "outputs": [],
   "source": [
    "# Convert datetime column data type from integer to string\n",
    "weather['datetime'] = list(map(str,weather['datetime']))"
   ]
  },
  {
   "cell_type": "code",
   "execution_count": 6,
   "id": "d803ddbe-2615-4e13-8a93-fff5fd5be583",
   "metadata": {},
   "outputs": [
    {
     "name": "stdout",
     "output_type": "stream",
     "text": [
      "Mean temperature for the year 2017:\n"
     ]
    },
    {
     "data": {
      "text/plain": [
       "27.93335635359116"
      ]
     },
     "execution_count": 6,
     "metadata": {},
     "output_type": "execute_result"
    }
   ],
   "source": [
    "print('Mean temperature for the year 2017:')\n",
    "weather[weather['datetime'].str.startswith('2017')]['temperature'].mean()"
   ]
  },
  {
   "cell_type": "markdown",
   "id": "23bfb1fc-036e-4ff4-abdd-320f45c15b04",
   "metadata": {},
   "source": [
    "# 3. Solve for the beta coefficients for the columns that you can use in your dataset to predict temperature."
   ]
  },
  {
   "cell_type": "markdown",
   "id": "087c96df-8212-4b60-b74e-1dd2b8ca81ea",
   "metadata": {},
   "source": [
    "Some columns are mostly empty."
   ]
  },
  {
   "cell_type": "code",
   "execution_count": 7,
   "id": "fbe93539-95b8-46eb-9336-23215f01a001",
   "metadata": {},
   "outputs": [
    {
     "name": "stdout",
     "output_type": "stream",
     "text": [
      "<class 'pandas.core.frame.DataFrame'>\n",
      "RangeIndex: 90565 entries, 0 to 90564\n",
      "Data columns (total 11 columns):\n",
      " #   Column              Non-Null Count  Dtype  \n",
      "---  ------              --------------  -----  \n",
      " 0   datetime            90565 non-null  int64  \n",
      " 1   wind_direction      90565 non-null  int64  \n",
      " 2   wind_speed          90565 non-null  int64  \n",
      " 3   gust_speed          1 non-null      float64\n",
      " 4   sea_level_pressure  90565 non-null  float64\n",
      " 5   temperature         90565 non-null  int64  \n",
      " 6   altitude            0 non-null      float64\n",
      " 7   precipitation       13 non-null     float64\n",
      " 8   clouds              90565 non-null  object \n",
      " 9   visibility          90565 non-null  float64\n",
      " 10  humidity            90565 non-null  float64\n",
      "dtypes: float64(6), int64(4), object(1)\n",
      "memory usage: 7.6+ MB\n"
     ]
    }
   ],
   "source": [
    "weather = pd.read_csv('PH_Weather_v1.csv')\n",
    "weather.info()"
   ]
  },
  {
   "cell_type": "markdown",
   "id": "6b1d2b7a-2876-4492-b613-e6f17b992705",
   "metadata": {},
   "source": [
    "Drop those columns:"
   ]
  },
  {
   "cell_type": "code",
   "execution_count": 8,
   "id": "dec1fa88-bcd0-47e7-9cfa-71b17289feea",
   "metadata": {},
   "outputs": [],
   "source": [
    "weather.drop(['gust_speed','altitude','precipitation'],axis=1,inplace=True)"
   ]
  },
  {
   "cell_type": "markdown",
   "id": "9ed526ce-66f5-49f5-9ed2-65ff9d4110bf",
   "metadata": {},
   "source": [
    "We are left with this dataset:"
   ]
  },
  {
   "cell_type": "code",
   "execution_count": 9,
   "id": "ff47bde9-a746-4eda-ba62-ed49d27cb7a9",
   "metadata": {},
   "outputs": [
    {
     "data": {
      "text/html": [
       "<div>\n",
       "<style scoped>\n",
       "    .dataframe tbody tr th:only-of-type {\n",
       "        vertical-align: middle;\n",
       "    }\n",
       "\n",
       "    .dataframe tbody tr th {\n",
       "        vertical-align: top;\n",
       "    }\n",
       "\n",
       "    .dataframe thead th {\n",
       "        text-align: right;\n",
       "    }\n",
       "</style>\n",
       "<table border=\"1\" class=\"dataframe\">\n",
       "  <thead>\n",
       "    <tr style=\"text-align: right;\">\n",
       "      <th></th>\n",
       "      <th>datetime</th>\n",
       "      <th>wind_direction</th>\n",
       "      <th>wind_speed</th>\n",
       "      <th>sea_level_pressure</th>\n",
       "      <th>temperature</th>\n",
       "      <th>clouds</th>\n",
       "      <th>visibility</th>\n",
       "      <th>humidity</th>\n",
       "    </tr>\n",
       "  </thead>\n",
       "  <tbody>\n",
       "    <tr>\n",
       "      <th>0</th>\n",
       "      <td>197809140300</td>\n",
       "      <td>160</td>\n",
       "      <td>2</td>\n",
       "      <td>1007.7</td>\n",
       "      <td>30</td>\n",
       "      <td>BKN</td>\n",
       "      <td>15.6</td>\n",
       "      <td>0.75</td>\n",
       "    </tr>\n",
       "    <tr>\n",
       "      <th>1</th>\n",
       "      <td>197810021500</td>\n",
       "      <td>0</td>\n",
       "      <td>0</td>\n",
       "      <td>1011.3</td>\n",
       "      <td>26</td>\n",
       "      <td>OVC</td>\n",
       "      <td>6.2</td>\n",
       "      <td>0.94</td>\n",
       "    </tr>\n",
       "    <tr>\n",
       "      <th>2</th>\n",
       "      <td>197810252100</td>\n",
       "      <td>360</td>\n",
       "      <td>9</td>\n",
       "      <td>1004.1</td>\n",
       "      <td>26</td>\n",
       "      <td>BKN</td>\n",
       "      <td>6.2</td>\n",
       "      <td>0.80</td>\n",
       "    </tr>\n",
       "  </tbody>\n",
       "</table>\n",
       "</div>"
      ],
      "text/plain": [
       "       datetime  wind_direction  wind_speed  sea_level_pressure  temperature  \\\n",
       "0  197809140300             160           2              1007.7           30   \n",
       "1  197810021500               0           0              1011.3           26   \n",
       "2  197810252100             360           9              1004.1           26   \n",
       "\n",
       "  clouds  visibility  humidity  \n",
       "0    BKN        15.6      0.75  \n",
       "1    OVC         6.2      0.94  \n",
       "2    BKN         6.2      0.80  "
      ]
     },
     "execution_count": 9,
     "metadata": {},
     "output_type": "execute_result"
    }
   ],
   "source": [
    "weather.head(3)"
   ]
  },
  {
   "cell_type": "markdown",
   "id": "032808c4-7223-4ba3-ae23-facd2d0f3fcb",
   "metadata": {},
   "source": [
    "Dummy-code `clouds` column:"
   ]
  },
  {
   "cell_type": "code",
   "execution_count": 10,
   "id": "608fea9b-9d65-455d-9712-1a89c555049f",
   "metadata": {},
   "outputs": [],
   "source": [
    "weather = pd.get_dummies(data=weather,prefix='cloud',columns=['clouds'])"
   ]
  },
  {
   "cell_type": "code",
   "execution_count": 12,
   "id": "9d51f1b5",
   "metadata": {},
   "outputs": [],
   "source": [
    "weather.drop(labels='cloud_***',axis=1,inplace=True)"
   ]
  },
  {
   "cell_type": "code",
   "execution_count": 13,
   "id": "74e3c336",
   "metadata": {},
   "outputs": [
    {
     "data": {
      "text/html": [
       "<div>\n",
       "<style scoped>\n",
       "    .dataframe tbody tr th:only-of-type {\n",
       "        vertical-align: middle;\n",
       "    }\n",
       "\n",
       "    .dataframe tbody tr th {\n",
       "        vertical-align: top;\n",
       "    }\n",
       "\n",
       "    .dataframe thead th {\n",
       "        text-align: right;\n",
       "    }\n",
       "</style>\n",
       "<table border=\"1\" class=\"dataframe\">\n",
       "  <thead>\n",
       "    <tr style=\"text-align: right;\">\n",
       "      <th></th>\n",
       "      <th>datetime</th>\n",
       "      <th>wind_direction</th>\n",
       "      <th>wind_speed</th>\n",
       "      <th>sea_level_pressure</th>\n",
       "      <th>temperature</th>\n",
       "      <th>visibility</th>\n",
       "      <th>humidity</th>\n",
       "      <th>cloud_BKN</th>\n",
       "      <th>cloud_CLR</th>\n",
       "      <th>cloud_OBS</th>\n",
       "      <th>cloud_OVC</th>\n",
       "      <th>cloud_SCT</th>\n",
       "    </tr>\n",
       "  </thead>\n",
       "  <tbody>\n",
       "    <tr>\n",
       "      <th>0</th>\n",
       "      <td>197809140300</td>\n",
       "      <td>160</td>\n",
       "      <td>2</td>\n",
       "      <td>1007.7</td>\n",
       "      <td>30</td>\n",
       "      <td>15.6</td>\n",
       "      <td>0.75</td>\n",
       "      <td>1</td>\n",
       "      <td>0</td>\n",
       "      <td>0</td>\n",
       "      <td>0</td>\n",
       "      <td>0</td>\n",
       "    </tr>\n",
       "    <tr>\n",
       "      <th>1</th>\n",
       "      <td>197810021500</td>\n",
       "      <td>0</td>\n",
       "      <td>0</td>\n",
       "      <td>1011.3</td>\n",
       "      <td>26</td>\n",
       "      <td>6.2</td>\n",
       "      <td>0.94</td>\n",
       "      <td>0</td>\n",
       "      <td>0</td>\n",
       "      <td>0</td>\n",
       "      <td>1</td>\n",
       "      <td>0</td>\n",
       "    </tr>\n",
       "    <tr>\n",
       "      <th>2</th>\n",
       "      <td>197810252100</td>\n",
       "      <td>360</td>\n",
       "      <td>9</td>\n",
       "      <td>1004.1</td>\n",
       "      <td>26</td>\n",
       "      <td>6.2</td>\n",
       "      <td>0.80</td>\n",
       "      <td>1</td>\n",
       "      <td>0</td>\n",
       "      <td>0</td>\n",
       "      <td>0</td>\n",
       "      <td>0</td>\n",
       "    </tr>\n",
       "    <tr>\n",
       "      <th>3</th>\n",
       "      <td>197810260000</td>\n",
       "      <td>360</td>\n",
       "      <td>21</td>\n",
       "      <td>1006.3</td>\n",
       "      <td>26</td>\n",
       "      <td>6.2</td>\n",
       "      <td>0.80</td>\n",
       "      <td>0</td>\n",
       "      <td>0</td>\n",
       "      <td>0</td>\n",
       "      <td>1</td>\n",
       "      <td>0</td>\n",
       "    </tr>\n",
       "    <tr>\n",
       "      <th>4</th>\n",
       "      <td>197811131500</td>\n",
       "      <td>0</td>\n",
       "      <td>0</td>\n",
       "      <td>1010.1</td>\n",
       "      <td>26</td>\n",
       "      <td>11.2</td>\n",
       "      <td>0.88</td>\n",
       "      <td>1</td>\n",
       "      <td>0</td>\n",
       "      <td>0</td>\n",
       "      <td>0</td>\n",
       "      <td>0</td>\n",
       "    </tr>\n",
       "    <tr>\n",
       "      <th>...</th>\n",
       "      <td>...</td>\n",
       "      <td>...</td>\n",
       "      <td>...</td>\n",
       "      <td>...</td>\n",
       "      <td>...</td>\n",
       "      <td>...</td>\n",
       "      <td>...</td>\n",
       "      <td>...</td>\n",
       "      <td>...</td>\n",
       "      <td>...</td>\n",
       "      <td>...</td>\n",
       "      <td>...</td>\n",
       "    </tr>\n",
       "    <tr>\n",
       "      <th>90560</th>\n",
       "      <td>201809010900</td>\n",
       "      <td>0</td>\n",
       "      <td>0</td>\n",
       "      <td>1007.0</td>\n",
       "      <td>28</td>\n",
       "      <td>7.5</td>\n",
       "      <td>0.80</td>\n",
       "      <td>1</td>\n",
       "      <td>0</td>\n",
       "      <td>0</td>\n",
       "      <td>0</td>\n",
       "      <td>0</td>\n",
       "    </tr>\n",
       "    <tr>\n",
       "      <th>90561</th>\n",
       "      <td>201809011200</td>\n",
       "      <td>70</td>\n",
       "      <td>4</td>\n",
       "      <td>1008.1</td>\n",
       "      <td>28</td>\n",
       "      <td>7.5</td>\n",
       "      <td>0.86</td>\n",
       "      <td>1</td>\n",
       "      <td>0</td>\n",
       "      <td>0</td>\n",
       "      <td>0</td>\n",
       "      <td>0</td>\n",
       "    </tr>\n",
       "    <tr>\n",
       "      <th>90562</th>\n",
       "      <td>201809011500</td>\n",
       "      <td>70</td>\n",
       "      <td>4</td>\n",
       "      <td>1008.9</td>\n",
       "      <td>27</td>\n",
       "      <td>7.5</td>\n",
       "      <td>0.80</td>\n",
       "      <td>1</td>\n",
       "      <td>0</td>\n",
       "      <td>0</td>\n",
       "      <td>0</td>\n",
       "      <td>0</td>\n",
       "    </tr>\n",
       "    <tr>\n",
       "      <th>90563</th>\n",
       "      <td>201809011800</td>\n",
       "      <td>340</td>\n",
       "      <td>7</td>\n",
       "      <td>1007.9</td>\n",
       "      <td>27</td>\n",
       "      <td>7.5</td>\n",
       "      <td>0.77</td>\n",
       "      <td>1</td>\n",
       "      <td>0</td>\n",
       "      <td>0</td>\n",
       "      <td>0</td>\n",
       "      <td>0</td>\n",
       "    </tr>\n",
       "    <tr>\n",
       "      <th>90564</th>\n",
       "      <td>201809012100</td>\n",
       "      <td>40</td>\n",
       "      <td>4</td>\n",
       "      <td>1007.1</td>\n",
       "      <td>26</td>\n",
       "      <td>7.5</td>\n",
       "      <td>0.80</td>\n",
       "      <td>1</td>\n",
       "      <td>0</td>\n",
       "      <td>0</td>\n",
       "      <td>0</td>\n",
       "      <td>0</td>\n",
       "    </tr>\n",
       "  </tbody>\n",
       "</table>\n",
       "<p>90565 rows × 12 columns</p>\n",
       "</div>"
      ],
      "text/plain": [
       "           datetime  wind_direction  wind_speed  sea_level_pressure  \\\n",
       "0      197809140300             160           2              1007.7   \n",
       "1      197810021500               0           0              1011.3   \n",
       "2      197810252100             360           9              1004.1   \n",
       "3      197810260000             360          21              1006.3   \n",
       "4      197811131500               0           0              1010.1   \n",
       "...             ...             ...         ...                 ...   \n",
       "90560  201809010900               0           0              1007.0   \n",
       "90561  201809011200              70           4              1008.1   \n",
       "90562  201809011500              70           4              1008.9   \n",
       "90563  201809011800             340           7              1007.9   \n",
       "90564  201809012100              40           4              1007.1   \n",
       "\n",
       "       temperature  visibility  humidity  cloud_BKN  cloud_CLR  cloud_OBS  \\\n",
       "0               30        15.6      0.75          1          0          0   \n",
       "1               26         6.2      0.94          0          0          0   \n",
       "2               26         6.2      0.80          1          0          0   \n",
       "3               26         6.2      0.80          0          0          0   \n",
       "4               26        11.2      0.88          1          0          0   \n",
       "...            ...         ...       ...        ...        ...        ...   \n",
       "90560           28         7.5      0.80          1          0          0   \n",
       "90561           28         7.5      0.86          1          0          0   \n",
       "90562           27         7.5      0.80          1          0          0   \n",
       "90563           27         7.5      0.77          1          0          0   \n",
       "90564           26         7.5      0.80          1          0          0   \n",
       "\n",
       "       cloud_OVC  cloud_SCT  \n",
       "0              0          0  \n",
       "1              1          0  \n",
       "2              0          0  \n",
       "3              1          0  \n",
       "4              0          0  \n",
       "...          ...        ...  \n",
       "90560          0          0  \n",
       "90561          0          0  \n",
       "90562          0          0  \n",
       "90563          0          0  \n",
       "90564          0          0  \n",
       "\n",
       "[90565 rows x 12 columns]"
      ]
     },
     "execution_count": 13,
     "metadata": {},
     "output_type": "execute_result"
    }
   ],
   "source": [
    "weather"
   ]
  },
  {
   "cell_type": "markdown",
   "id": "f419d216-f40f-4296-afc3-310514e848c4",
   "metadata": {},
   "source": [
    "The month in which the data was recorded might provide information about the target variable."
   ]
  },
  {
   "cell_type": "code",
   "execution_count": 14,
   "id": "0cd71a70-d6c6-4690-97ac-c9f9ad2a9851",
   "metadata": {},
   "outputs": [],
   "source": [
    "# Extract month from `datetime`\n",
    "# First, convert `datetime` to string from int\n",
    "weather['datetime'] = list(map(str,weather['datetime']))"
   ]
  },
  {
   "cell_type": "code",
   "execution_count": 15,
   "id": "b7fdb28f-e745-4694-92f4-f967de46ecc2",
   "metadata": {},
   "outputs": [],
   "source": [
    "# Create month column and convert to integer\n",
    "weather['month'] = list(map(lambda x: int(x[4:6]), weather['datetime']))"
   ]
  },
  {
   "cell_type": "code",
   "execution_count": 16,
   "id": "52610139-ae93-4ee5-8162-0d2178370dca",
   "metadata": {},
   "outputs": [],
   "source": [
    "# Now the `datetime` column can be deleted\n",
    "weather.drop('datetime',axis=1,inplace=True)"
   ]
  },
  {
   "cell_type": "code",
   "execution_count": 17,
   "id": "0ce2c526-7776-41bc-bfcb-c265ff98a9ec",
   "metadata": {},
   "outputs": [
    {
     "data": {
      "text/html": [
       "<div>\n",
       "<style scoped>\n",
       "    .dataframe tbody tr th:only-of-type {\n",
       "        vertical-align: middle;\n",
       "    }\n",
       "\n",
       "    .dataframe tbody tr th {\n",
       "        vertical-align: top;\n",
       "    }\n",
       "\n",
       "    .dataframe thead th {\n",
       "        text-align: right;\n",
       "    }\n",
       "</style>\n",
       "<table border=\"1\" class=\"dataframe\">\n",
       "  <thead>\n",
       "    <tr style=\"text-align: right;\">\n",
       "      <th></th>\n",
       "      <th>wind_direction</th>\n",
       "      <th>wind_speed</th>\n",
       "      <th>sea_level_pressure</th>\n",
       "      <th>temperature</th>\n",
       "      <th>visibility</th>\n",
       "      <th>humidity</th>\n",
       "      <th>cloud_BKN</th>\n",
       "      <th>cloud_CLR</th>\n",
       "      <th>cloud_OBS</th>\n",
       "      <th>cloud_OVC</th>\n",
       "      <th>cloud_SCT</th>\n",
       "      <th>month</th>\n",
       "    </tr>\n",
       "  </thead>\n",
       "  <tbody>\n",
       "    <tr>\n",
       "      <th>0</th>\n",
       "      <td>160</td>\n",
       "      <td>2</td>\n",
       "      <td>1007.7</td>\n",
       "      <td>30</td>\n",
       "      <td>15.6</td>\n",
       "      <td>0.75</td>\n",
       "      <td>1</td>\n",
       "      <td>0</td>\n",
       "      <td>0</td>\n",
       "      <td>0</td>\n",
       "      <td>0</td>\n",
       "      <td>9</td>\n",
       "    </tr>\n",
       "    <tr>\n",
       "      <th>1</th>\n",
       "      <td>0</td>\n",
       "      <td>0</td>\n",
       "      <td>1011.3</td>\n",
       "      <td>26</td>\n",
       "      <td>6.2</td>\n",
       "      <td>0.94</td>\n",
       "      <td>0</td>\n",
       "      <td>0</td>\n",
       "      <td>0</td>\n",
       "      <td>1</td>\n",
       "      <td>0</td>\n",
       "      <td>10</td>\n",
       "    </tr>\n",
       "    <tr>\n",
       "      <th>2</th>\n",
       "      <td>360</td>\n",
       "      <td>9</td>\n",
       "      <td>1004.1</td>\n",
       "      <td>26</td>\n",
       "      <td>6.2</td>\n",
       "      <td>0.80</td>\n",
       "      <td>1</td>\n",
       "      <td>0</td>\n",
       "      <td>0</td>\n",
       "      <td>0</td>\n",
       "      <td>0</td>\n",
       "      <td>10</td>\n",
       "    </tr>\n",
       "  </tbody>\n",
       "</table>\n",
       "</div>"
      ],
      "text/plain": [
       "   wind_direction  wind_speed  sea_level_pressure  temperature  visibility  \\\n",
       "0             160           2              1007.7           30        15.6   \n",
       "1               0           0              1011.3           26         6.2   \n",
       "2             360           9              1004.1           26         6.2   \n",
       "\n",
       "   humidity  cloud_BKN  cloud_CLR  cloud_OBS  cloud_OVC  cloud_SCT  month  \n",
       "0      0.75          1          0          0          0          0      9  \n",
       "1      0.94          0          0          0          1          0     10  \n",
       "2      0.80          1          0          0          0          0     10  "
      ]
     },
     "execution_count": 17,
     "metadata": {},
     "output_type": "execute_result"
    }
   ],
   "source": [
    "weather.head(3)"
   ]
  },
  {
   "cell_type": "code",
   "execution_count": 18,
   "id": "e71de834",
   "metadata": {},
   "outputs": [],
   "source": [
    "weather = pd.get_dummies(data=weather,prefix='month',columns=['month'])"
   ]
  },
  {
   "cell_type": "code",
   "execution_count": 21,
   "id": "18a1dbf9",
   "metadata": {},
   "outputs": [
    {
     "data": {
      "text/plain": [
       "Index(['wind_direction', 'wind_speed', 'sea_level_pressure', 'temperature',\n",
       "       'visibility', 'humidity', 'cloud_BKN', 'cloud_CLR', 'cloud_OBS',\n",
       "       'cloud_OVC', 'cloud_SCT', 'month_1', 'month_2', 'month_3', 'month_4',\n",
       "       'month_5', 'month_6', 'month_7', 'month_8', 'month_9', 'month_10',\n",
       "       'month_11', 'month_12'],\n",
       "      dtype='object')"
      ]
     },
     "execution_count": 21,
     "metadata": {},
     "output_type": "execute_result"
    }
   ],
   "source": [
    "weather.columns"
   ]
  },
  {
   "cell_type": "markdown",
   "id": "0f0d0276-27d7-4308-8df4-21ba0c8fc7e5",
   "metadata": {},
   "source": [
    "Let's start creating the model."
   ]
  },
  {
   "cell_type": "code",
   "execution_count": 22,
   "id": "9b99e3d0-eeb5-492f-ab1f-3089f110b094",
   "metadata": {},
   "outputs": [],
   "source": [
    "# extract the predictors from the dataset\n",
    "from sklearn.linear_model import LinearRegression\n",
    "\n",
    "X = weather.drop(\"temperature\", axis=1)"
   ]
  },
  {
   "cell_type": "code",
   "execution_count": 62,
   "id": "54f17dcd",
   "metadata": {},
   "outputs": [
    {
     "data": {
      "text/html": [
       "<div>\n",
       "<style scoped>\n",
       "    .dataframe tbody tr th:only-of-type {\n",
       "        vertical-align: middle;\n",
       "    }\n",
       "\n",
       "    .dataframe tbody tr th {\n",
       "        vertical-align: top;\n",
       "    }\n",
       "\n",
       "    .dataframe thead th {\n",
       "        text-align: right;\n",
       "    }\n",
       "</style>\n",
       "<table border=\"1\" class=\"dataframe\">\n",
       "  <thead>\n",
       "    <tr style=\"text-align: right;\">\n",
       "      <th></th>\n",
       "      <th>wind_direction</th>\n",
       "      <th>wind_speed</th>\n",
       "      <th>sea_level_pressure</th>\n",
       "      <th>visibility</th>\n",
       "      <th>humidity</th>\n",
       "      <th>cloud_BKN</th>\n",
       "      <th>cloud_CLR</th>\n",
       "      <th>cloud_OBS</th>\n",
       "      <th>cloud_OVC</th>\n",
       "      <th>cloud_SCT</th>\n",
       "      <th>...</th>\n",
       "      <th>month_3</th>\n",
       "      <th>month_4</th>\n",
       "      <th>month_5</th>\n",
       "      <th>month_6</th>\n",
       "      <th>month_7</th>\n",
       "      <th>month_8</th>\n",
       "      <th>month_9</th>\n",
       "      <th>month_10</th>\n",
       "      <th>month_11</th>\n",
       "      <th>month_12</th>\n",
       "    </tr>\n",
       "  </thead>\n",
       "  <tbody>\n",
       "    <tr>\n",
       "      <th>0</th>\n",
       "      <td>160</td>\n",
       "      <td>2</td>\n",
       "      <td>1007.7</td>\n",
       "      <td>15.6</td>\n",
       "      <td>0.75</td>\n",
       "      <td>1</td>\n",
       "      <td>0</td>\n",
       "      <td>0</td>\n",
       "      <td>0</td>\n",
       "      <td>0</td>\n",
       "      <td>...</td>\n",
       "      <td>0</td>\n",
       "      <td>0</td>\n",
       "      <td>0</td>\n",
       "      <td>0</td>\n",
       "      <td>0</td>\n",
       "      <td>0</td>\n",
       "      <td>1</td>\n",
       "      <td>0</td>\n",
       "      <td>0</td>\n",
       "      <td>0</td>\n",
       "    </tr>\n",
       "    <tr>\n",
       "      <th>1</th>\n",
       "      <td>0</td>\n",
       "      <td>0</td>\n",
       "      <td>1011.3</td>\n",
       "      <td>6.2</td>\n",
       "      <td>0.94</td>\n",
       "      <td>0</td>\n",
       "      <td>0</td>\n",
       "      <td>0</td>\n",
       "      <td>1</td>\n",
       "      <td>0</td>\n",
       "      <td>...</td>\n",
       "      <td>0</td>\n",
       "      <td>0</td>\n",
       "      <td>0</td>\n",
       "      <td>0</td>\n",
       "      <td>0</td>\n",
       "      <td>0</td>\n",
       "      <td>0</td>\n",
       "      <td>1</td>\n",
       "      <td>0</td>\n",
       "      <td>0</td>\n",
       "    </tr>\n",
       "    <tr>\n",
       "      <th>2</th>\n",
       "      <td>360</td>\n",
       "      <td>9</td>\n",
       "      <td>1004.1</td>\n",
       "      <td>6.2</td>\n",
       "      <td>0.80</td>\n",
       "      <td>1</td>\n",
       "      <td>0</td>\n",
       "      <td>0</td>\n",
       "      <td>0</td>\n",
       "      <td>0</td>\n",
       "      <td>...</td>\n",
       "      <td>0</td>\n",
       "      <td>0</td>\n",
       "      <td>0</td>\n",
       "      <td>0</td>\n",
       "      <td>0</td>\n",
       "      <td>0</td>\n",
       "      <td>0</td>\n",
       "      <td>1</td>\n",
       "      <td>0</td>\n",
       "      <td>0</td>\n",
       "    </tr>\n",
       "    <tr>\n",
       "      <th>3</th>\n",
       "      <td>360</td>\n",
       "      <td>21</td>\n",
       "      <td>1006.3</td>\n",
       "      <td>6.2</td>\n",
       "      <td>0.80</td>\n",
       "      <td>0</td>\n",
       "      <td>0</td>\n",
       "      <td>0</td>\n",
       "      <td>1</td>\n",
       "      <td>0</td>\n",
       "      <td>...</td>\n",
       "      <td>0</td>\n",
       "      <td>0</td>\n",
       "      <td>0</td>\n",
       "      <td>0</td>\n",
       "      <td>0</td>\n",
       "      <td>0</td>\n",
       "      <td>0</td>\n",
       "      <td>1</td>\n",
       "      <td>0</td>\n",
       "      <td>0</td>\n",
       "    </tr>\n",
       "    <tr>\n",
       "      <th>4</th>\n",
       "      <td>0</td>\n",
       "      <td>0</td>\n",
       "      <td>1010.1</td>\n",
       "      <td>11.2</td>\n",
       "      <td>0.88</td>\n",
       "      <td>1</td>\n",
       "      <td>0</td>\n",
       "      <td>0</td>\n",
       "      <td>0</td>\n",
       "      <td>0</td>\n",
       "      <td>...</td>\n",
       "      <td>0</td>\n",
       "      <td>0</td>\n",
       "      <td>0</td>\n",
       "      <td>0</td>\n",
       "      <td>0</td>\n",
       "      <td>0</td>\n",
       "      <td>0</td>\n",
       "      <td>0</td>\n",
       "      <td>1</td>\n",
       "      <td>0</td>\n",
       "    </tr>\n",
       "  </tbody>\n",
       "</table>\n",
       "<p>5 rows × 22 columns</p>\n",
       "</div>"
      ],
      "text/plain": [
       "   wind_direction  wind_speed  sea_level_pressure  visibility  humidity  \\\n",
       "0             160           2              1007.7        15.6      0.75   \n",
       "1               0           0              1011.3         6.2      0.94   \n",
       "2             360           9              1004.1         6.2      0.80   \n",
       "3             360          21              1006.3         6.2      0.80   \n",
       "4               0           0              1010.1        11.2      0.88   \n",
       "\n",
       "   cloud_BKN  cloud_CLR  cloud_OBS  cloud_OVC  cloud_SCT  ...  month_3  \\\n",
       "0          1          0          0          0          0  ...        0   \n",
       "1          0          0          0          1          0  ...        0   \n",
       "2          1          0          0          0          0  ...        0   \n",
       "3          0          0          0          1          0  ...        0   \n",
       "4          1          0          0          0          0  ...        0   \n",
       "\n",
       "   month_4  month_5  month_6  month_7  month_8  month_9  month_10  month_11  \\\n",
       "0        0        0        0        0        0        1         0         0   \n",
       "1        0        0        0        0        0        0         1         0   \n",
       "2        0        0        0        0        0        0         1         0   \n",
       "3        0        0        0        0        0        0         1         0   \n",
       "4        0        0        0        0        0        0         0         1   \n",
       "\n",
       "   month_12  \n",
       "0         0  \n",
       "1         0  \n",
       "2         0  \n",
       "3         0  \n",
       "4         0  \n",
       "\n",
       "[5 rows x 22 columns]"
      ]
     },
     "execution_count": 62,
     "metadata": {},
     "output_type": "execute_result"
    }
   ],
   "source": [
    "X.head()"
   ]
  },
  {
   "cell_type": "code",
   "execution_count": 23,
   "id": "3e577b35-85ca-42bd-9f26-63d6c26d44ea",
   "metadata": {},
   "outputs": [
    {
     "data": {
      "text/plain": [
       "LinearRegression()"
      ]
     },
     "execution_count": 23,
     "metadata": {},
     "output_type": "execute_result"
    }
   ],
   "source": [
    "linear_model = LinearRegression()\n",
    "linear_model.fit(X, weather[\"temperature\"])"
   ]
  },
  {
   "cell_type": "markdown",
   "id": "e0de1301-0f81-4677-9542-a5923398fd47",
   "metadata": {},
   "source": [
    "**Columns beta coefficients:**"
   ]
  },
  {
   "cell_type": "code",
   "execution_count": 24,
   "id": "2b89e5e8-803d-4649-9533-650831080e0c",
   "metadata": {},
   "outputs": [
    {
     "data": {
      "text/html": [
       "<div>\n",
       "<style scoped>\n",
       "    .dataframe tbody tr th:only-of-type {\n",
       "        vertical-align: middle;\n",
       "    }\n",
       "\n",
       "    .dataframe tbody tr th {\n",
       "        vertical-align: top;\n",
       "    }\n",
       "\n",
       "    .dataframe thead th {\n",
       "        text-align: right;\n",
       "    }\n",
       "</style>\n",
       "<table border=\"1\" class=\"dataframe\">\n",
       "  <thead>\n",
       "    <tr style=\"text-align: right;\">\n",
       "      <th></th>\n",
       "      <th>0</th>\n",
       "      <th>1</th>\n",
       "    </tr>\n",
       "  </thead>\n",
       "  <tbody>\n",
       "    <tr>\n",
       "      <th>14</th>\n",
       "      <td>month_5</td>\n",
       "      <td>1.225291</td>\n",
       "    </tr>\n",
       "    <tr>\n",
       "      <th>15</th>\n",
       "      <td>month_6</td>\n",
       "      <td>1.219406</td>\n",
       "    </tr>\n",
       "    <tr>\n",
       "      <th>16</th>\n",
       "      <td>month_7</td>\n",
       "      <td>0.851420</td>\n",
       "    </tr>\n",
       "    <tr>\n",
       "      <th>18</th>\n",
       "      <td>month_9</td>\n",
       "      <td>0.780854</td>\n",
       "    </tr>\n",
       "    <tr>\n",
       "      <th>17</th>\n",
       "      <td>month_8</td>\n",
       "      <td>0.760002</td>\n",
       "    </tr>\n",
       "    <tr>\n",
       "      <th>19</th>\n",
       "      <td>month_10</td>\n",
       "      <td>0.468927</td>\n",
       "    </tr>\n",
       "    <tr>\n",
       "      <th>13</th>\n",
       "      <td>month_4</td>\n",
       "      <td>0.332598</td>\n",
       "    </tr>\n",
       "    <tr>\n",
       "      <th>3</th>\n",
       "      <td>visibility</td>\n",
       "      <td>0.090244</td>\n",
       "    </tr>\n",
       "    <tr>\n",
       "      <th>1</th>\n",
       "      <td>wind_speed</td>\n",
       "      <td>0.047437</td>\n",
       "    </tr>\n",
       "    <tr>\n",
       "      <th>0</th>\n",
       "      <td>wind_direction</td>\n",
       "      <td>0.001642</td>\n",
       "    </tr>\n",
       "    <tr>\n",
       "      <th>2</th>\n",
       "      <td>sea_level_pressure</td>\n",
       "      <td>0.000165</td>\n",
       "    </tr>\n",
       "    <tr>\n",
       "      <th>20</th>\n",
       "      <td>month_11</td>\n",
       "      <td>-0.079903</td>\n",
       "    </tr>\n",
       "    <tr>\n",
       "      <th>5</th>\n",
       "      <td>cloud_BKN</td>\n",
       "      <td>-0.211769</td>\n",
       "    </tr>\n",
       "    <tr>\n",
       "      <th>8</th>\n",
       "      <td>cloud_OVC</td>\n",
       "      <td>-0.320734</td>\n",
       "    </tr>\n",
       "    <tr>\n",
       "      <th>7</th>\n",
       "      <td>cloud_OBS</td>\n",
       "      <td>-0.497516</td>\n",
       "    </tr>\n",
       "    <tr>\n",
       "      <th>9</th>\n",
       "      <td>cloud_SCT</td>\n",
       "      <td>-0.503592</td>\n",
       "    </tr>\n",
       "    <tr>\n",
       "      <th>12</th>\n",
       "      <td>month_3</td>\n",
       "      <td>-0.938217</td>\n",
       "    </tr>\n",
       "    <tr>\n",
       "      <th>21</th>\n",
       "      <td>month_12</td>\n",
       "      <td>-1.113940</td>\n",
       "    </tr>\n",
       "    <tr>\n",
       "      <th>11</th>\n",
       "      <td>month_2</td>\n",
       "      <td>-1.681604</td>\n",
       "    </tr>\n",
       "    <tr>\n",
       "      <th>10</th>\n",
       "      <td>month_1</td>\n",
       "      <td>-1.824833</td>\n",
       "    </tr>\n",
       "    <tr>\n",
       "      <th>6</th>\n",
       "      <td>cloud_CLR</td>\n",
       "      <td>-2.003735</td>\n",
       "    </tr>\n",
       "    <tr>\n",
       "      <th>4</th>\n",
       "      <td>humidity</td>\n",
       "      <td>-13.050993</td>\n",
       "    </tr>\n",
       "  </tbody>\n",
       "</table>\n",
       "</div>"
      ],
      "text/plain": [
       "                     0          1\n",
       "14             month_5   1.225291\n",
       "15             month_6   1.219406\n",
       "16             month_7   0.851420\n",
       "18             month_9   0.780854\n",
       "17             month_8   0.760002\n",
       "19            month_10   0.468927\n",
       "13             month_4   0.332598\n",
       "3           visibility   0.090244\n",
       "1           wind_speed   0.047437\n",
       "0       wind_direction   0.001642\n",
       "2   sea_level_pressure   0.000165\n",
       "20            month_11  -0.079903\n",
       "5            cloud_BKN  -0.211769\n",
       "8            cloud_OVC  -0.320734\n",
       "7            cloud_OBS  -0.497516\n",
       "9            cloud_SCT  -0.503592\n",
       "12             month_3  -0.938217\n",
       "21            month_12  -1.113940\n",
       "11             month_2  -1.681604\n",
       "10             month_1  -1.824833\n",
       "6            cloud_CLR  -2.003735\n",
       "4             humidity -13.050993"
      ]
     },
     "execution_count": 24,
     "metadata": {},
     "output_type": "execute_result"
    }
   ],
   "source": [
    "pd.DataFrame(list(zip(X.columns, linear_model.coef_))).sort_values(1, ascending=False)"
   ]
  },
  {
   "cell_type": "markdown",
   "id": "6c6355a3-b29e-4276-be26-1a8fd614721a",
   "metadata": {},
   "source": [
    "# 4. Show the relationship between the variable with the highest beta coefficient and temperature (Use a plot)."
   ]
  },
  {
   "cell_type": "code",
   "execution_count": 52,
   "id": "592d5bc5-fbb6-4cff-9c2c-b28b8e991fcb",
   "metadata": {},
   "outputs": [
    {
     "data": {
      "text/plain": [
       "<AxesSubplot:xlabel='humidity', ylabel='temperature'>"
      ]
     },
     "execution_count": 52,
     "metadata": {},
     "output_type": "execute_result"
    },
    {
     "data": {
      "image/png": "[encoded data removed]",
      "text/plain": [
       "<Figure size 576x576 with 1 Axes>"
      ]
     },
     "metadata": {},
     "output_type": "display_data"
    }
   ],
   "source": [
    "plt.figure(figsize=(8,8))\n",
    "\n",
    "plt.style.use('ggplot')\n",
    "\n",
    "sns.regplot(x='humidity',y='temperature',data=weather,color='blue')"
   ]
  },
  {
   "cell_type": "markdown",
   "id": "bbbecddf-6fd5-4ff4-b261-7f2950cf69e2",
   "metadata": {},
   "source": [
    "> Humidity is negatively correlated with temperature."
   ]
  },
  {
   "cell_type": "markdown",
   "id": "d61099b9-44d7-4b1d-a795-e540fc3bb6ca",
   "metadata": {
    "tags": []
   },
   "source": [
    "# 5. Solve for the Mean Squared Error of your predicted temperature against the actual temperature."
   ]
  },
  {
   "cell_type": "code",
   "execution_count": 53,
   "id": "2367aeb9-8af8-4a81-afa1-fc88a4aeae6e",
   "metadata": {},
   "outputs": [],
   "source": [
    "predictions = linear_model.predict(X)"
   ]
  },
  {
   "cell_type": "code",
   "execution_count": 54,
   "id": "e3722b5d-b0b0-44e3-ae43-5ed2ba36fe0d",
   "metadata": {},
   "outputs": [
    {
     "data": {
      "text/html": [
       "<div>\n",
       "<style scoped>\n",
       "    .dataframe tbody tr th:only-of-type {\n",
       "        vertical-align: middle;\n",
       "    }\n",
       "\n",
       "    .dataframe tbody tr th {\n",
       "        vertical-align: top;\n",
       "    }\n",
       "\n",
       "    .dataframe thead th {\n",
       "        text-align: right;\n",
       "    }\n",
       "</style>\n",
       "<table border=\"1\" class=\"dataframe\">\n",
       "  <thead>\n",
       "    <tr style=\"text-align: right;\">\n",
       "      <th></th>\n",
       "      <th>wind_direction</th>\n",
       "      <th>wind_speed</th>\n",
       "      <th>sea_level_pressure</th>\n",
       "      <th>temperature</th>\n",
       "      <th>visibility</th>\n",
       "      <th>humidity</th>\n",
       "      <th>cloud_BKN</th>\n",
       "      <th>cloud_CLR</th>\n",
       "      <th>cloud_OBS</th>\n",
       "      <th>cloud_OVC</th>\n",
       "      <th>...</th>\n",
       "      <th>month_4</th>\n",
       "      <th>month_5</th>\n",
       "      <th>month_6</th>\n",
       "      <th>month_7</th>\n",
       "      <th>month_8</th>\n",
       "      <th>month_9</th>\n",
       "      <th>month_10</th>\n",
       "      <th>month_11</th>\n",
       "      <th>month_12</th>\n",
       "      <th>pred</th>\n",
       "    </tr>\n",
       "  </thead>\n",
       "  <tbody>\n",
       "    <tr>\n",
       "      <th>61191</th>\n",
       "      <td>290</td>\n",
       "      <td>4</td>\n",
       "      <td>1006.9</td>\n",
       "      <td>32</td>\n",
       "      <td>7.5</td>\n",
       "      <td>0.66</td>\n",
       "      <td>1</td>\n",
       "      <td>0</td>\n",
       "      <td>0</td>\n",
       "      <td>0</td>\n",
       "      <td>...</td>\n",
       "      <td>0</td>\n",
       "      <td>1</td>\n",
       "      <td>0</td>\n",
       "      <td>0</td>\n",
       "      <td>0</td>\n",
       "      <td>0</td>\n",
       "      <td>0</td>\n",
       "      <td>0</td>\n",
       "      <td>0</td>\n",
       "      <td>30.683499</td>\n",
       "    </tr>\n",
       "    <tr>\n",
       "      <th>6280</th>\n",
       "      <td>270</td>\n",
       "      <td>13</td>\n",
       "      <td>1005.5</td>\n",
       "      <td>31</td>\n",
       "      <td>15.6</td>\n",
       "      <td>0.69</td>\n",
       "      <td>0</td>\n",
       "      <td>0</td>\n",
       "      <td>0</td>\n",
       "      <td>0</td>\n",
       "      <td>...</td>\n",
       "      <td>0</td>\n",
       "      <td>0</td>\n",
       "      <td>0</td>\n",
       "      <td>1</td>\n",
       "      <td>0</td>\n",
       "      <td>0</td>\n",
       "      <td>0</td>\n",
       "      <td>0</td>\n",
       "      <td>0</td>\n",
       "      <td>30.751113</td>\n",
       "    </tr>\n",
       "    <tr>\n",
       "      <th>20397</th>\n",
       "      <td>110</td>\n",
       "      <td>4</td>\n",
       "      <td>1010.9</td>\n",
       "      <td>26</td>\n",
       "      <td>1.2</td>\n",
       "      <td>0.77</td>\n",
       "      <td>0</td>\n",
       "      <td>0</td>\n",
       "      <td>0</td>\n",
       "      <td>1</td>\n",
       "      <td>...</td>\n",
       "      <td>0</td>\n",
       "      <td>0</td>\n",
       "      <td>0</td>\n",
       "      <td>0</td>\n",
       "      <td>0</td>\n",
       "      <td>0</td>\n",
       "      <td>1</td>\n",
       "      <td>0</td>\n",
       "      <td>0</td>\n",
       "      <td>27.519123</td>\n",
       "    </tr>\n",
       "    <tr>\n",
       "      <th>33294</th>\n",
       "      <td>90</td>\n",
       "      <td>2</td>\n",
       "      <td>1008.9</td>\n",
       "      <td>30</td>\n",
       "      <td>3.1</td>\n",
       "      <td>0.69</td>\n",
       "      <td>0</td>\n",
       "      <td>0</td>\n",
       "      <td>0</td>\n",
       "      <td>1</td>\n",
       "      <td>...</td>\n",
       "      <td>0</td>\n",
       "      <td>0</td>\n",
       "      <td>0</td>\n",
       "      <td>0</td>\n",
       "      <td>0</td>\n",
       "      <td>0</td>\n",
       "      <td>1</td>\n",
       "      <td>0</td>\n",
       "      <td>0</td>\n",
       "      <td>28.606622</td>\n",
       "    </tr>\n",
       "    <tr>\n",
       "      <th>47199</th>\n",
       "      <td>40</td>\n",
       "      <td>18</td>\n",
       "      <td>1012.8</td>\n",
       "      <td>30</td>\n",
       "      <td>8.8</td>\n",
       "      <td>0.41</td>\n",
       "      <td>0</td>\n",
       "      <td>0</td>\n",
       "      <td>0</td>\n",
       "      <td>0</td>\n",
       "      <td>...</td>\n",
       "      <td>0</td>\n",
       "      <td>0</td>\n",
       "      <td>0</td>\n",
       "      <td>0</td>\n",
       "      <td>0</td>\n",
       "      <td>0</td>\n",
       "      <td>0</td>\n",
       "      <td>0</td>\n",
       "      <td>0</td>\n",
       "      <td>31.119438</td>\n",
       "    </tr>\n",
       "    <tr>\n",
       "      <th>6778</th>\n",
       "      <td>270</td>\n",
       "      <td>4</td>\n",
       "      <td>1008.8</td>\n",
       "      <td>28</td>\n",
       "      <td>7.5</td>\n",
       "      <td>0.83</td>\n",
       "      <td>1</td>\n",
       "      <td>0</td>\n",
       "      <td>0</td>\n",
       "      <td>0</td>\n",
       "      <td>...</td>\n",
       "      <td>0</td>\n",
       "      <td>0</td>\n",
       "      <td>0</td>\n",
       "      <td>0</td>\n",
       "      <td>0</td>\n",
       "      <td>1</td>\n",
       "      <td>0</td>\n",
       "      <td>0</td>\n",
       "      <td>0</td>\n",
       "      <td>27.987867</td>\n",
       "    </tr>\n",
       "    <tr>\n",
       "      <th>42199</th>\n",
       "      <td>40</td>\n",
       "      <td>2</td>\n",
       "      <td>1007.0</td>\n",
       "      <td>26</td>\n",
       "      <td>6.2</td>\n",
       "      <td>0.80</td>\n",
       "      <td>0</td>\n",
       "      <td>0</td>\n",
       "      <td>0</td>\n",
       "      <td>1</td>\n",
       "      <td>...</td>\n",
       "      <td>0</td>\n",
       "      <td>0</td>\n",
       "      <td>0</td>\n",
       "      <td>0</td>\n",
       "      <td>0</td>\n",
       "      <td>0</td>\n",
       "      <td>1</td>\n",
       "      <td>0</td>\n",
       "      <td>0</td>\n",
       "      <td>27.368354</td>\n",
       "    </tr>\n",
       "    <tr>\n",
       "      <th>8268</th>\n",
       "      <td>0</td>\n",
       "      <td>0</td>\n",
       "      <td>1006.8</td>\n",
       "      <td>27</td>\n",
       "      <td>6.2</td>\n",
       "      <td>0.86</td>\n",
       "      <td>0</td>\n",
       "      <td>0</td>\n",
       "      <td>0</td>\n",
       "      <td>0</td>\n",
       "      <td>...</td>\n",
       "      <td>0</td>\n",
       "      <td>1</td>\n",
       "      <td>0</td>\n",
       "      <td>0</td>\n",
       "      <td>0</td>\n",
       "      <td>0</td>\n",
       "      <td>0</td>\n",
       "      <td>0</td>\n",
       "      <td>0</td>\n",
       "      <td>26.998214</td>\n",
       "    </tr>\n",
       "    <tr>\n",
       "      <th>30510</th>\n",
       "      <td>220</td>\n",
       "      <td>13</td>\n",
       "      <td>1008.1</td>\n",
       "      <td>28</td>\n",
       "      <td>1.6</td>\n",
       "      <td>0.88</td>\n",
       "      <td>0</td>\n",
       "      <td>0</td>\n",
       "      <td>0</td>\n",
       "      <td>1</td>\n",
       "      <td>...</td>\n",
       "      <td>0</td>\n",
       "      <td>0</td>\n",
       "      <td>0</td>\n",
       "      <td>0</td>\n",
       "      <td>1</td>\n",
       "      <td>0</td>\n",
       "      <td>0</td>\n",
       "      <td>0</td>\n",
       "      <td>0</td>\n",
       "      <td>27.017780</td>\n",
       "    </tr>\n",
       "    <tr>\n",
       "      <th>50702</th>\n",
       "      <td>180</td>\n",
       "      <td>11</td>\n",
       "      <td>1006.6</td>\n",
       "      <td>27</td>\n",
       "      <td>6.2</td>\n",
       "      <td>0.91</td>\n",
       "      <td>0</td>\n",
       "      <td>0</td>\n",
       "      <td>0</td>\n",
       "      <td>1</td>\n",
       "      <td>...</td>\n",
       "      <td>0</td>\n",
       "      <td>0</td>\n",
       "      <td>1</td>\n",
       "      <td>0</td>\n",
       "      <td>0</td>\n",
       "      <td>0</td>\n",
       "      <td>0</td>\n",
       "      <td>0</td>\n",
       "      <td>0</td>\n",
       "      <td>27.339973</td>\n",
       "    </tr>\n",
       "  </tbody>\n",
       "</table>\n",
       "<p>10 rows × 24 columns</p>\n",
       "</div>"
      ],
      "text/plain": [
       "       wind_direction  wind_speed  sea_level_pressure  temperature  \\\n",
       "61191             290           4              1006.9           32   \n",
       "6280              270          13              1005.5           31   \n",
       "20397             110           4              1010.9           26   \n",
       "33294              90           2              1008.9           30   \n",
       "47199              40          18              1012.8           30   \n",
       "6778              270           4              1008.8           28   \n",
       "42199              40           2              1007.0           26   \n",
       "8268                0           0              1006.8           27   \n",
       "30510             220          13              1008.1           28   \n",
       "50702             180          11              1006.6           27   \n",
       "\n",
       "       visibility  humidity  cloud_BKN  cloud_CLR  cloud_OBS  cloud_OVC  ...  \\\n",
       "61191         7.5      0.66          1          0          0          0  ...   \n",
       "6280         15.6      0.69          0          0          0          0  ...   \n",
       "20397         1.2      0.77          0          0          0          1  ...   \n",
       "33294         3.1      0.69          0          0          0          1  ...   \n",
       "47199         8.8      0.41          0          0          0          0  ...   \n",
       "6778          7.5      0.83          1          0          0          0  ...   \n",
       "42199         6.2      0.80          0          0          0          1  ...   \n",
       "8268          6.2      0.86          0          0          0          0  ...   \n",
       "30510         1.6      0.88          0          0          0          1  ...   \n",
       "50702         6.2      0.91          0          0          0          1  ...   \n",
       "\n",
       "       month_4  month_5  month_6  month_7  month_8  month_9  month_10  \\\n",
       "61191        0        1        0        0        0        0         0   \n",
       "6280         0        0        0        1        0        0         0   \n",
       "20397        0        0        0        0        0        0         1   \n",
       "33294        0        0        0        0        0        0         1   \n",
       "47199        0        0        0        0        0        0         0   \n",
       "6778         0        0        0        0        0        1         0   \n",
       "42199        0        0        0        0        0        0         1   \n",
       "8268         0        1        0        0        0        0         0   \n",
       "30510        0        0        0        0        1        0         0   \n",
       "50702        0        0        1        0        0        0         0   \n",
       "\n",
       "       month_11  month_12       pred  \n",
       "61191         0         0  30.683499  \n",
       "6280          0         0  30.751113  \n",
       "20397         0         0  27.519123  \n",
       "33294         0         0  28.606622  \n",
       "47199         0         0  31.119438  \n",
       "6778          0         0  27.987867  \n",
       "42199         0         0  27.368354  \n",
       "8268          0         0  26.998214  \n",
       "30510         0         0  27.017780  \n",
       "50702         0         0  27.339973  \n",
       "\n",
       "[10 rows x 24 columns]"
      ]
     },
     "execution_count": 54,
     "metadata": {},
     "output_type": "execute_result"
    }
   ],
   "source": [
    "weather['pred'] = predictions\n",
    "weather.sample(10)"
   ]
  },
  {
   "cell_type": "markdown",
   "id": "a98c7296-8749-43fd-a3b0-5f9f4302fdee",
   "metadata": {},
   "source": [
    "Computing for the MSE:"
   ]
  },
  {
   "cell_type": "code",
   "execution_count": 55,
   "id": "96bec72a-8b2f-4a74-b8cc-5ef31c699ed7",
   "metadata": {},
   "outputs": [],
   "source": [
    "from sklearn import metrics"
   ]
  },
  {
   "cell_type": "code",
   "execution_count": 56,
   "id": "363fd045-875b-4ace-b755-1ebb36c3cd28",
   "metadata": {},
   "outputs": [
    {
     "name": "stdout",
     "output_type": "stream",
     "text": [
      "MSE = 1.706269838514454\n"
     ]
    }
   ],
   "source": [
    "print('MSE =', metrics.mean_squared_error(weather[\"temperature\"], weather['pred']))"
   ]
  },
  {
   "cell_type": "code",
   "execution_count": 57,
   "id": "d9176b7a-1cdd-49b9-8755-b68d8df8a7db",
   "metadata": {},
   "outputs": [
    {
     "name": "stdout",
     "output_type": "stream",
     "text": [
      "RMSE = 1.3062426415159067\n"
     ]
    }
   ],
   "source": [
    "print('RMSE =', np.sqrt(metrics.mean_squared_error(weather[\"temperature\"], weather['pred'])))"
   ]
  },
  {
   "cell_type": "markdown",
   "id": "58da04c7-17e8-4fe0-b261-6401ccda8b3e",
   "metadata": {},
   "source": [
    "# 6. Solve for the R^2 score of the linear model used to predict temperature."
   ]
  },
  {
   "cell_type": "code",
   "execution_count": 58,
   "id": "f7ec8dfe-825a-4b78-a420-6a6619f77c63",
   "metadata": {},
   "outputs": [],
   "source": [
    "from sklearn import metrics"
   ]
  },
  {
   "cell_type": "code",
   "execution_count": 59,
   "id": "0615d75e-1d31-4c00-9617-74b44a813fe0",
   "metadata": {},
   "outputs": [
    {
     "name": "stdout",
     "output_type": "stream",
     "text": [
      "R2 score:\n"
     ]
    },
    {
     "data": {
      "text/plain": [
       "0.6750011250025503"
      ]
     },
     "execution_count": 59,
     "metadata": {},
     "output_type": "execute_result"
    }
   ],
   "source": [
    "print('R2 score:')\n",
    "metrics.r2_score(weather['temperature'], weather['pred'])"
   ]
  },
  {
   "cell_type": "markdown",
   "id": "389a117c-dc05-4c60-af94-eb37a2edeca0",
   "metadata": {},
   "source": [
    "# 7. Identify if the model is a good model and why."
   ]
  },
  {
   "cell_type": "code",
   "execution_count": 60,
   "id": "b01be13a-aaf8-4607-9af6-4fb6a656763f",
   "metadata": {
    "jupyter": {
     "source_hidden": true
    },
    "tags": []
   },
   "outputs": [
    {
     "data": {
      "text/plain": [
       "Text(0.5, 1.0, 'Actual vs Predicted Temperature')"
      ]
     },
     "execution_count": 60,
     "metadata": {},
     "output_type": "execute_result"
    },
    {
     "data": {
      "image/png": "[encoded data removed]",
      "text/plain": [
       "<Figure size 576x576 with 1 Axes>"
      ]
     },
     "metadata": {},
     "output_type": "display_data"
    }
   ],
   "source": [
    "plt.figure(figsize=(8,8))\n",
    "\n",
    "\n",
    "plt.scatter(weather[\"temperature\"], linear_model.predict(X))\n",
    "plt.plot([0, 50], [0, 50], '--go')\n",
    "plt.xlabel(\"Actual Temperature: $Y_i$\")\n",
    "plt.ylabel(\"Predicted Temperature: $\\hat{Y}_i$\")\n",
    "plt.title(\"Actual vs Predicted Temperature\")"
   ]
  },
  {
   "cell_type": "markdown",
   "id": "5371e8e0-5c57-41ef-b8f9-edc319b94e3a",
   "metadata": {},
   "source": [
    "The plot above shows that the model had trouble predicting temperatures below 20°C. The histogram below shows that these temperatures are far from the mean temperature. This error in prediction is reflected by the model's `R2 score` of 0.675. It means that only 67.5% of the data fitted into the regression model."
   ]
  },
  {
   "cell_type": "code",
   "execution_count": 61,
   "id": "8b3a2c0d-3072-49e7-8e3b-09cd1ad320d5",
   "metadata": {
    "jupyter": {
     "source_hidden": true
    },
    "tags": []
   },
   "outputs": [
    {
     "data": {
      "text/plain": [
       "<matplotlib.lines.Line2D at 0x7fb428a5eac0>"
      ]
     },
     "execution_count": 61,
     "metadata": {},
     "output_type": "execute_result"
    },
    {
     "data": {
      "image/png": "[encoded data removed]",
      "text/plain": [
       "<Figure size 576x432 with 1 Axes>"
      ]
     },
     "metadata": {},
     "output_type": "display_data"
    }
   ],
   "source": [
    "fig = plt.figure(figsize=(8,6))\n",
    "\n",
    "axes = fig.add_subplot()\n",
    "axes.hist(weather[\"temperature\"], bins = 55)\n",
    "axes.set_xlabel('Temperature')\n",
    "axes.set_ylabel('Frequency')\n",
    "axes.set_title('Temperature Histogram')\n",
    "axes.axvline(x=np.mean(weather['temperature']),color='r',ls='--')"
   ]
  },
  {
   "cell_type": "markdown",
   "id": "3110df57-025c-43c0-a4f4-8ee5d36f4748",
   "metadata": {
    "tags": []
   },
   "source": [
    "The linear regression model has low `MSE = 1.71`. Taking the square root of the MSE will give the root mean squared error (RMSE) which, in this case, is equal to `1.31 °C`. RMSE is the standard deviation of the residuals (how far the actual data is from the prediction data). RMSE measures how spread apart these residuals are. It is also an intuitively easy to understand metric since it has the same unit as the target variable. A value of `1.31 °C` for RMSE is a good value.\n",
    "\n",
    "All things considered, the model still performed well in predicting the target variable, especially in terms of `MSE` and `RMSE`. The `R2 score` is also not that bad. Considering that atmospheric temperature is driven by complex and multiple factors, I'd say that the **model is good** enough."
   ]
  }
 ],
 "metadata": {
  "kernelspec": {
   "display_name": "Python 3 (ipykernel)",
   "language": "python",
   "name": "python3"
  },
  "language_info": {
   "codemirror_mode": {
    "name": "ipython",
    "version": 3
   },
   "file_extension": ".py",
   "mimetype": "text/x-python",
   "name": "python",
   "nbconvert_exporter": "python",
   "pygments_lexer": "ipython3",
   "version": "3.8.13"
  }
 },
 "nbformat": 4,
 "nbformat_minor": 5
}
