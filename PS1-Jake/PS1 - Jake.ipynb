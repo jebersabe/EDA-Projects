{
 "cells": [
  {
   "cell_type": "markdown",
   "id": "f2c89e6e-c0bd-4861-a20f-2138f4e9f23e",
   "metadata": {},
   "source": [
    "# Problem Set 1 CS129.18"
   ]
  },
  {
   "cell_type": "code",
   "execution_count": 1,
   "id": "9990e6b6-7ac5-4f71-bb0a-0d786b5849bc",
   "metadata": {},
   "outputs": [],
   "source": [
    "%matplotlib inline\n",
    "\n",
    "import numpy as np\n",
    "import pandas as pd\n",
    "import matplotlib.pyplot as plt\n",
    "import sklearn\n",
    "\n",
    "import warnings\n",
    "\n",
    "#warnings.filterwarnings(action=\"ignore\", module=\"scipy\", message=\"^internal gelsd\")"
   ]
  },
  {
   "cell_type": "markdown",
   "id": "f75b65cc-2220-4f7c-8dcb-0c72c2afe31e",
   "metadata": {},
   "source": [
    "## 1. What is the dimensionality or shape of the data?"
   ]
  },
  {
   "cell_type": "code",
   "execution_count": 2,
   "id": "90c90e8d-4513-4453-b54b-7b70f959014a",
   "metadata": {},
   "outputs": [],
   "source": [
    "weather = pd.read_csv('PH_Weather_v1.csv')"
   ]
  },
  {
   "cell_type": "code",
   "execution_count": 3,
   "id": "4915f03b-9362-4794-8bc9-1543215e2763",
   "metadata": {},
   "outputs": [
    {
     "data": {
      "text/plain": [
       "(90565, 11)"
      ]
     },
     "execution_count": 3,
     "metadata": {},
     "output_type": "execute_result"
    }
   ],
   "source": [
    "weather.shape"
   ]
  },
  {
   "cell_type": "markdown",
   "id": "b68357ec-b33a-4a7b-95e2-f79ef3d4d932",
   "metadata": {},
   "source": [
    "The data has **90565 rows** and **11 columns**."
   ]
  },
  {
   "cell_type": "markdown",
   "id": "580a562b-7650-47f7-a534-0a79b3581edc",
   "metadata": {},
   "source": [
    "## 2. What is the mean temperature for the year 2017?"
   ]
  },
  {
   "cell_type": "code",
   "execution_count": 4,
   "id": "ded5d7ef-1ea1-47e6-afbb-ce501a2d0028",
   "metadata": {},
   "outputs": [
    {
     "data": {
      "text/html": [
       "<div>\n",
       "<style scoped>\n",
       "    .dataframe tbody tr th:only-of-type {\n",
       "        vertical-align: middle;\n",
       "    }\n",
       "\n",
       "    .dataframe tbody tr th {\n",
       "        vertical-align: top;\n",
       "    }\n",
       "\n",
       "    .dataframe thead th {\n",
       "        text-align: right;\n",
       "    }\n",
       "</style>\n",
       "<table border=\"1\" class=\"dataframe\">\n",
       "  <thead>\n",
       "    <tr style=\"text-align: right;\">\n",
       "      <th></th>\n",
       "      <th>datetime</th>\n",
       "      <th>wind_direction</th>\n",
       "      <th>wind_speed</th>\n",
       "      <th>gust_speed</th>\n",
       "      <th>sea_level_pressure</th>\n",
       "      <th>temperature</th>\n",
       "      <th>altitude</th>\n",
       "      <th>precipitation</th>\n",
       "      <th>clouds</th>\n",
       "      <th>visibility</th>\n",
       "      <th>humidity</th>\n",
       "    </tr>\n",
       "  </thead>\n",
       "  <tbody>\n",
       "    <tr>\n",
       "      <th>0</th>\n",
       "      <td>197809140300</td>\n",
       "      <td>160</td>\n",
       "      <td>2</td>\n",
       "      <td>NaN</td>\n",
       "      <td>1007.7</td>\n",
       "      <td>30</td>\n",
       "      <td>NaN</td>\n",
       "      <td>NaN</td>\n",
       "      <td>BKN</td>\n",
       "      <td>15.6</td>\n",
       "      <td>0.75</td>\n",
       "    </tr>\n",
       "  </tbody>\n",
       "</table>\n",
       "</div>"
      ],
      "text/plain": [
       "       datetime  wind_direction  wind_speed  gust_speed  sea_level_pressure  \\\n",
       "0  197809140300             160           2         NaN              1007.7   \n",
       "\n",
       "   temperature  altitude  precipitation clouds  visibility  humidity  \n",
       "0           30       NaN            NaN    BKN        15.6      0.75  "
      ]
     },
     "execution_count": 4,
     "metadata": {},
     "output_type": "execute_result"
    }
   ],
   "source": [
    "weather.head(1)"
   ]
  },
  {
   "cell_type": "code",
   "execution_count": 5,
   "id": "cf8fe029-89f3-4552-8899-8dee0046ad33",
   "metadata": {},
   "outputs": [],
   "source": [
    "# Convert datetime column data type from integer to string\n",
    "weather['datetime'] = list(map(str,weather['datetime']))"
   ]
  },
  {
   "cell_type": "code",
   "execution_count": 6,
   "id": "d803ddbe-2615-4e13-8a93-fff5fd5be583",
   "metadata": {},
   "outputs": [
    {
     "name": "stdout",
     "output_type": "stream",
     "text": [
      "Mean temperature for the year 2017:\n"
     ]
    },
    {
     "data": {
      "text/plain": [
       "27.93335635359116"
      ]
     },
     "execution_count": 6,
     "metadata": {},
     "output_type": "execute_result"
    }
   ],
   "source": [
    "print('Mean temperature for the year 2017:')\n",
    "weather[weather['datetime'].str.startswith('2017')]['temperature'].mean()"
   ]
  },
  {
   "cell_type": "markdown",
   "id": "23bfb1fc-036e-4ff4-abdd-320f45c15b04",
   "metadata": {},
   "source": [
    "# 3. Solve for the beta coefficients for the columns that you can use in your dataset to predict temperature."
   ]
  },
  {
   "cell_type": "markdown",
   "id": "087c96df-8212-4b60-b74e-1dd2b8ca81ea",
   "metadata": {},
   "source": [
    "Some columns are mostly empty."
   ]
  },
  {
   "cell_type": "code",
   "execution_count": 98,
   "id": "fbe93539-95b8-46eb-9336-23215f01a001",
   "metadata": {},
   "outputs": [
    {
     "name": "stdout",
     "output_type": "stream",
     "text": [
      "<class 'pandas.core.frame.DataFrame'>\n",
      "RangeIndex: 90565 entries, 0 to 90564\n",
      "Data columns (total 11 columns):\n",
      " #   Column              Non-Null Count  Dtype  \n",
      "---  ------              --------------  -----  \n",
      " 0   datetime            90565 non-null  int64  \n",
      " 1   wind_direction      90565 non-null  int64  \n",
      " 2   wind_speed          90565 non-null  int64  \n",
      " 3   gust_speed          1 non-null      float64\n",
      " 4   sea_level_pressure  90565 non-null  float64\n",
      " 5   temperature         90565 non-null  int64  \n",
      " 6   altitude            0 non-null      float64\n",
      " 7   precipitation       13 non-null     float64\n",
      " 8   clouds              90565 non-null  object \n",
      " 9   visibility          90565 non-null  float64\n",
      " 10  humidity            90565 non-null  float64\n",
      "dtypes: float64(6), int64(4), object(1)\n",
      "memory usage: 7.6+ MB\n"
     ]
    }
   ],
   "source": [
    "weather = pd.read_csv('PH_Weather_v1.csv')\n",
    "weather.info()"
   ]
  },
  {
   "cell_type": "markdown",
   "id": "6b1d2b7a-2876-4492-b613-e6f17b992705",
   "metadata": {},
   "source": [
    "Drop those columns including `clouds` because this is a categorical data, and therefore, cannot be used for linear regression."
   ]
  },
  {
   "cell_type": "code",
   "execution_count": 7,
   "id": "dec1fa88-bcd0-47e7-9cfa-71b17289feea",
   "metadata": {},
   "outputs": [],
   "source": [
    "weather.drop(['gust_speed','altitude','precipitation'],axis=1,inplace=True)"
   ]
  },
  {
   "cell_type": "markdown",
   "id": "9ed526ce-66f5-49f5-9ed2-65ff9d4110bf",
   "metadata": {},
   "source": [
    "We are left with this dataset:"
   ]
  },
  {
   "cell_type": "code",
   "execution_count": 8,
   "id": "ff47bde9-a746-4eda-ba62-ed49d27cb7a9",
   "metadata": {},
   "outputs": [
    {
     "data": {
      "text/html": [
       "<div>\n",
       "<style scoped>\n",
       "    .dataframe tbody tr th:only-of-type {\n",
       "        vertical-align: middle;\n",
       "    }\n",
       "\n",
       "    .dataframe tbody tr th {\n",
       "        vertical-align: top;\n",
       "    }\n",
       "\n",
       "    .dataframe thead th {\n",
       "        text-align: right;\n",
       "    }\n",
       "</style>\n",
       "<table border=\"1\" class=\"dataframe\">\n",
       "  <thead>\n",
       "    <tr style=\"text-align: right;\">\n",
       "      <th></th>\n",
       "      <th>datetime</th>\n",
       "      <th>wind_direction</th>\n",
       "      <th>wind_speed</th>\n",
       "      <th>sea_level_pressure</th>\n",
       "      <th>temperature</th>\n",
       "      <th>clouds</th>\n",
       "      <th>visibility</th>\n",
       "      <th>humidity</th>\n",
       "    </tr>\n",
       "  </thead>\n",
       "  <tbody>\n",
       "    <tr>\n",
       "      <th>0</th>\n",
       "      <td>197809140300</td>\n",
       "      <td>160</td>\n",
       "      <td>2</td>\n",
       "      <td>1007.7</td>\n",
       "      <td>30</td>\n",
       "      <td>BKN</td>\n",
       "      <td>15.6</td>\n",
       "      <td>0.75</td>\n",
       "    </tr>\n",
       "    <tr>\n",
       "      <th>1</th>\n",
       "      <td>197810021500</td>\n",
       "      <td>0</td>\n",
       "      <td>0</td>\n",
       "      <td>1011.3</td>\n",
       "      <td>26</td>\n",
       "      <td>OVC</td>\n",
       "      <td>6.2</td>\n",
       "      <td>0.94</td>\n",
       "    </tr>\n",
       "    <tr>\n",
       "      <th>2</th>\n",
       "      <td>197810252100</td>\n",
       "      <td>360</td>\n",
       "      <td>9</td>\n",
       "      <td>1004.1</td>\n",
       "      <td>26</td>\n",
       "      <td>BKN</td>\n",
       "      <td>6.2</td>\n",
       "      <td>0.80</td>\n",
       "    </tr>\n",
       "  </tbody>\n",
       "</table>\n",
       "</div>"
      ],
      "text/plain": [
       "       datetime  wind_direction  wind_speed  sea_level_pressure  temperature  \\\n",
       "0  197809140300             160           2              1007.7           30   \n",
       "1  197810021500               0           0              1011.3           26   \n",
       "2  197810252100             360           9              1004.1           26   \n",
       "\n",
       "  clouds  visibility  humidity  \n",
       "0    BKN        15.6      0.75  \n",
       "1    OVC         6.2      0.94  \n",
       "2    BKN         6.2      0.80  "
      ]
     },
     "execution_count": 8,
     "metadata": {},
     "output_type": "execute_result"
    }
   ],
   "source": [
    "weather.head(3)"
   ]
  },
  {
   "cell_type": "markdown",
   "id": "f419d216-f40f-4296-afc3-310514e848c4",
   "metadata": {},
   "source": [
    "The month in which the data was recorded might provide information about the target variable."
   ]
  },
  {
   "cell_type": "code",
   "execution_count": 101,
   "id": "0cd71a70-d6c6-4690-97ac-c9f9ad2a9851",
   "metadata": {},
   "outputs": [],
   "source": [
    "# Extract month from `datetime`\n",
    "# First, convert `datetime` to string from int\n",
    "weather['datetime'] = list(map(str,weather['datetime']))"
   ]
  },
  {
   "cell_type": "code",
   "execution_count": 102,
   "id": "b7fdb28f-e745-4694-92f4-f967de46ecc2",
   "metadata": {},
   "outputs": [],
   "source": [
    "# Create month column and convert to integer\n",
    "weather['month'] = list(map(lambda x: int(x[4:6]), weather['datetime']))"
   ]
  },
  {
   "cell_type": "code",
   "execution_count": 109,
   "id": "52610139-ae93-4ee5-8162-0d2178370dca",
   "metadata": {},
   "outputs": [],
   "source": [
    "# Now the `datetime` column can be deleted\n",
    "weather.drop('datetime',axis=1,inplace=True)"
   ]
  },
  {
   "cell_type": "code",
   "execution_count": 110,
   "id": "0ce2c526-7776-41bc-bfcb-c265ff98a9ec",
   "metadata": {},
   "outputs": [
    {
     "data": {
      "text/html": [
       "<div>\n",
       "<style scoped>\n",
       "    .dataframe tbody tr th:only-of-type {\n",
       "        vertical-align: middle;\n",
       "    }\n",
       "\n",
       "    .dataframe tbody tr th {\n",
       "        vertical-align: top;\n",
       "    }\n",
       "\n",
       "    .dataframe thead th {\n",
       "        text-align: right;\n",
       "    }\n",
       "</style>\n",
       "<table border=\"1\" class=\"dataframe\">\n",
       "  <thead>\n",
       "    <tr style=\"text-align: right;\">\n",
       "      <th></th>\n",
       "      <th>wind_direction</th>\n",
       "      <th>wind_speed</th>\n",
       "      <th>sea_level_pressure</th>\n",
       "      <th>temperature</th>\n",
       "      <th>visibility</th>\n",
       "      <th>humidity</th>\n",
       "      <th>month</th>\n",
       "    </tr>\n",
       "  </thead>\n",
       "  <tbody>\n",
       "    <tr>\n",
       "      <th>0</th>\n",
       "      <td>160</td>\n",
       "      <td>2</td>\n",
       "      <td>1007.7</td>\n",
       "      <td>30</td>\n",
       "      <td>15.6</td>\n",
       "      <td>0.75</td>\n",
       "      <td>9</td>\n",
       "    </tr>\n",
       "    <tr>\n",
       "      <th>1</th>\n",
       "      <td>0</td>\n",
       "      <td>0</td>\n",
       "      <td>1011.3</td>\n",
       "      <td>26</td>\n",
       "      <td>6.2</td>\n",
       "      <td>0.94</td>\n",
       "      <td>10</td>\n",
       "    </tr>\n",
       "    <tr>\n",
       "      <th>2</th>\n",
       "      <td>360</td>\n",
       "      <td>9</td>\n",
       "      <td>1004.1</td>\n",
       "      <td>26</td>\n",
       "      <td>6.2</td>\n",
       "      <td>0.80</td>\n",
       "      <td>10</td>\n",
       "    </tr>\n",
       "  </tbody>\n",
       "</table>\n",
       "</div>"
      ],
      "text/plain": [
       "   wind_direction  wind_speed  sea_level_pressure  temperature  visibility  \\\n",
       "0             160           2              1007.7           30        15.6   \n",
       "1               0           0              1011.3           26         6.2   \n",
       "2             360           9              1004.1           26         6.2   \n",
       "\n",
       "   humidity  month  \n",
       "0      0.75      9  \n",
       "1      0.94     10  \n",
       "2      0.80     10  "
      ]
     },
     "execution_count": 110,
     "metadata": {},
     "output_type": "execute_result"
    }
   ],
   "source": [
    "weather.head(3)"
   ]
  },
  {
   "cell_type": "markdown",
   "id": "0f0d0276-27d7-4308-8df4-21ba0c8fc7e5",
   "metadata": {},
   "source": [
    "Let's start creating the model."
   ]
  },
  {
   "cell_type": "code",
   "execution_count": 112,
   "id": "9b99e3d0-eeb5-492f-ab1f-3089f110b094",
   "metadata": {},
   "outputs": [],
   "source": [
    "# extract the predictors from the dataset\n",
    "from sklearn.linear_model import LinearRegression\n",
    "\n",
    "X = weather.drop(\"temperature\", axis=1)"
   ]
  },
  {
   "cell_type": "code",
   "execution_count": 114,
   "id": "3e577b35-85ca-42bd-9f26-63d6c26d44ea",
   "metadata": {},
   "outputs": [
    {
     "data": {
      "text/plain": [
       "LinearRegression()"
      ]
     },
     "execution_count": 114,
     "metadata": {},
     "output_type": "execute_result"
    }
   ],
   "source": [
    "linear_model = LinearRegression()\n",
    "linear_model.fit(X, weather[\"temperature\"])"
   ]
  },
  {
   "cell_type": "markdown",
   "id": "e0de1301-0f81-4677-9542-a5923398fd47",
   "metadata": {},
   "source": [
    "**Columns beta coefficients:**"
   ]
  },
  {
   "cell_type": "code",
   "execution_count": 120,
   "id": "2b89e5e8-803d-4649-9533-650831080e0c",
   "metadata": {},
   "outputs": [
    {
     "data": {
      "text/html": [
       "<div>\n",
       "<style scoped>\n",
       "    .dataframe tbody tr th:only-of-type {\n",
       "        vertical-align: middle;\n",
       "    }\n",
       "\n",
       "    .dataframe tbody tr th {\n",
       "        vertical-align: top;\n",
       "    }\n",
       "\n",
       "    .dataframe thead th {\n",
       "        text-align: right;\n",
       "    }\n",
       "</style>\n",
       "<table border=\"1\" class=\"dataframe\">\n",
       "  <thead>\n",
       "    <tr style=\"text-align: right;\">\n",
       "      <th></th>\n",
       "      <th>0</th>\n",
       "      <th>1</th>\n",
       "    </tr>\n",
       "  </thead>\n",
       "  <tbody>\n",
       "    <tr>\n",
       "      <th>3</th>\n",
       "      <td>visibility</td>\n",
       "      <td>0.103515</td>\n",
       "    </tr>\n",
       "    <tr>\n",
       "      <th>5</th>\n",
       "      <td>month</td>\n",
       "      <td>0.100466</td>\n",
       "    </tr>\n",
       "    <tr>\n",
       "      <th>1</th>\n",
       "      <td>wind_speed</td>\n",
       "      <td>0.082734</td>\n",
       "    </tr>\n",
       "    <tr>\n",
       "      <th>0</th>\n",
       "      <td>wind_direction</td>\n",
       "      <td>0.001698</td>\n",
       "    </tr>\n",
       "    <tr>\n",
       "      <th>2</th>\n",
       "      <td>sea_level_pressure</td>\n",
       "      <td>-0.000039</td>\n",
       "    </tr>\n",
       "    <tr>\n",
       "      <th>4</th>\n",
       "      <td>humidity</td>\n",
       "      <td>-11.642257</td>\n",
       "    </tr>\n",
       "  </tbody>\n",
       "</table>\n",
       "</div>"
      ],
      "text/plain": [
       "                    0          1\n",
       "3          visibility   0.103515\n",
       "5               month   0.100466\n",
       "1          wind_speed   0.082734\n",
       "0      wind_direction   0.001698\n",
       "2  sea_level_pressure  -0.000039\n",
       "4            humidity -11.642257"
      ]
     },
     "execution_count": 120,
     "metadata": {},
     "output_type": "execute_result"
    }
   ],
   "source": [
    "pd.DataFrame(list(zip(X.columns, linear_model.coef_))).sort_values(1, ascending=False)"
   ]
  },
  {
   "cell_type": "markdown",
   "id": "6c6355a3-b29e-4276-be26-1a8fd614721a",
   "metadata": {},
   "source": [
    "# 4. Show the relationship between the variable with the highest beta coefficient and temperature (Use a plot)."
   ]
  },
  {
   "cell_type": "code",
   "execution_count": 179,
   "id": "395f3bac-26a0-4902-b0d5-a1c62f32c306",
   "metadata": {},
   "outputs": [
    {
     "data": {
      "text/plain": [
       "Text(0.5, 1.0, 'Visibility and Temperature')"
      ]
     },
     "execution_count": 179,
     "metadata": {},
     "output_type": "execute_result"
    },
    {
     "data": {
      "image/png": "[encoded data removed]",
      "text/plain": [
       "<Figure size 576x432 with 1 Axes>"
      ]
     },
     "metadata": {},
     "output_type": "display_data"
    }
   ],
   "source": [
    "fig = plt.figure(figsize=(8,6))\n",
    "\n",
    "axes = fig.add_axes([0,0,1,1])\n",
    "axes.scatter(weather[\"visibility\"], weather[\"temperature\"])\n",
    "axes.set_xlabel('Visibility')\n",
    "axes.set_ylabel('Temperature')\n",
    "axes.set_title('Visibility and Temperature')"
   ]
  },
  {
   "cell_type": "markdown",
   "id": "5f7c7b57-5df3-4766-a9f8-f07882eda59c",
   "metadata": {},
   "source": [
    "> There is very small positive correlation between visibility and temperature."
   ]
  },
  {
   "cell_type": "code",
   "execution_count": 209,
   "id": "592d5bc5-fbb6-4cff-9c2c-b28b8e991fcb",
   "metadata": {},
   "outputs": [
    {
     "data": {
      "text/plain": [
       "Text(0.5, 1.0, 'Humidity and Temperature')"
      ]
     },
     "execution_count": 209,
     "metadata": {},
     "output_type": "execute_result"
    },
    {
     "data": {
      "image/png": "[encoded data removed]",
      "text/plain": [
       "<Figure size 576x432 with 1 Axes>"
      ]
     },
     "metadata": {},
     "output_type": "display_data"
    }
   ],
   "source": [
    "fig = plt.figure(figsize=(8,6))\n",
    "\n",
    "axes = fig.add_subplot()\n",
    "axes.scatter(weather[\"humidity\"], weather[\"temperature\"])\n",
    "axes.set_xlabel('Humidity')\n",
    "axes.set_ylabel('Temperature')\n",
    "axes.set_title('Humidity and Temperature')"
   ]
  },
  {
   "cell_type": "code",
   "execution_count": 205,
   "id": "5da4dfc4-a390-42bb-826e-d04e769eea5f",
   "metadata": {},
   "outputs": [
    {
     "data": {
      "text/plain": [
       "27.927687296416938"
      ]
     },
     "execution_count": 205,
     "metadata": {},
     "output_type": "execute_result"
    }
   ],
   "source": [
    "np.mean(weather[\"temperature\"])"
   ]
  },
  {
   "cell_type": "markdown",
   "id": "bbbecddf-6fd5-4ff4-b261-7f2950cf69e2",
   "metadata": {},
   "source": [
    "> Humidity is negatively correlated with temperature."
   ]
  },
  {
   "cell_type": "markdown",
   "id": "d61099b9-44d7-4b1d-a795-e540fc3bb6ca",
   "metadata": {
    "tags": []
   },
   "source": [
    "# 5. Solve for the Mean Squared Error of your predicted temperature against the actual temperature."
   ]
  },
  {
   "cell_type": "code",
   "execution_count": 132,
   "id": "2367aeb9-8af8-4a81-afa1-fc88a4aeae6e",
   "metadata": {},
   "outputs": [],
   "source": [
    "predictions = linear_model.predict(X)"
   ]
  },
  {
   "cell_type": "code",
   "execution_count": 276,
   "id": "e3722b5d-b0b0-44e3-ae43-5ed2ba36fe0d",
   "metadata": {},
   "outputs": [
    {
     "data": {
      "text/html": [
       "<div>\n",
       "<style scoped>\n",
       "    .dataframe tbody tr th:only-of-type {\n",
       "        vertical-align: middle;\n",
       "    }\n",
       "\n",
       "    .dataframe tbody tr th {\n",
       "        vertical-align: top;\n",
       "    }\n",
       "\n",
       "    .dataframe thead th {\n",
       "        text-align: right;\n",
       "    }\n",
       "</style>\n",
       "<table border=\"1\" class=\"dataframe\">\n",
       "  <thead>\n",
       "    <tr style=\"text-align: right;\">\n",
       "      <th></th>\n",
       "      <th>wind_direction</th>\n",
       "      <th>wind_speed</th>\n",
       "      <th>sea_level_pressure</th>\n",
       "      <th>temperature</th>\n",
       "      <th>visibility</th>\n",
       "      <th>humidity</th>\n",
       "      <th>month</th>\n",
       "      <th>pred</th>\n",
       "    </tr>\n",
       "  </thead>\n",
       "  <tbody>\n",
       "    <tr>\n",
       "      <th>49084</th>\n",
       "      <td>90</td>\n",
       "      <td>7</td>\n",
       "      <td>1007.0</td>\n",
       "      <td>27</td>\n",
       "      <td>4.4</td>\n",
       "      <td>0.86</td>\n",
       "      <td>11</td>\n",
       "      <td>26.925381</td>\n",
       "    </tr>\n",
       "    <tr>\n",
       "      <th>31817</th>\n",
       "      <td>250</td>\n",
       "      <td>7</td>\n",
       "      <td>1010.5</td>\n",
       "      <td>30</td>\n",
       "      <td>3.1</td>\n",
       "      <td>0.77</td>\n",
       "      <td>3</td>\n",
       "      <td>27.306480</td>\n",
       "    </tr>\n",
       "    <tr>\n",
       "      <th>8487</th>\n",
       "      <td>80</td>\n",
       "      <td>2</td>\n",
       "      <td>1004.0</td>\n",
       "      <td>25</td>\n",
       "      <td>6.2</td>\n",
       "      <td>0.94</td>\n",
       "      <td>6</td>\n",
       "      <td>25.247458</td>\n",
       "    </tr>\n",
       "    <tr>\n",
       "      <th>80582</th>\n",
       "      <td>0</td>\n",
       "      <td>0</td>\n",
       "      <td>1013.2</td>\n",
       "      <td>25</td>\n",
       "      <td>6.2</td>\n",
       "      <td>0.72</td>\n",
       "      <td>2</td>\n",
       "      <td>27.105201</td>\n",
       "    </tr>\n",
       "    <tr>\n",
       "      <th>77758</th>\n",
       "      <td>180</td>\n",
       "      <td>4</td>\n",
       "      <td>1014.7</td>\n",
       "      <td>26</td>\n",
       "      <td>6.2</td>\n",
       "      <td>0.80</td>\n",
       "      <td>3</td>\n",
       "      <td>26.910860</td>\n",
       "    </tr>\n",
       "    <tr>\n",
       "      <th>26166</th>\n",
       "      <td>90</td>\n",
       "      <td>2</td>\n",
       "      <td>1009.3</td>\n",
       "      <td>26</td>\n",
       "      <td>0.9</td>\n",
       "      <td>0.83</td>\n",
       "      <td>12</td>\n",
       "      <td>26.599052</td>\n",
       "    </tr>\n",
       "    <tr>\n",
       "      <th>87356</th>\n",
       "      <td>0</td>\n",
       "      <td>0</td>\n",
       "      <td>1008.9</td>\n",
       "      <td>27</td>\n",
       "      <td>7.5</td>\n",
       "      <td>0.83</td>\n",
       "      <td>7</td>\n",
       "      <td>26.461618</td>\n",
       "    </tr>\n",
       "    <tr>\n",
       "      <th>71358</th>\n",
       "      <td>40</td>\n",
       "      <td>9</td>\n",
       "      <td>1011.5</td>\n",
       "      <td>27</td>\n",
       "      <td>6.2</td>\n",
       "      <td>0.80</td>\n",
       "      <td>11</td>\n",
       "      <td>27.890622</td>\n",
       "    </tr>\n",
       "    <tr>\n",
       "      <th>74292</th>\n",
       "      <td>110</td>\n",
       "      <td>4</td>\n",
       "      <td>1012.4</td>\n",
       "      <td>27</td>\n",
       "      <td>6.2</td>\n",
       "      <td>0.72</td>\n",
       "      <td>11</td>\n",
       "      <td>28.527177</td>\n",
       "    </tr>\n",
       "    <tr>\n",
       "      <th>73619</th>\n",
       "      <td>40</td>\n",
       "      <td>2</td>\n",
       "      <td>1009.0</td>\n",
       "      <td>26</td>\n",
       "      <td>5.0</td>\n",
       "      <td>0.91</td>\n",
       "      <td>9</td>\n",
       "      <td>25.705780</td>\n",
       "    </tr>\n",
       "  </tbody>\n",
       "</table>\n",
       "</div>"
      ],
      "text/plain": [
       "       wind_direction  wind_speed  sea_level_pressure  temperature  \\\n",
       "49084              90           7              1007.0           27   \n",
       "31817             250           7              1010.5           30   \n",
       "8487               80           2              1004.0           25   \n",
       "80582               0           0              1013.2           25   \n",
       "77758             180           4              1014.7           26   \n",
       "26166              90           2              1009.3           26   \n",
       "87356               0           0              1008.9           27   \n",
       "71358              40           9              1011.5           27   \n",
       "74292             110           4              1012.4           27   \n",
       "73619              40           2              1009.0           26   \n",
       "\n",
       "       visibility  humidity  month       pred  \n",
       "49084         4.4      0.86     11  26.925381  \n",
       "31817         3.1      0.77      3  27.306480  \n",
       "8487          6.2      0.94      6  25.247458  \n",
       "80582         6.2      0.72      2  27.105201  \n",
       "77758         6.2      0.80      3  26.910860  \n",
       "26166         0.9      0.83     12  26.599052  \n",
       "87356         7.5      0.83      7  26.461618  \n",
       "71358         6.2      0.80     11  27.890622  \n",
       "74292         6.2      0.72     11  28.527177  \n",
       "73619         5.0      0.91      9  25.705780  "
      ]
     },
     "execution_count": 276,
     "metadata": {},
     "output_type": "execute_result"
    }
   ],
   "source": [
    "weather['pred'] = predictions\n",
    "weather.sample(10)"
   ]
  },
  {
   "cell_type": "markdown",
   "id": "a98c7296-8749-43fd-a3b0-5f9f4302fdee",
   "metadata": {},
   "source": [
    "Computing for the MSE:"
   ]
  },
  {
   "cell_type": "code",
   "execution_count": 232,
   "id": "96bec72a-8b2f-4a74-b8cc-5ef31c699ed7",
   "metadata": {},
   "outputs": [],
   "source": [
    "from sklearn import metrics"
   ]
  },
  {
   "cell_type": "code",
   "execution_count": 241,
   "id": "363fd045-875b-4ace-b755-1ebb36c3cd28",
   "metadata": {},
   "outputs": [
    {
     "name": "stdout",
     "output_type": "stream",
     "text": [
      "MSE = 2.6591894020336486\n"
     ]
    }
   ],
   "source": [
    "print('MSE =', metrics.mean_squared_error(weather[\"temperature\"], weather['pred']))"
   ]
  },
  {
   "cell_type": "code",
   "execution_count": 243,
   "id": "d9176b7a-1cdd-49b9-8755-b68d8df8a7db",
   "metadata": {},
   "outputs": [
    {
     "name": "stdout",
     "output_type": "stream",
     "text": [
      "RMSE = 1.6307021193441948\n"
     ]
    }
   ],
   "source": [
    "print('RMSE =', np.sqrt(metrics.mean_squared_error(weather[\"temperature\"], weather['pred'])))"
   ]
  },
  {
   "cell_type": "markdown",
   "id": "58da04c7-17e8-4fe0-b261-6401ccda8b3e",
   "metadata": {},
   "source": [
    "# 6. Solve for the R^2 score of the linear model used to predict temperature."
   ]
  },
  {
   "cell_type": "code",
   "execution_count": 210,
   "id": "f7ec8dfe-825a-4b78-a420-6a6619f77c63",
   "metadata": {},
   "outputs": [],
   "source": [
    "from sklearn import metrics"
   ]
  },
  {
   "cell_type": "code",
   "execution_count": 229,
   "id": "0615d75e-1d31-4c00-9617-74b44a813fe0",
   "metadata": {},
   "outputs": [
    {
     "name": "stdout",
     "output_type": "stream",
     "text": [
      "R2 score:\n"
     ]
    },
    {
     "data": {
      "text/plain": [
       "0.4934953753747926"
      ]
     },
     "execution_count": 229,
     "metadata": {},
     "output_type": "execute_result"
    }
   ],
   "source": [
    "print('R2 score:')\n",
    "metrics.r2_score(weather['temperature'], weather['pred'])"
   ]
  },
  {
   "cell_type": "markdown",
   "id": "389a117c-dc05-4c60-af94-eb37a2edeca0",
   "metadata": {},
   "source": [
    "# 7. Identify if the model is a good model and why."
   ]
  },
  {
   "cell_type": "code",
   "execution_count": 245,
   "id": "b01be13a-aaf8-4607-9af6-4fb6a656763f",
   "metadata": {
    "jupyter": {
     "source_hidden": true
    },
    "tags": []
   },
   "outputs": [
    {
     "data": {
      "text/plain": [
       "Text(0.5, 1.0, 'Actual vs Predicted Temperature')"
      ]
     },
     "execution_count": 245,
     "metadata": {},
     "output_type": "execute_result"
    },
    {
     "data": {
      "image/png": "[encoded data removed]",
      "text/plain": [
       "<Figure size 576x576 with 1 Axes>"
      ]
     },
     "metadata": {},
     "output_type": "display_data"
    }
   ],
   "source": [
    "plt.figure(figsize=(8,8))\n",
    "\n",
    "\n",
    "plt.scatter(weather[\"temperature\"], linear_model.predict(X))\n",
    "plt.plot([0, 50], [0, 50], '--go')\n",
    "plt.xlabel(\"Actual Temperature: $Y_i$\")\n",
    "plt.ylabel(\"Predicted Temperature: $\\hat{Y}_i$\")\n",
    "plt.title(\"Actual vs Predicted Temperature\")"
   ]
  },
  {
   "cell_type": "markdown",
   "id": "5371e8e0-5c57-41ef-b8f9-edc319b94e3a",
   "metadata": {},
   "source": [
    "The plot above shows that the model had trouble predicting temperatures below 20°C and those above 40 °C. The histogram below shows that these temperatures are far from the mean temperature. This error in prediction is reflected by the model's `R2 score` of 0.49. It means that only 49% of the data fitted into the regression model."
   ]
  },
  {
   "cell_type": "code",
   "execution_count": 273,
   "id": "8b3a2c0d-3072-49e7-8e3b-09cd1ad320d5",
   "metadata": {
    "jupyter": {
     "source_hidden": true
    },
    "tags": []
   },
   "outputs": [
    {
     "data": {
      "text/plain": [
       "<matplotlib.lines.Line2D at 0x1dde8750880>"
      ]
     },
     "execution_count": 273,
     "metadata": {},
     "output_type": "execute_result"
    },
    {
     "data": {
      "image/png": "[encoded data removed]",
      "text/plain": [
       "<Figure size 576x432 with 1 Axes>"
      ]
     },
     "metadata": {},
     "output_type": "display_data"
    }
   ],
   "source": [
    "fig = plt.figure(figsize=(8,6))\n",
    "\n",
    "axes = fig.add_subplot()\n",
    "axes.hist(weather[\"temperature\"], bins = 55)\n",
    "axes.set_xlabel('Temperature')\n",
    "axes.set_ylabel('Frequency')\n",
    "axes.set_title('Temperature Histogram')\n",
    "axes.axvline(x=np.mean(weather['temperature']),color='r',ls='--')"
   ]
  },
  {
   "cell_type": "markdown",
   "id": "3110df57-025c-43c0-a4f4-8ee5d36f4748",
   "metadata": {
    "tags": []
   },
   "source": [
    "The linear regression model has low `MSE = 2.66`. Taking the square root of the MSE will give the root mean squared error (RMSE) which, in this case, is equal to `1.63 °C`. RMSE is the standard deviation of the residuals (how far the actual data is from the prediction data). RMSE measures how spread apart these residuals are. It is also an intuitively easy to understand metric since it has the same unit as the target variable. A value of `1.63 °C` for RMSE is a good value.\n",
    "\n",
    "All things considered, the model still performed well in predicting the target variable, especially in terms of `MSE` and `RMSE`. The `R2 score` is also not that bad. Considering that atmospheric temperature is driven by complex and multiple factors, I'd say that the **model is good** enough."
   ]
  }
 ],
 "metadata": {
  "kernelspec": {
   "display_name": "Python 3 (ipykernel)",
   "language": "python",
   "name": "python3"
  },
  "language_info": {
   "codemirror_mode": {
    "name": "ipython",
    "version": 3
   },
   "file_extension": ".py",
   "mimetype": "text/x-python",
   "name": "python",
   "nbconvert_exporter": "python",
   "pygments_lexer": "ipython3",
   "version": "3.8.13"
  }
 },
 "nbformat": 4,
 "nbformat_minor": 5
}
